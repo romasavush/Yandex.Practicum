{
 "cells": [
  {
   "cell_type": "markdown",
   "id": "c6d0f3c3",
   "metadata": {},
   "source": [
    "<div class=\"alert alert-info\"><big><b>Комментарий ревьюера</b></big><br>Привет, Роман! 👋<br><br> Ничего не поменялось, меня всё ещё зовут Дмитрий Кирсанов. <br><br>Комментарии всё ещё обозначены пометкой <b>Комментарий ревьюера</b> и всё ещё содержат описание <br><span class=\"alert-success\">✔️ хорошего, 👍 отличного, 📝 советов</span>,&nbsp;&nbsp;<span class=\"alert-warning\">📌 важного, ⚠️ замечаний, 💡 рекомендаций</span>,&nbsp;&nbsp;<span class=\"alert-danger\">🔧 доработок, 🚫 ошибок или 👀 вопросов.</span><br><br>Код, которым я предлагаю выделять твои комментарии:<br><code>&lt;div class=&quot;alert btn-primary&quot;&gt;&lt;b&gt;Комментарий студента:&lt;/b&gt;&lt;br&gt;   Ок   &lt;/div&gt;</code><br>Всё ещё просьба задавать вопросы и описывать изменения в проект.</div>"
   ]
  },
  {
   "cell_type": "markdown",
   "id": "0c2c9190",
   "metadata": {},
   "source": [
    "**Презентация**  \n",
    "https://disk.yandex.ru/i/DaqjbX5IFThDaQ\n"
   ]
  },
  {
   "cell_type": "markdown",
   "id": "4e3a9b7e",
   "metadata": {},
   "source": [
    "# Банки — Сегментация пользователей по потреблению  \n",
    "# Задача**:**\n",
    "\n",
    "Проанализируйте клиентов регионального банка и сегментируйте пользователей по количеству потребляемых продуктов.\n",
    "\n",
    "- Проведите исследовательский анализ данных,\n",
    "- Сегментируйте пользователей на основе данных о количестве потребляемых продуктов,\n",
    "- Сформулируйте и проверьте статистические гипотезы.\n",
    "    \n",
    "    *Проверьте гипотезу различия дохода между теми клиентами, которые пользуются двумя продуктами банка, и теми, которые пользуются одним.*\n",
    "    \n",
    "    *Сформулируйте и проверьте статистическую гипотезу относительно представленных данных.*"
   ]
  },
  {
   "cell_type": "code",
   "execution_count": 1,
   "id": "eb37fe7f",
   "metadata": {},
   "outputs": [],
   "source": [
    "import pandas as pd\n",
    "import seaborn as sns\n",
    "from datetime import date\n",
    "import matplotlib.pyplot as plt\n",
    "\n",
    "from scipy import stats as st\n",
    "import numpy as np\n",
    "import math as mth\n",
    "import plotly.express as px"
   ]
  },
  {
   "cell_type": "markdown",
   "id": "18f03245",
   "metadata": {},
   "source": [
    "<div class=\"alert alert-warning\"><b>Комментарий ревьюера</b>&nbsp;📝<br>\n",
    "Хорошо, что в начале работы помещаешь задачи работы, это позволит читателям быстрее понять, о чём работа. Хорошо, что заголовок содержит описание того умения, которое демонстрируется этой работой.\n",
    "\n",
    "Импорт библиотек в самом начале позволит быстро понять, какое окружение нужно для ноутбука. Такой код проще поддерживать.\n",
    "\n",
    "Если ты не используешь потом какие-то библиотеки или методы (datetime, math, plotly.express), их импорт можно закомментировать. Если передумаешь, то сможешь убрать пометки комментирования и всё снова заработает. \n",
    "\n",
    "<a href='https://pythonworld.ru/osnovy/pep-8-rukovodstvo-po-napisaniyu-koda-na-python.html'>Материал по импорту.</a> Также есть простые правила — не стоит импортировать дважды одно и то же, желательно разбивать импорт на группы (отделять друг от друга переносами строк и комментариями), при этом импорт стандартных библиотек стоит размещать в начале.\n",
    "</div>"
   ]
  },
  {
   "cell_type": "markdown",
   "id": "f3cabedd",
   "metadata": {},
   "source": [
    "## Предобработка данных"
   ]
  },
  {
   "cell_type": "code",
   "execution_count": 2,
   "id": "2e9727af",
   "metadata": {},
   "outputs": [
    {
     "data": {
      "text/html": [
       "<div>\n",
       "<style scoped>\n",
       "    .dataframe tbody tr th:only-of-type {\n",
       "        vertical-align: middle;\n",
       "    }\n",
       "\n",
       "    .dataframe tbody tr th {\n",
       "        vertical-align: top;\n",
       "    }\n",
       "\n",
       "    .dataframe thead th {\n",
       "        text-align: right;\n",
       "    }\n",
       "</style>\n",
       "<table border=\"1\" class=\"dataframe\">\n",
       "  <thead>\n",
       "    <tr style=\"text-align: right;\">\n",
       "      <th></th>\n",
       "      <th>userid</th>\n",
       "      <th>score</th>\n",
       "      <th>City</th>\n",
       "      <th>Gender</th>\n",
       "      <th>Age</th>\n",
       "      <th>Objects</th>\n",
       "      <th>Balance</th>\n",
       "      <th>Products</th>\n",
       "      <th>CreditCard</th>\n",
       "      <th>Loyalty</th>\n",
       "      <th>estimated_salary</th>\n",
       "      <th>Churn</th>\n",
       "    </tr>\n",
       "  </thead>\n",
       "  <tbody>\n",
       "    <tr>\n",
       "      <th>0</th>\n",
       "      <td>15677338</td>\n",
       "      <td>619</td>\n",
       "      <td>Ярославль</td>\n",
       "      <td>Ж</td>\n",
       "      <td>42</td>\n",
       "      <td>2</td>\n",
       "      <td>NaN</td>\n",
       "      <td>1</td>\n",
       "      <td>1</td>\n",
       "      <td>1</td>\n",
       "      <td>101348.88</td>\n",
       "      <td>1</td>\n",
       "    </tr>\n",
       "    <tr>\n",
       "      <th>1</th>\n",
       "      <td>15690047</td>\n",
       "      <td>608</td>\n",
       "      <td>Рыбинск</td>\n",
       "      <td>Ж</td>\n",
       "      <td>41</td>\n",
       "      <td>1</td>\n",
       "      <td>83807.86</td>\n",
       "      <td>1</td>\n",
       "      <td>0</td>\n",
       "      <td>1</td>\n",
       "      <td>112542.58</td>\n",
       "      <td>0</td>\n",
       "    </tr>\n",
       "    <tr>\n",
       "      <th>2</th>\n",
       "      <td>15662040</td>\n",
       "      <td>502</td>\n",
       "      <td>Ярославль</td>\n",
       "      <td>Ж</td>\n",
       "      <td>42</td>\n",
       "      <td>8</td>\n",
       "      <td>159660.80</td>\n",
       "      <td>3</td>\n",
       "      <td>1</td>\n",
       "      <td>0</td>\n",
       "      <td>113931.57</td>\n",
       "      <td>1</td>\n",
       "    </tr>\n",
       "    <tr>\n",
       "      <th>3</th>\n",
       "      <td>15744090</td>\n",
       "      <td>699</td>\n",
       "      <td>Ярославль</td>\n",
       "      <td>Ж</td>\n",
       "      <td>39</td>\n",
       "      <td>1</td>\n",
       "      <td>NaN</td>\n",
       "      <td>2</td>\n",
       "      <td>0</td>\n",
       "      <td>0</td>\n",
       "      <td>93826.63</td>\n",
       "      <td>0</td>\n",
       "    </tr>\n",
       "    <tr>\n",
       "      <th>4</th>\n",
       "      <td>15780624</td>\n",
       "      <td>850</td>\n",
       "      <td>Рыбинск</td>\n",
       "      <td>Ж</td>\n",
       "      <td>43</td>\n",
       "      <td>2</td>\n",
       "      <td>125510.82</td>\n",
       "      <td>1</td>\n",
       "      <td>1</td>\n",
       "      <td>1</td>\n",
       "      <td>79084.10</td>\n",
       "      <td>0</td>\n",
       "    </tr>\n",
       "  </tbody>\n",
       "</table>\n",
       "</div>"
      ],
      "text/plain": [
       "     userid  score       City Gender  Age  Objects    Balance  Products  \\\n",
       "0  15677338    619  Ярославль      Ж   42        2        NaN         1   \n",
       "1  15690047    608    Рыбинск      Ж   41        1   83807.86         1   \n",
       "2  15662040    502  Ярославль      Ж   42        8  159660.80         3   \n",
       "3  15744090    699  Ярославль      Ж   39        1        NaN         2   \n",
       "4  15780624    850    Рыбинск      Ж   43        2  125510.82         1   \n",
       "\n",
       "   CreditCard  Loyalty  estimated_salary  Churn  \n",
       "0           1        1         101348.88      1  \n",
       "1           0        1         112542.58      0  \n",
       "2           1        0         113931.57      1  \n",
       "3           0        0          93826.63      0  \n",
       "4           1        1          79084.10      0  "
      ]
     },
     "metadata": {},
     "output_type": "display_data"
    },
    {
     "name": "stdout",
     "output_type": "stream",
     "text": [
      "<class 'pandas.core.frame.DataFrame'>\n",
      "RangeIndex: 10000 entries, 0 to 9999\n",
      "Data columns (total 12 columns):\n",
      " #   Column            Non-Null Count  Dtype  \n",
      "---  ------            --------------  -----  \n",
      " 0   userid            10000 non-null  int64  \n",
      " 1   score             10000 non-null  int64  \n",
      " 2   City              10000 non-null  object \n",
      " 3   Gender            10000 non-null  object \n",
      " 4   Age               10000 non-null  int64  \n",
      " 5   Objects           10000 non-null  int64  \n",
      " 6   Balance           6383 non-null   float64\n",
      " 7   Products          10000 non-null  int64  \n",
      " 8   CreditCard        10000 non-null  int64  \n",
      " 9   Loyalty           10000 non-null  int64  \n",
      " 10  estimated_salary  10000 non-null  float64\n",
      " 11  Churn             10000 non-null  int64  \n",
      "dtypes: float64(2), int64(8), object(2)\n",
      "memory usage: 937.6+ KB\n"
     ]
    }
   ],
   "source": [
    "bank_data = pd.read_csv('/datasets/bank_dataset.csv', sep=',')\n",
    "display(bank_data.head())\n",
    "bank_data.info()"
   ]
  },
  {
   "cell_type": "markdown",
   "id": "38cb1807",
   "metadata": {},
   "source": [
    "Всего 10000 строк в каждом столбце, кроме Balance. Пропуски есть только в нем.  \n",
    "Все типы данных корректны. \n",
    "Пропуски могли возникнуть при выгрузке датасета или клиент заморозил свой счет или данные о балансе счета клиента могут быть конфиденциальны, напрмиер это сотрудник этого банка и у нас нет доступа к такой информации, так же могут быть сотрудниками спец служб или в/ч которые находятся в этих городах(Ярославль и Рыбинск)\n"
   ]
  },
  {
   "cell_type": "markdown",
   "id": "87059b42",
   "metadata": {},
   "source": [
    "<div class=\"alert alert-warning\"><b>Комментарий ревьюера</b>&nbsp;⚠️<br>\n",
    "Стоит выводы о том, что пропуски жёстко связаны с географией помещать после кода, которым ты это обнаруживаешь.\n",
    "</div>"
   ]
  },
  {
   "cell_type": "code",
   "execution_count": 3,
   "id": "318c95dc",
   "metadata": {
    "scrolled": false
   },
   "outputs": [
    {
     "data": {
      "text/html": [
       "<div>\n",
       "<style scoped>\n",
       "    .dataframe tbody tr th:only-of-type {\n",
       "        vertical-align: middle;\n",
       "    }\n",
       "\n",
       "    .dataframe tbody tr th {\n",
       "        vertical-align: top;\n",
       "    }\n",
       "\n",
       "    .dataframe thead th {\n",
       "        text-align: right;\n",
       "    }\n",
       "</style>\n",
       "<table border=\"1\" class=\"dataframe\">\n",
       "  <thead>\n",
       "    <tr style=\"text-align: right;\">\n",
       "      <th></th>\n",
       "      <th>userid</th>\n",
       "      <th>score</th>\n",
       "      <th>Age</th>\n",
       "      <th>Objects</th>\n",
       "      <th>Balance</th>\n",
       "      <th>Products</th>\n",
       "      <th>CreditCard</th>\n",
       "      <th>Loyalty</th>\n",
       "      <th>estimated_salary</th>\n",
       "      <th>Churn</th>\n",
       "    </tr>\n",
       "  </thead>\n",
       "  <tbody>\n",
       "    <tr>\n",
       "      <th>count</th>\n",
       "      <td>1.000000e+04</td>\n",
       "      <td>10000.000000</td>\n",
       "      <td>10000.000000</td>\n",
       "      <td>10000.000000</td>\n",
       "      <td>6383.000000</td>\n",
       "      <td>10000.000000</td>\n",
       "      <td>10000.00000</td>\n",
       "      <td>10000.000000</td>\n",
       "      <td>10000.000000</td>\n",
       "      <td>10000.000000</td>\n",
       "    </tr>\n",
       "    <tr>\n",
       "      <th>mean</th>\n",
       "      <td>1.573368e+07</td>\n",
       "      <td>650.528800</td>\n",
       "      <td>38.921800</td>\n",
       "      <td>5.012800</td>\n",
       "      <td>119827.493793</td>\n",
       "      <td>1.530200</td>\n",
       "      <td>0.70550</td>\n",
       "      <td>0.515100</td>\n",
       "      <td>100090.239881</td>\n",
       "      <td>0.203700</td>\n",
       "    </tr>\n",
       "    <tr>\n",
       "      <th>std</th>\n",
       "      <td>7.193619e+04</td>\n",
       "      <td>96.653299</td>\n",
       "      <td>10.487806</td>\n",
       "      <td>2.892174</td>\n",
       "      <td>30095.056462</td>\n",
       "      <td>0.581654</td>\n",
       "      <td>0.45584</td>\n",
       "      <td>0.499797</td>\n",
       "      <td>57510.492818</td>\n",
       "      <td>0.402769</td>\n",
       "    </tr>\n",
       "    <tr>\n",
       "      <th>min</th>\n",
       "      <td>1.560844e+07</td>\n",
       "      <td>350.000000</td>\n",
       "      <td>18.000000</td>\n",
       "      <td>0.000000</td>\n",
       "      <td>3768.690000</td>\n",
       "      <td>1.000000</td>\n",
       "      <td>0.00000</td>\n",
       "      <td>0.000000</td>\n",
       "      <td>11.580000</td>\n",
       "      <td>0.000000</td>\n",
       "    </tr>\n",
       "    <tr>\n",
       "      <th>25%</th>\n",
       "      <td>1.567126e+07</td>\n",
       "      <td>584.000000</td>\n",
       "      <td>32.000000</td>\n",
       "      <td>3.000000</td>\n",
       "      <td>100181.975000</td>\n",
       "      <td>1.000000</td>\n",
       "      <td>0.00000</td>\n",
       "      <td>0.000000</td>\n",
       "      <td>51002.110000</td>\n",
       "      <td>0.000000</td>\n",
       "    </tr>\n",
       "    <tr>\n",
       "      <th>50%</th>\n",
       "      <td>1.573347e+07</td>\n",
       "      <td>652.000000</td>\n",
       "      <td>37.000000</td>\n",
       "      <td>5.000000</td>\n",
       "      <td>119839.690000</td>\n",
       "      <td>1.000000</td>\n",
       "      <td>1.00000</td>\n",
       "      <td>1.000000</td>\n",
       "      <td>100193.915000</td>\n",
       "      <td>0.000000</td>\n",
       "    </tr>\n",
       "    <tr>\n",
       "      <th>75%</th>\n",
       "      <td>1.579597e+07</td>\n",
       "      <td>718.000000</td>\n",
       "      <td>44.000000</td>\n",
       "      <td>7.000000</td>\n",
       "      <td>139512.290000</td>\n",
       "      <td>2.000000</td>\n",
       "      <td>1.00000</td>\n",
       "      <td>1.000000</td>\n",
       "      <td>149388.247500</td>\n",
       "      <td>0.000000</td>\n",
       "    </tr>\n",
       "    <tr>\n",
       "      <th>max</th>\n",
       "      <td>1.585843e+07</td>\n",
       "      <td>850.000000</td>\n",
       "      <td>92.000000</td>\n",
       "      <td>10.000000</td>\n",
       "      <td>250898.090000</td>\n",
       "      <td>4.000000</td>\n",
       "      <td>1.00000</td>\n",
       "      <td>1.000000</td>\n",
       "      <td>199992.480000</td>\n",
       "      <td>1.000000</td>\n",
       "    </tr>\n",
       "  </tbody>\n",
       "</table>\n",
       "</div>"
      ],
      "text/plain": [
       "             userid         score           Age       Objects        Balance  \\\n",
       "count  1.000000e+04  10000.000000  10000.000000  10000.000000    6383.000000   \n",
       "mean   1.573368e+07    650.528800     38.921800      5.012800  119827.493793   \n",
       "std    7.193619e+04     96.653299     10.487806      2.892174   30095.056462   \n",
       "min    1.560844e+07    350.000000     18.000000      0.000000    3768.690000   \n",
       "25%    1.567126e+07    584.000000     32.000000      3.000000  100181.975000   \n",
       "50%    1.573347e+07    652.000000     37.000000      5.000000  119839.690000   \n",
       "75%    1.579597e+07    718.000000     44.000000      7.000000  139512.290000   \n",
       "max    1.585843e+07    850.000000     92.000000     10.000000  250898.090000   \n",
       "\n",
       "           Products   CreditCard       Loyalty  estimated_salary         Churn  \n",
       "count  10000.000000  10000.00000  10000.000000      10000.000000  10000.000000  \n",
       "mean       1.530200      0.70550      0.515100     100090.239881      0.203700  \n",
       "std        0.581654      0.45584      0.499797      57510.492818      0.402769  \n",
       "min        1.000000      0.00000      0.000000         11.580000      0.000000  \n",
       "25%        1.000000      0.00000      0.000000      51002.110000      0.000000  \n",
       "50%        1.000000      1.00000      1.000000     100193.915000      0.000000  \n",
       "75%        2.000000      1.00000      1.000000     149388.247500      0.000000  \n",
       "max        4.000000      1.00000      1.000000     199992.480000      1.000000  "
      ]
     },
     "execution_count": 3,
     "metadata": {},
     "output_type": "execute_result"
    }
   ],
   "source": [
    "bank_data.describe()"
   ]
  },
  {
   "cell_type": "markdown",
   "id": "945052ae",
   "metadata": {},
   "source": [
    "* Средний кредитный рейтинг 650\n",
    "* Средний возраст 38\n",
    "* Среднее количество объектов в собственности 5\n",
    "* Средний баланс на счёте 119827 у.е. ( из тех у кого указан баланс)\n",
    "* Среднее количество продуктов, которыми пользуется клиент 1.5\n",
    "* В среднем у 70% клиентов есть кредитные карты\n",
    "* 52% активных клиентов\n",
    "* Средняя заработная плата клиента 100090 у.е.\n",
    "* 20% клиентов ушли из банка"
   ]
  },
  {
   "cell_type": "code",
   "execution_count": 4,
   "id": "eb35e574",
   "metadata": {},
   "outputs": [
    {
     "data": {
      "text/html": [
       "<div>\n",
       "<style scoped>\n",
       "    .dataframe tbody tr th:only-of-type {\n",
       "        vertical-align: middle;\n",
       "    }\n",
       "\n",
       "    .dataframe tbody tr th {\n",
       "        vertical-align: top;\n",
       "    }\n",
       "\n",
       "    .dataframe thead th {\n",
       "        text-align: right;\n",
       "    }\n",
       "</style>\n",
       "<table border=\"1\" class=\"dataframe\">\n",
       "  <thead>\n",
       "    <tr style=\"text-align: right;\">\n",
       "      <th></th>\n",
       "      <th>userid</th>\n",
       "      <th>score</th>\n",
       "      <th>city</th>\n",
       "      <th>gender</th>\n",
       "      <th>age</th>\n",
       "      <th>objects</th>\n",
       "      <th>balance</th>\n",
       "      <th>products</th>\n",
       "      <th>creditcard</th>\n",
       "      <th>loyalty</th>\n",
       "      <th>estimated_salary</th>\n",
       "      <th>churn</th>\n",
       "    </tr>\n",
       "  </thead>\n",
       "  <tbody>\n",
       "    <tr>\n",
       "      <th>0</th>\n",
       "      <td>15677338</td>\n",
       "      <td>619</td>\n",
       "      <td>Ярославль</td>\n",
       "      <td>Ж</td>\n",
       "      <td>42</td>\n",
       "      <td>2</td>\n",
       "      <td>NaN</td>\n",
       "      <td>1</td>\n",
       "      <td>1</td>\n",
       "      <td>1</td>\n",
       "      <td>101348.88</td>\n",
       "      <td>1</td>\n",
       "    </tr>\n",
       "    <tr>\n",
       "      <th>1</th>\n",
       "      <td>15690047</td>\n",
       "      <td>608</td>\n",
       "      <td>Рыбинск</td>\n",
       "      <td>Ж</td>\n",
       "      <td>41</td>\n",
       "      <td>1</td>\n",
       "      <td>83807.86</td>\n",
       "      <td>1</td>\n",
       "      <td>0</td>\n",
       "      <td>1</td>\n",
       "      <td>112542.58</td>\n",
       "      <td>0</td>\n",
       "    </tr>\n",
       "    <tr>\n",
       "      <th>2</th>\n",
       "      <td>15662040</td>\n",
       "      <td>502</td>\n",
       "      <td>Ярославль</td>\n",
       "      <td>Ж</td>\n",
       "      <td>42</td>\n",
       "      <td>8</td>\n",
       "      <td>159660.80</td>\n",
       "      <td>3</td>\n",
       "      <td>1</td>\n",
       "      <td>0</td>\n",
       "      <td>113931.57</td>\n",
       "      <td>1</td>\n",
       "    </tr>\n",
       "    <tr>\n",
       "      <th>3</th>\n",
       "      <td>15744090</td>\n",
       "      <td>699</td>\n",
       "      <td>Ярославль</td>\n",
       "      <td>Ж</td>\n",
       "      <td>39</td>\n",
       "      <td>1</td>\n",
       "      <td>NaN</td>\n",
       "      <td>2</td>\n",
       "      <td>0</td>\n",
       "      <td>0</td>\n",
       "      <td>93826.63</td>\n",
       "      <td>0</td>\n",
       "    </tr>\n",
       "    <tr>\n",
       "      <th>4</th>\n",
       "      <td>15780624</td>\n",
       "      <td>850</td>\n",
       "      <td>Рыбинск</td>\n",
       "      <td>Ж</td>\n",
       "      <td>43</td>\n",
       "      <td>2</td>\n",
       "      <td>125510.82</td>\n",
       "      <td>1</td>\n",
       "      <td>1</td>\n",
       "      <td>1</td>\n",
       "      <td>79084.10</td>\n",
       "      <td>0</td>\n",
       "    </tr>\n",
       "  </tbody>\n",
       "</table>\n",
       "</div>"
      ],
      "text/plain": [
       "     userid  score       city gender  age  objects    balance  products  \\\n",
       "0  15677338    619  Ярославль      Ж   42        2        NaN         1   \n",
       "1  15690047    608    Рыбинск      Ж   41        1   83807.86         1   \n",
       "2  15662040    502  Ярославль      Ж   42        8  159660.80         3   \n",
       "3  15744090    699  Ярославль      Ж   39        1        NaN         2   \n",
       "4  15780624    850    Рыбинск      Ж   43        2  125510.82         1   \n",
       "\n",
       "   creditcard  loyalty  estimated_salary  churn  \n",
       "0           1        1         101348.88      1  \n",
       "1           0        1         112542.58      0  \n",
       "2           1        0         113931.57      1  \n",
       "3           0        0          93826.63      0  \n",
       "4           1        1          79084.10      0  "
      ]
     },
     "execution_count": 4,
     "metadata": {},
     "output_type": "execute_result"
    }
   ],
   "source": [
    "bank_data.columns = bank_data.columns.str.lower()\n",
    "bank_data.head()"
   ]
  },
  {
   "cell_type": "code",
   "execution_count": 5,
   "id": "7c164778",
   "metadata": {
    "scrolled": true
   },
   "outputs": [
    {
     "data": {
      "text/html": [
       "<div>\n",
       "<style scoped>\n",
       "    .dataframe tbody tr th:only-of-type {\n",
       "        vertical-align: middle;\n",
       "    }\n",
       "\n",
       "    .dataframe tbody tr th {\n",
       "        vertical-align: top;\n",
       "    }\n",
       "\n",
       "    .dataframe thead th {\n",
       "        text-align: right;\n",
       "    }\n",
       "</style>\n",
       "<table border=\"1\" class=\"dataframe\">\n",
       "  <thead>\n",
       "    <tr style=\"text-align: right;\">\n",
       "      <th></th>\n",
       "      <th>userid</th>\n",
       "      <th>score</th>\n",
       "      <th>age</th>\n",
       "      <th>objects</th>\n",
       "      <th>balance</th>\n",
       "      <th>products</th>\n",
       "      <th>creditcard</th>\n",
       "      <th>loyalty</th>\n",
       "      <th>estimated_salary</th>\n",
       "    </tr>\n",
       "    <tr>\n",
       "      <th>churn</th>\n",
       "      <th></th>\n",
       "      <th></th>\n",
       "      <th></th>\n",
       "      <th></th>\n",
       "      <th></th>\n",
       "      <th></th>\n",
       "      <th></th>\n",
       "      <th></th>\n",
       "      <th></th>\n",
       "    </tr>\n",
       "  </thead>\n",
       "  <tbody>\n",
       "    <tr>\n",
       "      <th>0</th>\n",
       "      <td>1.573390e+07</td>\n",
       "      <td>651.853196</td>\n",
       "      <td>37.408389</td>\n",
       "      <td>5.033279</td>\n",
       "      <td>119535.864270</td>\n",
       "      <td>1.544267</td>\n",
       "      <td>0.707146</td>\n",
       "      <td>0.554565</td>\n",
       "      <td>99738.391772</td>\n",
       "    </tr>\n",
       "    <tr>\n",
       "      <th>1</th>\n",
       "      <td>1.573279e+07</td>\n",
       "      <td>645.351497</td>\n",
       "      <td>44.837997</td>\n",
       "      <td>4.932744</td>\n",
       "      <td>120746.971132</td>\n",
       "      <td>1.475209</td>\n",
       "      <td>0.699067</td>\n",
       "      <td>0.360825</td>\n",
       "      <td>101465.677531</td>\n",
       "    </tr>\n",
       "  </tbody>\n",
       "</table>\n",
       "</div>"
      ],
      "text/plain": [
       "             userid       score        age   objects        balance  products  \\\n",
       "churn                                                                           \n",
       "0      1.573390e+07  651.853196  37.408389  5.033279  119535.864270  1.544267   \n",
       "1      1.573279e+07  645.351497  44.837997  4.932744  120746.971132  1.475209   \n",
       "\n",
       "       creditcard   loyalty  estimated_salary  \n",
       "churn                                          \n",
       "0        0.707146  0.554565      99738.391772  \n",
       "1        0.699067  0.360825     101465.677531  "
      ]
     },
     "execution_count": 5,
     "metadata": {},
     "output_type": "execute_result"
    }
   ],
   "source": [
    "bank_data.groupby('churn').agg('mean')"
   ]
  },
  {
   "cell_type": "markdown",
   "id": "43a2c27e",
   "metadata": {},
   "source": [
    "* Средний возраст ушедших клиентов 45 лет\n",
    "* Средний возраст кто остался 37 лет  \n",
    "Остальные признаки сильно не отличаеются у оттока и тех, кто остался"
   ]
  },
  {
   "cell_type": "markdown",
   "id": "f6d9cba9",
   "metadata": {},
   "source": [
    "<div class=\"alert alert-warning\"><b>Комментарий ревьюера</b>&nbsp;🔧<br>\n",
    "Чтобы получить нормальные результаты, <span class=\"alert-danger\">тут надо было закодировать пол</span> и город, последний — при помощи <a href='https://habr.com/ru/post/666234/'>one-hot кодирования</a>, проще всего это сделать при помощи <tt>pandas.get_dummies</tt>. \n",
    "    \n",
    "Основное направления нашего исследования — продукты — также можно было бы таким образом закодировать.\n",
    "</div>"
   ]
  },
  {
   "cell_type": "code",
   "execution_count": 6,
   "id": "112c3a11",
   "metadata": {
    "scrolled": false
   },
   "outputs": [
    {
     "data": {
      "text/html": [
       "<div>\n",
       "<style scoped>\n",
       "    .dataframe tbody tr th:only-of-type {\n",
       "        vertical-align: middle;\n",
       "    }\n",
       "\n",
       "    .dataframe tbody tr th {\n",
       "        vertical-align: top;\n",
       "    }\n",
       "\n",
       "    .dataframe thead th {\n",
       "        text-align: right;\n",
       "    }\n",
       "</style>\n",
       "<table border=\"1\" class=\"dataframe\">\n",
       "  <thead>\n",
       "    <tr style=\"text-align: right;\">\n",
       "      <th></th>\n",
       "      <th>count</th>\n",
       "      <th>mean</th>\n",
       "      <th>std</th>\n",
       "      <th>min</th>\n",
       "      <th>25%</th>\n",
       "      <th>50%</th>\n",
       "      <th>75%</th>\n",
       "      <th>max</th>\n",
       "    </tr>\n",
       "    <tr>\n",
       "      <th>churn</th>\n",
       "      <th></th>\n",
       "      <th></th>\n",
       "      <th></th>\n",
       "      <th></th>\n",
       "      <th></th>\n",
       "      <th></th>\n",
       "      <th></th>\n",
       "      <th></th>\n",
       "    </tr>\n",
       "  </thead>\n",
       "  <tbody>\n",
       "    <tr>\n",
       "      <th>0</th>\n",
       "      <td>7963.0</td>\n",
       "      <td>37.408389</td>\n",
       "      <td>10.125363</td>\n",
       "      <td>18.0</td>\n",
       "      <td>31.0</td>\n",
       "      <td>36.0</td>\n",
       "      <td>41.0</td>\n",
       "      <td>92.0</td>\n",
       "    </tr>\n",
       "    <tr>\n",
       "      <th>1</th>\n",
       "      <td>2037.0</td>\n",
       "      <td>44.837997</td>\n",
       "      <td>9.761562</td>\n",
       "      <td>18.0</td>\n",
       "      <td>38.0</td>\n",
       "      <td>45.0</td>\n",
       "      <td>51.0</td>\n",
       "      <td>84.0</td>\n",
       "    </tr>\n",
       "  </tbody>\n",
       "</table>\n",
       "</div>"
      ],
      "text/plain": [
       "        count       mean        std   min   25%   50%   75%   max\n",
       "churn                                                            \n",
       "0      7963.0  37.408389  10.125363  18.0  31.0  36.0  41.0  92.0\n",
       "1      2037.0  44.837997   9.761562  18.0  38.0  45.0  51.0  84.0"
      ]
     },
     "execution_count": 6,
     "metadata": {},
     "output_type": "execute_result"
    }
   ],
   "source": [
    "bank_data.groupby('churn')['age'].agg('describe')"
   ]
  },
  {
   "cell_type": "code",
   "execution_count": 7,
   "id": "7a61833d",
   "metadata": {},
   "outputs": [
    {
     "data": {
      "text/plain": [
       "0         (37.0, 44.0]\n",
       "1         (37.0, 44.0]\n",
       "2         (37.0, 44.0]\n",
       "3         (37.0, 44.0]\n",
       "4         (37.0, 44.0]\n",
       "             ...      \n",
       "9995      (37.0, 44.0]\n",
       "9996      (32.0, 37.0]\n",
       "9997      (32.0, 37.0]\n",
       "9998      (37.0, 44.0]\n",
       "9999    (17.999, 32.0]\n",
       "Name: age, Length: 10000, dtype: category\n",
       "Categories (4, interval[float64]): [(17.999, 32.0] < (32.0, 37.0] < (37.0, 44.0] < (44.0, 92.0]]"
      ]
     },
     "execution_count": 7,
     "metadata": {},
     "output_type": "execute_result"
    }
   ],
   "source": [
    "pd.qcut(bank_data['age'], q=4)"
   ]
  },
  {
   "cell_type": "code",
   "execution_count": 8,
   "id": "da2f799d",
   "metadata": {},
   "outputs": [],
   "source": [
    "bank_data['q_age'] = pd.qcut(bank_data['age'], q=4)"
   ]
  },
  {
   "cell_type": "code",
   "execution_count": 9,
   "id": "2f7c573c",
   "metadata": {},
   "outputs": [
    {
     "data": {
      "text/plain": [
       "(17.999, 32.0]    2790\n",
       "(37.0, 44.0]      2573\n",
       "(44.0, 92.0]      2340\n",
       "(32.0, 37.0]      2297\n",
       "Name: q_age, dtype: int64"
      ]
     },
     "execution_count": 9,
     "metadata": {},
     "output_type": "execute_result"
    }
   ],
   "source": [
    "bank_data['q_age'].value_counts()"
   ]
  },
  {
   "cell_type": "code",
   "execution_count": 10,
   "id": "bf3b5a84",
   "metadata": {
    "scrolled": true
   },
   "outputs": [
    {
     "data": {
      "text/html": [
       "<div>\n",
       "<style scoped>\n",
       "    .dataframe tbody tr th:only-of-type {\n",
       "        vertical-align: middle;\n",
       "    }\n",
       "\n",
       "    .dataframe tbody tr th {\n",
       "        vertical-align: top;\n",
       "    }\n",
       "\n",
       "    .dataframe thead th {\n",
       "        text-align: right;\n",
       "    }\n",
       "</style>\n",
       "<table border=\"1\" class=\"dataframe\">\n",
       "  <thead>\n",
       "    <tr style=\"text-align: right;\">\n",
       "      <th></th>\n",
       "      <th>userid</th>\n",
       "      <th>score</th>\n",
       "      <th>city</th>\n",
       "      <th>gender</th>\n",
       "      <th>age</th>\n",
       "      <th>objects</th>\n",
       "      <th>balance</th>\n",
       "      <th>products</th>\n",
       "      <th>creditcard</th>\n",
       "      <th>loyalty</th>\n",
       "      <th>estimated_salary</th>\n",
       "      <th>churn</th>\n",
       "      <th>q_age</th>\n",
       "      <th>q2_age</th>\n",
       "    </tr>\n",
       "  </thead>\n",
       "  <tbody>\n",
       "    <tr>\n",
       "      <th>0</th>\n",
       "      <td>15677338</td>\n",
       "      <td>619</td>\n",
       "      <td>Ярославль</td>\n",
       "      <td>Ж</td>\n",
       "      <td>42</td>\n",
       "      <td>2</td>\n",
       "      <td>NaN</td>\n",
       "      <td>1</td>\n",
       "      <td>1</td>\n",
       "      <td>1</td>\n",
       "      <td>101348.88</td>\n",
       "      <td>1</td>\n",
       "      <td>(37.0, 44.0]</td>\n",
       "      <td>38-44</td>\n",
       "    </tr>\n",
       "    <tr>\n",
       "      <th>1</th>\n",
       "      <td>15690047</td>\n",
       "      <td>608</td>\n",
       "      <td>Рыбинск</td>\n",
       "      <td>Ж</td>\n",
       "      <td>41</td>\n",
       "      <td>1</td>\n",
       "      <td>83807.86</td>\n",
       "      <td>1</td>\n",
       "      <td>0</td>\n",
       "      <td>1</td>\n",
       "      <td>112542.58</td>\n",
       "      <td>0</td>\n",
       "      <td>(37.0, 44.0]</td>\n",
       "      <td>38-44</td>\n",
       "    </tr>\n",
       "    <tr>\n",
       "      <th>2</th>\n",
       "      <td>15662040</td>\n",
       "      <td>502</td>\n",
       "      <td>Ярославль</td>\n",
       "      <td>Ж</td>\n",
       "      <td>42</td>\n",
       "      <td>8</td>\n",
       "      <td>159660.80</td>\n",
       "      <td>3</td>\n",
       "      <td>1</td>\n",
       "      <td>0</td>\n",
       "      <td>113931.57</td>\n",
       "      <td>1</td>\n",
       "      <td>(37.0, 44.0]</td>\n",
       "      <td>38-44</td>\n",
       "    </tr>\n",
       "    <tr>\n",
       "      <th>3</th>\n",
       "      <td>15744090</td>\n",
       "      <td>699</td>\n",
       "      <td>Ярославль</td>\n",
       "      <td>Ж</td>\n",
       "      <td>39</td>\n",
       "      <td>1</td>\n",
       "      <td>NaN</td>\n",
       "      <td>2</td>\n",
       "      <td>0</td>\n",
       "      <td>0</td>\n",
       "      <td>93826.63</td>\n",
       "      <td>0</td>\n",
       "      <td>(37.0, 44.0]</td>\n",
       "      <td>38-44</td>\n",
       "    </tr>\n",
       "    <tr>\n",
       "      <th>4</th>\n",
       "      <td>15780624</td>\n",
       "      <td>850</td>\n",
       "      <td>Рыбинск</td>\n",
       "      <td>Ж</td>\n",
       "      <td>43</td>\n",
       "      <td>2</td>\n",
       "      <td>125510.82</td>\n",
       "      <td>1</td>\n",
       "      <td>1</td>\n",
       "      <td>1</td>\n",
       "      <td>79084.10</td>\n",
       "      <td>0</td>\n",
       "      <td>(37.0, 44.0]</td>\n",
       "      <td>38-44</td>\n",
       "    </tr>\n",
       "  </tbody>\n",
       "</table>\n",
       "</div>"
      ],
      "text/plain": [
       "     userid  score       city gender  age  objects    balance  products  \\\n",
       "0  15677338    619  Ярославль      Ж   42        2        NaN         1   \n",
       "1  15690047    608    Рыбинск      Ж   41        1   83807.86         1   \n",
       "2  15662040    502  Ярославль      Ж   42        8  159660.80         3   \n",
       "3  15744090    699  Ярославль      Ж   39        1        NaN         2   \n",
       "4  15780624    850    Рыбинск      Ж   43        2  125510.82         1   \n",
       "\n",
       "   creditcard  loyalty  estimated_salary  churn         q_age q2_age  \n",
       "0           1        1         101348.88      1  (37.0, 44.0]  38-44  \n",
       "1           0        1         112542.58      0  (37.0, 44.0]  38-44  \n",
       "2           1        0         113931.57      1  (37.0, 44.0]  38-44  \n",
       "3           0        0          93826.63      0  (37.0, 44.0]  38-44  \n",
       "4           1        1          79084.10      0  (37.0, 44.0]  38-44  "
      ]
     },
     "execution_count": 10,
     "metadata": {},
     "output_type": "execute_result"
    }
   ],
   "source": [
    "bin_labels_4 = ['18-32', '33-37', '38-44', '45-92']\n",
    "\n",
    "bank_data['q2_age'] = pd.qcut(bank_data['age'],\n",
    "                              q=[0, .25, .5, .75, 1],\n",
    "                              labels=bin_labels_4)\n",
    "bank_data.head()"
   ]
  },
  {
   "cell_type": "code",
   "execution_count": 11,
   "id": "5aa41c03",
   "metadata": {
    "scrolled": true
   },
   "outputs": [
    {
     "data": {
      "text/plain": [
       "q2_age\n",
       "18-32    0.076344\n",
       "33-37    0.108402\n",
       "38-44    0.206374\n",
       "45-92    0.446154\n",
       "Name: churn, dtype: float64"
      ]
     },
     "execution_count": 11,
     "metadata": {},
     "output_type": "execute_result"
    }
   ],
   "source": [
    "bank_data.groupby('q2_age')['churn'].agg('mean')"
   ]
  },
  {
   "cell_type": "markdown",
   "id": "25487efc",
   "metadata": {},
   "source": [
    "**В сегменте возраст 45-92, 45% клиентов ушли в отток, что намного выше среднего оттока в 20%  \n",
    "Возраст 18-32 всего 7% отток  \n",
    "Возраст 33-37 10% отток  \n",
    "Возраст 38-44 21% отток, что очень близко к среднему оттоку в 20%**"
   ]
  },
  {
   "cell_type": "code",
   "execution_count": 12,
   "id": "d2274b07",
   "metadata": {},
   "outputs": [
    {
     "data": {
      "text/html": [
       "<div>\n",
       "<style scoped>\n",
       "    .dataframe tbody tr th:only-of-type {\n",
       "        vertical-align: middle;\n",
       "    }\n",
       "\n",
       "    .dataframe tbody tr th {\n",
       "        vertical-align: top;\n",
       "    }\n",
       "\n",
       "    .dataframe thead th {\n",
       "        text-align: right;\n",
       "    }\n",
       "</style>\n",
       "<table border=\"1\" class=\"dataframe\">\n",
       "  <thead>\n",
       "    <tr style=\"text-align: right;\">\n",
       "      <th></th>\n",
       "      <th>userid</th>\n",
       "      <th>score</th>\n",
       "      <th>age</th>\n",
       "      <th>objects</th>\n",
       "      <th>balance</th>\n",
       "      <th>products</th>\n",
       "      <th>creditcard</th>\n",
       "      <th>loyalty</th>\n",
       "      <th>estimated_salary</th>\n",
       "      <th>churn</th>\n",
       "      <th>q_age</th>\n",
       "      <th>q2_age</th>\n",
       "      <th>gender_Ж</th>\n",
       "      <th>gender_М</th>\n",
       "      <th>city_Ростов Великий</th>\n",
       "      <th>city_Рыбинск</th>\n",
       "      <th>city_Ярославль</th>\n",
       "    </tr>\n",
       "  </thead>\n",
       "  <tbody>\n",
       "    <tr>\n",
       "      <th>0</th>\n",
       "      <td>15677338</td>\n",
       "      <td>619</td>\n",
       "      <td>42</td>\n",
       "      <td>2</td>\n",
       "      <td>NaN</td>\n",
       "      <td>1</td>\n",
       "      <td>1</td>\n",
       "      <td>1</td>\n",
       "      <td>101348.88</td>\n",
       "      <td>1</td>\n",
       "      <td>(37.0, 44.0]</td>\n",
       "      <td>38-44</td>\n",
       "      <td>1</td>\n",
       "      <td>0</td>\n",
       "      <td>0</td>\n",
       "      <td>0</td>\n",
       "      <td>1</td>\n",
       "    </tr>\n",
       "    <tr>\n",
       "      <th>1</th>\n",
       "      <td>15690047</td>\n",
       "      <td>608</td>\n",
       "      <td>41</td>\n",
       "      <td>1</td>\n",
       "      <td>83807.86</td>\n",
       "      <td>1</td>\n",
       "      <td>0</td>\n",
       "      <td>1</td>\n",
       "      <td>112542.58</td>\n",
       "      <td>0</td>\n",
       "      <td>(37.0, 44.0]</td>\n",
       "      <td>38-44</td>\n",
       "      <td>1</td>\n",
       "      <td>0</td>\n",
       "      <td>0</td>\n",
       "      <td>1</td>\n",
       "      <td>0</td>\n",
       "    </tr>\n",
       "    <tr>\n",
       "      <th>2</th>\n",
       "      <td>15662040</td>\n",
       "      <td>502</td>\n",
       "      <td>42</td>\n",
       "      <td>8</td>\n",
       "      <td>159660.80</td>\n",
       "      <td>3</td>\n",
       "      <td>1</td>\n",
       "      <td>0</td>\n",
       "      <td>113931.57</td>\n",
       "      <td>1</td>\n",
       "      <td>(37.0, 44.0]</td>\n",
       "      <td>38-44</td>\n",
       "      <td>1</td>\n",
       "      <td>0</td>\n",
       "      <td>0</td>\n",
       "      <td>0</td>\n",
       "      <td>1</td>\n",
       "    </tr>\n",
       "    <tr>\n",
       "      <th>3</th>\n",
       "      <td>15744090</td>\n",
       "      <td>699</td>\n",
       "      <td>39</td>\n",
       "      <td>1</td>\n",
       "      <td>NaN</td>\n",
       "      <td>2</td>\n",
       "      <td>0</td>\n",
       "      <td>0</td>\n",
       "      <td>93826.63</td>\n",
       "      <td>0</td>\n",
       "      <td>(37.0, 44.0]</td>\n",
       "      <td>38-44</td>\n",
       "      <td>1</td>\n",
       "      <td>0</td>\n",
       "      <td>0</td>\n",
       "      <td>0</td>\n",
       "      <td>1</td>\n",
       "    </tr>\n",
       "    <tr>\n",
       "      <th>4</th>\n",
       "      <td>15780624</td>\n",
       "      <td>850</td>\n",
       "      <td>43</td>\n",
       "      <td>2</td>\n",
       "      <td>125510.82</td>\n",
       "      <td>1</td>\n",
       "      <td>1</td>\n",
       "      <td>1</td>\n",
       "      <td>79084.10</td>\n",
       "      <td>0</td>\n",
       "      <td>(37.0, 44.0]</td>\n",
       "      <td>38-44</td>\n",
       "      <td>1</td>\n",
       "      <td>0</td>\n",
       "      <td>0</td>\n",
       "      <td>1</td>\n",
       "      <td>0</td>\n",
       "    </tr>\n",
       "  </tbody>\n",
       "</table>\n",
       "</div>"
      ],
      "text/plain": [
       "     userid  score  age  objects    balance  products  creditcard  loyalty  \\\n",
       "0  15677338    619   42        2        NaN         1           1        1   \n",
       "1  15690047    608   41        1   83807.86         1           0        1   \n",
       "2  15662040    502   42        8  159660.80         3           1        0   \n",
       "3  15744090    699   39        1        NaN         2           0        0   \n",
       "4  15780624    850   43        2  125510.82         1           1        1   \n",
       "\n",
       "   estimated_salary  churn         q_age q2_age  gender_Ж  gender_М  \\\n",
       "0         101348.88      1  (37.0, 44.0]  38-44         1         0   \n",
       "1         112542.58      0  (37.0, 44.0]  38-44         1         0   \n",
       "2         113931.57      1  (37.0, 44.0]  38-44         1         0   \n",
       "3          93826.63      0  (37.0, 44.0]  38-44         1         0   \n",
       "4          79084.10      0  (37.0, 44.0]  38-44         1         0   \n",
       "\n",
       "   city_Ростов Великий  city_Рыбинск  city_Ярославль  \n",
       "0                    0             0               1  \n",
       "1                    0             1               0  \n",
       "2                    0             0               1  \n",
       "3                    0             0               1  \n",
       "4                    0             1               0  "
      ]
     },
     "execution_count": 12,
     "metadata": {},
     "output_type": "execute_result"
    }
   ],
   "source": [
    "bank_data_corr = pd.get_dummies(bank_data, columns=['gender','city'])\n",
    "bank_data_corr.head()"
   ]
  },
  {
   "cell_type": "code",
   "execution_count": 13,
   "id": "a27e099f",
   "metadata": {
    "scrolled": true
   },
   "outputs": [
    {
     "data": {
      "text/plain": [
       "city\n",
       "Ростов Великий    0.324432\n",
       "Рыбинск           0.166734\n",
       "Ярославль         0.161548\n",
       "Name: churn, dtype: float64"
      ]
     },
     "execution_count": 13,
     "metadata": {},
     "output_type": "execute_result"
    }
   ],
   "source": [
    "bank_data.groupby('city')['churn'].agg('mean')"
   ]
  },
  {
   "cell_type": "markdown",
   "id": "26f2874e",
   "metadata": {},
   "source": [
    "**32% клиентов из Ростова ушли в отток, что намного выше среднего оттока  20%  \n",
    "Отток в Рыбинске и Ярославле по 16%**"
   ]
  },
  {
   "cell_type": "code",
   "execution_count": 14,
   "id": "82b82366",
   "metadata": {},
   "outputs": [
    {
     "data": {
      "text/plain": [
       "products\n",
       "1    0.277144\n",
       "2    0.075817\n",
       "3    0.827068\n",
       "4    1.000000\n",
       "Name: churn, dtype: float64"
      ]
     },
     "execution_count": 14,
     "metadata": {},
     "output_type": "execute_result"
    }
   ],
   "source": [
    "bank_data.groupby('products')['churn'].agg('mean')"
   ]
  },
  {
   "cell_type": "markdown",
   "id": "6f5bf786",
   "metadata": {},
   "source": [
    "**Клиенты с 1 продуктом - отток 28%  \n",
    "с 2 - отток 8%  \n",
    "с 3 - отток 83%  \n",
    "с 4 - отток 100%**"
   ]
  },
  {
   "cell_type": "code",
   "execution_count": 15,
   "id": "e0717d76",
   "metadata": {
    "scrolled": true
   },
   "outputs": [
    {
     "data": {
      "text/plain": [
       "gender\n",
       "Ж    0.250715\n",
       "М    0.164559\n",
       "Name: churn, dtype: float64"
      ]
     },
     "execution_count": 15,
     "metadata": {},
     "output_type": "execute_result"
    }
   ],
   "source": [
    "bank_data.groupby('gender')['churn'].agg('mean')"
   ]
  },
  {
   "cell_type": "code",
   "execution_count": 16,
   "id": "7bed49df",
   "metadata": {},
   "outputs": [
    {
     "data": {
      "text/plain": [
       "loyalty\n",
       "0    0.268509\n",
       "1    0.142691\n",
       "Name: churn, dtype: float64"
      ]
     },
     "execution_count": 16,
     "metadata": {},
     "output_type": "execute_result"
    }
   ],
   "source": [
    "bank_data.groupby('loyalty')['churn'].agg('mean')"
   ]
  },
  {
   "cell_type": "code",
   "execution_count": 17,
   "id": "9876dd48",
   "metadata": {
    "scrolled": true
   },
   "outputs": [
    {
     "name": "stdout",
     "output_type": "stream",
     "text": [
      "<class 'pandas.core.frame.DataFrame'>\n",
      "RangeIndex: 10000 entries, 0 to 9999\n",
      "Data columns (total 14 columns):\n",
      " #   Column            Non-Null Count  Dtype   \n",
      "---  ------            --------------  -----   \n",
      " 0   userid            10000 non-null  int64   \n",
      " 1   score             10000 non-null  int64   \n",
      " 2   city              10000 non-null  object  \n",
      " 3   gender            10000 non-null  object  \n",
      " 4   age               10000 non-null  int64   \n",
      " 5   objects           10000 non-null  int64   \n",
      " 6   balance           6383 non-null   float64 \n",
      " 7   products          10000 non-null  int64   \n",
      " 8   creditcard        10000 non-null  int64   \n",
      " 9   loyalty           10000 non-null  int64   \n",
      " 10  estimated_salary  10000 non-null  float64 \n",
      " 11  churn             10000 non-null  int64   \n",
      " 12  q_age             10000 non-null  category\n",
      " 13  q2_age            10000 non-null  category\n",
      "dtypes: category(2), float64(2), int64(8), object(2)\n",
      "memory usage: 957.6+ KB\n"
     ]
    }
   ],
   "source": [
    "#bank_data['balance'] = bank_data['balance'].fillna(0)\n",
    "bank_data.info()"
   ]
  },
  {
   "cell_type": "markdown",
   "id": "4cd0dd3b",
   "metadata": {},
   "source": [
    "<div class=\"alert alert-warning\">📝 В рамках дизайн-ориентированного подхода к пропущенным данным аналитики, которые имеют доступ к информации о том, как собирались данные, оценивают пропуски на отношение к одной из трёх категорий: <ul>\n",
    "<li>MCAR (Missing Completely At Random / Отсутствует совершенно случайно) — пропуски не зависят от переменных и не ведут к систематической ошибке (смещение, bias), но увеличивают случайную ошибку (разброс, variance).</li>\n",
    "<li>MAR (Missing At Random / Отсутствует случайно) — в рамках каждой из групп, которая есть в описываемой данными совокупности, распределение пропусков случайно, можно их отбрасывать.</li>\n",
    "<li>MNAR (Missing Not At Random / Отсутствует не случайно) — пропуски зависят от данных, их нельзя отбрасывать, т.к. это приведёт к заметным искажениям.</li></ul>\n",
    "\n",
    "<span class=\"alert-danger\">🚫 В данном случае у тебя выше есть выводы о том, что пропуски зависят от данных (от города), при этом ты никак не мотивируешь произведённую замену. Так делать нельзя. Для графиков и для корреляций нам тут не требуется ничего заменять.</span>\n",
    "</div>"
   ]
  },
  {
   "cell_type": "code",
   "execution_count": 18,
   "id": "ef74063c",
   "metadata": {},
   "outputs": [
    {
     "data": {
      "text/html": [
       "<div>\n",
       "<style scoped>\n",
       "    .dataframe tbody tr th:only-of-type {\n",
       "        vertical-align: middle;\n",
       "    }\n",
       "\n",
       "    .dataframe tbody tr th {\n",
       "        vertical-align: top;\n",
       "    }\n",
       "\n",
       "    .dataframe thead th {\n",
       "        text-align: right;\n",
       "    }\n",
       "</style>\n",
       "<table border=\"1\" class=\"dataframe\">\n",
       "  <thead>\n",
       "    <tr style=\"text-align: right;\">\n",
       "      <th></th>\n",
       "      <th>userid</th>\n",
       "      <th>score</th>\n",
       "      <th>city</th>\n",
       "      <th>gender</th>\n",
       "      <th>age</th>\n",
       "      <th>objects</th>\n",
       "      <th>balance</th>\n",
       "      <th>products</th>\n",
       "      <th>creditcard</th>\n",
       "      <th>loyalty</th>\n",
       "      <th>estimated_salary</th>\n",
       "      <th>churn</th>\n",
       "      <th>q_age</th>\n",
       "      <th>q2_age</th>\n",
       "    </tr>\n",
       "  </thead>\n",
       "  <tbody>\n",
       "  </tbody>\n",
       "</table>\n",
       "</div>"
      ],
      "text/plain": [
       "Empty DataFrame\n",
       "Columns: [userid, score, city, gender, age, objects, balance, products, creditcard, loyalty, estimated_salary, churn, q_age, q2_age]\n",
       "Index: []"
      ]
     },
     "execution_count": 18,
     "metadata": {},
     "output_type": "execute_result"
    }
   ],
   "source": [
    "bank_data[bank_data.duplicated()]"
   ]
  },
  {
   "cell_type": "code",
   "execution_count": 19,
   "id": "0566ec87",
   "metadata": {
    "scrolled": true
   },
   "outputs": [
    {
     "data": {
      "text/html": [
       "<div>\n",
       "<style scoped>\n",
       "    .dataframe tbody tr th:only-of-type {\n",
       "        vertical-align: middle;\n",
       "    }\n",
       "\n",
       "    .dataframe tbody tr th {\n",
       "        vertical-align: top;\n",
       "    }\n",
       "\n",
       "    .dataframe thead th {\n",
       "        text-align: right;\n",
       "    }\n",
       "</style>\n",
       "<table border=\"1\" class=\"dataframe\">\n",
       "  <thead>\n",
       "    <tr style=\"text-align: right;\">\n",
       "      <th></th>\n",
       "      <th>userid</th>\n",
       "      <th>score</th>\n",
       "      <th>age</th>\n",
       "      <th>objects</th>\n",
       "      <th>balance</th>\n",
       "      <th>products</th>\n",
       "      <th>creditcard</th>\n",
       "      <th>loyalty</th>\n",
       "      <th>estimated_salary</th>\n",
       "      <th>churn</th>\n",
       "    </tr>\n",
       "  </thead>\n",
       "  <tbody>\n",
       "    <tr>\n",
       "      <th>count</th>\n",
       "      <td>1.000000e+04</td>\n",
       "      <td>10000.000000</td>\n",
       "      <td>10000.000000</td>\n",
       "      <td>10000.000000</td>\n",
       "      <td>6383.000000</td>\n",
       "      <td>10000.000000</td>\n",
       "      <td>10000.00000</td>\n",
       "      <td>10000.000000</td>\n",
       "      <td>10000.000000</td>\n",
       "      <td>10000.000000</td>\n",
       "    </tr>\n",
       "    <tr>\n",
       "      <th>mean</th>\n",
       "      <td>1.573368e+07</td>\n",
       "      <td>650.528800</td>\n",
       "      <td>38.921800</td>\n",
       "      <td>5.012800</td>\n",
       "      <td>119827.493793</td>\n",
       "      <td>1.530200</td>\n",
       "      <td>0.70550</td>\n",
       "      <td>0.515100</td>\n",
       "      <td>100090.239881</td>\n",
       "      <td>0.203700</td>\n",
       "    </tr>\n",
       "    <tr>\n",
       "      <th>std</th>\n",
       "      <td>7.193619e+04</td>\n",
       "      <td>96.653299</td>\n",
       "      <td>10.487806</td>\n",
       "      <td>2.892174</td>\n",
       "      <td>30095.056462</td>\n",
       "      <td>0.581654</td>\n",
       "      <td>0.45584</td>\n",
       "      <td>0.499797</td>\n",
       "      <td>57510.492818</td>\n",
       "      <td>0.402769</td>\n",
       "    </tr>\n",
       "    <tr>\n",
       "      <th>min</th>\n",
       "      <td>1.560844e+07</td>\n",
       "      <td>350.000000</td>\n",
       "      <td>18.000000</td>\n",
       "      <td>0.000000</td>\n",
       "      <td>3768.690000</td>\n",
       "      <td>1.000000</td>\n",
       "      <td>0.00000</td>\n",
       "      <td>0.000000</td>\n",
       "      <td>11.580000</td>\n",
       "      <td>0.000000</td>\n",
       "    </tr>\n",
       "    <tr>\n",
       "      <th>25%</th>\n",
       "      <td>1.567126e+07</td>\n",
       "      <td>584.000000</td>\n",
       "      <td>32.000000</td>\n",
       "      <td>3.000000</td>\n",
       "      <td>100181.975000</td>\n",
       "      <td>1.000000</td>\n",
       "      <td>0.00000</td>\n",
       "      <td>0.000000</td>\n",
       "      <td>51002.110000</td>\n",
       "      <td>0.000000</td>\n",
       "    </tr>\n",
       "    <tr>\n",
       "      <th>50%</th>\n",
       "      <td>1.573347e+07</td>\n",
       "      <td>652.000000</td>\n",
       "      <td>37.000000</td>\n",
       "      <td>5.000000</td>\n",
       "      <td>119839.690000</td>\n",
       "      <td>1.000000</td>\n",
       "      <td>1.00000</td>\n",
       "      <td>1.000000</td>\n",
       "      <td>100193.915000</td>\n",
       "      <td>0.000000</td>\n",
       "    </tr>\n",
       "    <tr>\n",
       "      <th>75%</th>\n",
       "      <td>1.579597e+07</td>\n",
       "      <td>718.000000</td>\n",
       "      <td>44.000000</td>\n",
       "      <td>7.000000</td>\n",
       "      <td>139512.290000</td>\n",
       "      <td>2.000000</td>\n",
       "      <td>1.00000</td>\n",
       "      <td>1.000000</td>\n",
       "      <td>149388.247500</td>\n",
       "      <td>0.000000</td>\n",
       "    </tr>\n",
       "    <tr>\n",
       "      <th>max</th>\n",
       "      <td>1.585843e+07</td>\n",
       "      <td>850.000000</td>\n",
       "      <td>92.000000</td>\n",
       "      <td>10.000000</td>\n",
       "      <td>250898.090000</td>\n",
       "      <td>4.000000</td>\n",
       "      <td>1.00000</td>\n",
       "      <td>1.000000</td>\n",
       "      <td>199992.480000</td>\n",
       "      <td>1.000000</td>\n",
       "    </tr>\n",
       "  </tbody>\n",
       "</table>\n",
       "</div>"
      ],
      "text/plain": [
       "             userid         score           age       objects        balance  \\\n",
       "count  1.000000e+04  10000.000000  10000.000000  10000.000000    6383.000000   \n",
       "mean   1.573368e+07    650.528800     38.921800      5.012800  119827.493793   \n",
       "std    7.193619e+04     96.653299     10.487806      2.892174   30095.056462   \n",
       "min    1.560844e+07    350.000000     18.000000      0.000000    3768.690000   \n",
       "25%    1.567126e+07    584.000000     32.000000      3.000000  100181.975000   \n",
       "50%    1.573347e+07    652.000000     37.000000      5.000000  119839.690000   \n",
       "75%    1.579597e+07    718.000000     44.000000      7.000000  139512.290000   \n",
       "max    1.585843e+07    850.000000     92.000000     10.000000  250898.090000   \n",
       "\n",
       "           products   creditcard       loyalty  estimated_salary         churn  \n",
       "count  10000.000000  10000.00000  10000.000000      10000.000000  10000.000000  \n",
       "mean       1.530200      0.70550      0.515100     100090.239881      0.203700  \n",
       "std        0.581654      0.45584      0.499797      57510.492818      0.402769  \n",
       "min        1.000000      0.00000      0.000000         11.580000      0.000000  \n",
       "25%        1.000000      0.00000      0.000000      51002.110000      0.000000  \n",
       "50%        1.000000      1.00000      1.000000     100193.915000      0.000000  \n",
       "75%        2.000000      1.00000      1.000000     149388.247500      0.000000  \n",
       "max        4.000000      1.00000      1.000000     199992.480000      1.000000  "
      ]
     },
     "execution_count": 19,
     "metadata": {},
     "output_type": "execute_result"
    }
   ],
   "source": [
    "bank_data.describe()"
   ]
  },
  {
   "cell_type": "markdown",
   "id": "979a9e3f",
   "metadata": {},
   "source": [
    "<div class=\"alert alert-warning\"><b>Комментарий ревьюера</b>&nbsp;⚠️<br>\n",
    "Нужны минимальные выводы при подготовке данных.\n",
    "</div>"
   ]
  },
  {
   "cell_type": "markdown",
   "id": "1aff3520",
   "metadata": {},
   "source": [
    "## Исследовательский анализ данных"
   ]
  },
  {
   "cell_type": "code",
   "execution_count": 20,
   "id": "1fa9780f",
   "metadata": {
    "scrolled": true
   },
   "outputs": [
    {
     "data": {
      "text/html": [
       "<div>\n",
       "<style scoped>\n",
       "    .dataframe tbody tr th:only-of-type {\n",
       "        vertical-align: middle;\n",
       "    }\n",
       "\n",
       "    .dataframe tbody tr th {\n",
       "        vertical-align: top;\n",
       "    }\n",
       "\n",
       "    .dataframe thead th {\n",
       "        text-align: right;\n",
       "    }\n",
       "</style>\n",
       "<table border=\"1\" class=\"dataframe\">\n",
       "  <thead>\n",
       "    <tr style=\"text-align: right;\">\n",
       "      <th></th>\n",
       "      <th>userid</th>\n",
       "      <th>score</th>\n",
       "      <th>age</th>\n",
       "      <th>objects</th>\n",
       "      <th>balance</th>\n",
       "      <th>products</th>\n",
       "      <th>creditcard</th>\n",
       "      <th>loyalty</th>\n",
       "      <th>estimated_salary</th>\n",
       "    </tr>\n",
       "    <tr>\n",
       "      <th>churn</th>\n",
       "      <th></th>\n",
       "      <th></th>\n",
       "      <th></th>\n",
       "      <th></th>\n",
       "      <th></th>\n",
       "      <th></th>\n",
       "      <th></th>\n",
       "      <th></th>\n",
       "      <th></th>\n",
       "    </tr>\n",
       "  </thead>\n",
       "  <tbody>\n",
       "    <tr>\n",
       "      <th>0</th>\n",
       "      <td>1.573390e+07</td>\n",
       "      <td>651.853196</td>\n",
       "      <td>37.408389</td>\n",
       "      <td>5.033279</td>\n",
       "      <td>119535.864270</td>\n",
       "      <td>1.544267</td>\n",
       "      <td>0.707146</td>\n",
       "      <td>0.554565</td>\n",
       "      <td>99738.391772</td>\n",
       "    </tr>\n",
       "    <tr>\n",
       "      <th>1</th>\n",
       "      <td>1.573279e+07</td>\n",
       "      <td>645.351497</td>\n",
       "      <td>44.837997</td>\n",
       "      <td>4.932744</td>\n",
       "      <td>120746.971132</td>\n",
       "      <td>1.475209</td>\n",
       "      <td>0.699067</td>\n",
       "      <td>0.360825</td>\n",
       "      <td>101465.677531</td>\n",
       "    </tr>\n",
       "  </tbody>\n",
       "</table>\n",
       "</div>"
      ],
      "text/plain": [
       "             userid       score        age   objects        balance  products  \\\n",
       "churn                                                                           \n",
       "0      1.573390e+07  651.853196  37.408389  5.033279  119535.864270  1.544267   \n",
       "1      1.573279e+07  645.351497  44.837997  4.932744  120746.971132  1.475209   \n",
       "\n",
       "       creditcard   loyalty  estimated_salary  \n",
       "churn                                          \n",
       "0        0.707146  0.554565      99738.391772  \n",
       "1        0.699067  0.360825     101465.677531  "
      ]
     },
     "execution_count": 20,
     "metadata": {},
     "output_type": "execute_result"
    }
   ],
   "source": [
    "bank_data.groupby('churn').agg('mean')"
   ]
  },
  {
   "cell_type": "markdown",
   "id": "6cb3dbdb",
   "metadata": {},
   "source": [
    "После заполнения пропусков в балансе 0, среднее значение баланса больше снизилось у тех кто остался, чем у тех кто ушел\n",
    "Соответственно большая часть пропусков у клиентов, которые остались в банке"
   ]
  },
  {
   "cell_type": "code",
   "execution_count": 21,
   "id": "9da3465d",
   "metadata": {},
   "outputs": [],
   "source": [
    "columns = bank_data.drop(columns=['churn'])\n",
    "def hist(df, columns):\n",
    "    for i in columns:\n",
    "        plt.figure(figsize =(14, 5))\n",
    "        sns.histplot(data=bank_data, x=bank_data[i], hue=\"churn\")\n",
    "        plt.title('Распределение признака {}'.format(i))\n",
    "        plt.xlabel('Значение')\n",
    "        plt.ylabel('Колличество')\n",
    "        plt.grid() \n",
    "        plt.show() "
   ]
  },
  {
   "cell_type": "code",
   "execution_count": 22,
   "id": "67a209a8",
   "metadata": {
    "scrolled": false
   },
   "outputs": [
    {
     "data": {
      "image/png": "[encoded data removed]",
      "text/plain": [
       "<Figure size 1008x360 with 1 Axes>"
      ]
     },
     "metadata": {
      "needs_background": "light"
     },
     "output_type": "display_data"
    },
    {
     "data": {
      "image/png": "[encoded data removed]",
      "text/plain": [
       "<Figure size 1008x360 with 1 Axes>"
      ]
     },
     "metadata": {
      "needs_background": "light"
     },
     "output_type": "display_data"
    },
    {
     "data": {
      "image/png": "[encoded data removed]",
      "text/plain": [
       "<Figure size 1008x360 with 1 Axes>"
      ]
     },
     "metadata": {
      "needs_background": "light"
     },
     "output_type": "display_data"
    },
    {
     "data": {
      "image/png": "[encoded data removed]",
      "text/plain": [
       "<Figure size 1008x360 with 1 Axes>"
      ]
     },
     "metadata": {
      "needs_background": "light"
     },
     "output_type": "display_data"
    },
    {
     "data": {
      "image/png": "[encoded data removed]",
      "text/plain": [
       "<Figure size 1008x360 with 1 Axes>"
      ]
     },
     "metadata": {
      "needs_background": "light"
     },
     "output_type": "display_data"
    },
    {
     "data": {
      "image/png": "[encoded data removed]",
      "text/plain": [
       "<Figure size 1008x360 with 1 Axes>"
      ]
     },
     "metadata": {
      "needs_background": "light"
     },
     "output_type": "display_data"
    },
    {
     "data": {
      "image/png": "[encoded data removed]",
      "text/plain": [
       "<Figure size 1008x360 with 1 Axes>"
      ]
     },
     "metadata": {
      "needs_background": "light"
     },
     "output_type": "display_data"
    },
    {
     "data": {
      "image/png": "[encoded data removed]",
      "text/plain": [
       "<Figure size 1008x360 with 1 Axes>"
      ]
     },
     "metadata": {
      "needs_background": "light"
     },
     "output_type": "display_data"
    },
    {
     "data": {
      "image/png": "[encoded data removed]",
      "text/plain": [
       "<Figure size 1008x360 with 1 Axes>"
      ]
     },
     "metadata": {
      "needs_background": "light"
     },
     "output_type": "display_data"
    },
    {
     "data": {
      "image/png": "[encoded data removed]",
      "text/plain": [
       "<Figure size 1008x360 with 1 Axes>"
      ]
     },
     "metadata": {
      "needs_background": "light"
     },
     "output_type": "display_data"
    },
    {
     "data": {
      "image/png": "[encoded data removed]",
      "text/plain": [
       "<Figure size 1008x360 with 1 Axes>"
      ]
     },
     "metadata": {
      "needs_background": "light"
     },
     "output_type": "display_data"
    },
    {
     "ename": "TypeError",
     "evalue": "unsupported operand type(s) for -: 'pandas._libs.interval.Interval' and 'pandas._libs.interval.Interval'",
     "output_type": "error",
     "traceback": [
      "\u001b[0;31m---------------------------------------------------------------------------\u001b[0m",
      "\u001b[0;31mTypeError\u001b[0m                                 Traceback (most recent call last)",
      "\u001b[0;32m/tmp/ipykernel_136/4172181302.py\u001b[0m in \u001b[0;36m<module>\u001b[0;34m\u001b[0m\n\u001b[0;32m----> 1\u001b[0;31m \u001b[0mhist\u001b[0m\u001b[0;34m(\u001b[0m\u001b[0mbank_data\u001b[0m\u001b[0;34m,\u001b[0m \u001b[0mcolumns\u001b[0m\u001b[0;34m)\u001b[0m\u001b[0;34m\u001b[0m\u001b[0;34m\u001b[0m\u001b[0m\n\u001b[0m",
      "\u001b[0;32m/tmp/ipykernel_136/2006748861.py\u001b[0m in \u001b[0;36mhist\u001b[0;34m(df, columns)\u001b[0m\n\u001b[1;32m      3\u001b[0m     \u001b[0;32mfor\u001b[0m \u001b[0mi\u001b[0m \u001b[0;32min\u001b[0m \u001b[0mcolumns\u001b[0m\u001b[0;34m:\u001b[0m\u001b[0;34m\u001b[0m\u001b[0;34m\u001b[0m\u001b[0m\n\u001b[1;32m      4\u001b[0m         \u001b[0mplt\u001b[0m\u001b[0;34m.\u001b[0m\u001b[0mfigure\u001b[0m\u001b[0;34m(\u001b[0m\u001b[0mfigsize\u001b[0m \u001b[0;34m=\u001b[0m\u001b[0;34m(\u001b[0m\u001b[0;36m14\u001b[0m\u001b[0;34m,\u001b[0m \u001b[0;36m5\u001b[0m\u001b[0;34m)\u001b[0m\u001b[0;34m)\u001b[0m\u001b[0;34m\u001b[0m\u001b[0;34m\u001b[0m\u001b[0m\n\u001b[0;32m----> 5\u001b[0;31m         \u001b[0msns\u001b[0m\u001b[0;34m.\u001b[0m\u001b[0mhistplot\u001b[0m\u001b[0;34m(\u001b[0m\u001b[0mdata\u001b[0m\u001b[0;34m=\u001b[0m\u001b[0mbank_data\u001b[0m\u001b[0;34m,\u001b[0m \u001b[0mx\u001b[0m\u001b[0;34m=\u001b[0m\u001b[0mbank_data\u001b[0m\u001b[0;34m[\u001b[0m\u001b[0mi\u001b[0m\u001b[0;34m]\u001b[0m\u001b[0;34m,\u001b[0m \u001b[0mhue\u001b[0m\u001b[0;34m=\u001b[0m\u001b[0;34m\"churn\"\u001b[0m\u001b[0;34m)\u001b[0m\u001b[0;34m\u001b[0m\u001b[0;34m\u001b[0m\u001b[0m\n\u001b[0m\u001b[1;32m      6\u001b[0m         \u001b[0mplt\u001b[0m\u001b[0;34m.\u001b[0m\u001b[0mtitle\u001b[0m\u001b[0;34m(\u001b[0m\u001b[0;34m'Распределение признака {}'\u001b[0m\u001b[0;34m.\u001b[0m\u001b[0mformat\u001b[0m\u001b[0;34m(\u001b[0m\u001b[0mi\u001b[0m\u001b[0;34m)\u001b[0m\u001b[0;34m)\u001b[0m\u001b[0;34m\u001b[0m\u001b[0;34m\u001b[0m\u001b[0m\n\u001b[1;32m      7\u001b[0m         \u001b[0mplt\u001b[0m\u001b[0;34m.\u001b[0m\u001b[0mxlabel\u001b[0m\u001b[0;34m(\u001b[0m\u001b[0;34m'Значение'\u001b[0m\u001b[0;34m)\u001b[0m\u001b[0;34m\u001b[0m\u001b[0;34m\u001b[0m\u001b[0m\n",
      "\u001b[0;32m/opt/conda/lib/python3.9/site-packages/seaborn/distributions.py\u001b[0m in \u001b[0;36mhistplot\u001b[0;34m(data, x, y, hue, weights, stat, bins, binwidth, binrange, discrete, cumulative, common_bins, common_norm, multiple, element, fill, shrink, kde, kde_kws, line_kws, thresh, pthresh, pmax, cbar, cbar_ax, cbar_kws, palette, hue_order, hue_norm, color, log_scale, legend, ax, **kwargs)\u001b[0m\n\u001b[1;32m   1421\u001b[0m     \u001b[0;32mif\u001b[0m \u001b[0mp\u001b[0m\u001b[0;34m.\u001b[0m\u001b[0munivariate\u001b[0m\u001b[0;34m:\u001b[0m\u001b[0;34m\u001b[0m\u001b[0;34m\u001b[0m\u001b[0m\n\u001b[1;32m   1422\u001b[0m \u001b[0;34m\u001b[0m\u001b[0m\n\u001b[0;32m-> 1423\u001b[0;31m         p.plot_univariate_histogram(\n\u001b[0m\u001b[1;32m   1424\u001b[0m             \u001b[0mmultiple\u001b[0m\u001b[0;34m=\u001b[0m\u001b[0mmultiple\u001b[0m\u001b[0;34m,\u001b[0m\u001b[0;34m\u001b[0m\u001b[0;34m\u001b[0m\u001b[0m\n\u001b[1;32m   1425\u001b[0m             \u001b[0melement\u001b[0m\u001b[0;34m=\u001b[0m\u001b[0melement\u001b[0m\u001b[0;34m,\u001b[0m\u001b[0;34m\u001b[0m\u001b[0;34m\u001b[0m\u001b[0m\n",
      "\u001b[0;32m/opt/conda/lib/python3.9/site-packages/seaborn/distributions.py\u001b[0m in \u001b[0;36mplot_univariate_histogram\u001b[0;34m(self, multiple, element, fill, common_norm, common_bins, shrink, kde, kde_kws, color, legend, line_kws, estimate_kws, **plot_kws)\u001b[0m\n\u001b[1;32m    392\u001b[0m             \u001b[0;32mif\u001b[0m \u001b[0mcommon_bins\u001b[0m\u001b[0;34m:\u001b[0m\u001b[0;34m\u001b[0m\u001b[0;34m\u001b[0m\u001b[0m\n\u001b[1;32m    393\u001b[0m                 \u001b[0mall_observations\u001b[0m \u001b[0;34m=\u001b[0m \u001b[0mall_data\u001b[0m\u001b[0;34m[\u001b[0m\u001b[0mself\u001b[0m\u001b[0;34m.\u001b[0m\u001b[0mdata_variable\u001b[0m\u001b[0;34m]\u001b[0m\u001b[0;34m\u001b[0m\u001b[0;34m\u001b[0m\u001b[0m\n\u001b[0;32m--> 394\u001b[0;31m                 estimator.define_bin_edges(\n\u001b[0m\u001b[1;32m    395\u001b[0m                     \u001b[0mall_observations\u001b[0m\u001b[0;34m,\u001b[0m\u001b[0;34m\u001b[0m\u001b[0;34m\u001b[0m\u001b[0m\n\u001b[1;32m    396\u001b[0m                     \u001b[0mweights\u001b[0m\u001b[0;34m=\u001b[0m\u001b[0mall_data\u001b[0m\u001b[0;34m.\u001b[0m\u001b[0mget\u001b[0m\u001b[0;34m(\u001b[0m\u001b[0;34m\"weights\"\u001b[0m\u001b[0;34m,\u001b[0m \u001b[0;32mNone\u001b[0m\u001b[0;34m)\u001b[0m\u001b[0;34m,\u001b[0m\u001b[0;34m\u001b[0m\u001b[0;34m\u001b[0m\u001b[0m\n",
      "\u001b[0;32m/opt/conda/lib/python3.9/site-packages/seaborn/_statistics.py\u001b[0m in \u001b[0;36mdefine_bin_edges\u001b[0;34m(self, x1, x2, weights, cache)\u001b[0m\n\u001b[1;32m    263\u001b[0m         \u001b[0;32mif\u001b[0m \u001b[0mx2\u001b[0m \u001b[0;32mis\u001b[0m \u001b[0;32mNone\u001b[0m\u001b[0;34m:\u001b[0m\u001b[0;34m\u001b[0m\u001b[0;34m\u001b[0m\u001b[0m\n\u001b[1;32m    264\u001b[0m \u001b[0;34m\u001b[0m\u001b[0m\n\u001b[0;32m--> 265\u001b[0;31m             bin_edges = self._define_bin_edges(\n\u001b[0m\u001b[1;32m    266\u001b[0m                 \u001b[0mx1\u001b[0m\u001b[0;34m,\u001b[0m \u001b[0mweights\u001b[0m\u001b[0;34m,\u001b[0m \u001b[0mself\u001b[0m\u001b[0;34m.\u001b[0m\u001b[0mbins\u001b[0m\u001b[0;34m,\u001b[0m \u001b[0mself\u001b[0m\u001b[0;34m.\u001b[0m\u001b[0mbinwidth\u001b[0m\u001b[0;34m,\u001b[0m \u001b[0mself\u001b[0m\u001b[0;34m.\u001b[0m\u001b[0mbinrange\u001b[0m\u001b[0;34m,\u001b[0m \u001b[0mself\u001b[0m\u001b[0;34m.\u001b[0m\u001b[0mdiscrete\u001b[0m\u001b[0;34m,\u001b[0m\u001b[0;34m\u001b[0m\u001b[0;34m\u001b[0m\u001b[0m\n\u001b[1;32m    267\u001b[0m             )\n",
      "\u001b[0;32m/opt/conda/lib/python3.9/site-packages/seaborn/_statistics.py\u001b[0m in \u001b[0;36m_define_bin_edges\u001b[0;34m(self, x, weights, bins, binwidth, binrange, discrete)\u001b[0m\n\u001b[1;32m    249\u001b[0m \u001b[0;34m\u001b[0m\u001b[0m\n\u001b[1;32m    250\u001b[0m         \u001b[0;32mif\u001b[0m \u001b[0mdiscrete\u001b[0m\u001b[0;34m:\u001b[0m\u001b[0;34m\u001b[0m\u001b[0;34m\u001b[0m\u001b[0m\n\u001b[0;32m--> 251\u001b[0;31m             \u001b[0mbin_edges\u001b[0m \u001b[0;34m=\u001b[0m \u001b[0mnp\u001b[0m\u001b[0;34m.\u001b[0m\u001b[0marange\u001b[0m\u001b[0;34m(\u001b[0m\u001b[0mstart\u001b[0m \u001b[0;34m-\u001b[0m \u001b[0;36m.5\u001b[0m\u001b[0;34m,\u001b[0m \u001b[0mstop\u001b[0m \u001b[0;34m+\u001b[0m \u001b[0;36m1.5\u001b[0m\u001b[0;34m)\u001b[0m\u001b[0;34m\u001b[0m\u001b[0;34m\u001b[0m\u001b[0m\n\u001b[0m\u001b[1;32m    252\u001b[0m         \u001b[0;32melif\u001b[0m \u001b[0mbinwidth\u001b[0m \u001b[0;32mis\u001b[0m \u001b[0;32mnot\u001b[0m \u001b[0;32mNone\u001b[0m\u001b[0;34m:\u001b[0m\u001b[0;34m\u001b[0m\u001b[0;34m\u001b[0m\u001b[0m\n\u001b[1;32m    253\u001b[0m             \u001b[0mstep\u001b[0m \u001b[0;34m=\u001b[0m \u001b[0mbinwidth\u001b[0m\u001b[0;34m\u001b[0m\u001b[0;34m\u001b[0m\u001b[0m\n",
      "\u001b[0;31mTypeError\u001b[0m: unsupported operand type(s) for -: 'pandas._libs.interval.Interval' and 'pandas._libs.interval.Interval'"
     ]
    },
    {
     "data": {
      "image/png": "[encoded data removed]",
      "text/plain": [
       "<Figure size 1008x360 with 1 Axes>"
      ]
     },
     "metadata": {
      "needs_background": "light"
     },
     "output_type": "display_data"
    }
   ],
   "source": [
    "hist(bank_data, columns)"
   ]
  },
  {
   "cell_type": "markdown",
   "id": "3bde844d",
   "metadata": {},
   "source": [
    "<div class=\"alert alert-warning\"><b>Комментарий ревьюера</b>&nbsp;💡<br>\n",
    "Тут в гистограммах видны различия, если приглядеться, но можно сделать их более наглядными, если применить <tt>sns.histplot</tt> с параметрами <tt>hue</tt> и настройками <tt>stat=\"density\", common_norm=False</tt>. При использовании plt.hist и основанных на нём методах pandas достаточно установить параметр <tt>density=True</tt>, также понадобится установить прозрачность (цвета лучше подобрать так, чтобы было меньше затруднений от того, что они смешаются).\n",
    "</div>"
   ]
  },
  {
   "cell_type": "markdown",
   "id": "7a8c5bae",
   "metadata": {},
   "source": [
    "* Ярославль (чуть больше 4000 клиентов остались в банке, чуть меньше 1000 ушли)\n",
    "* Рыбинск (2000 клиентов остались в банке, чуть меньше 500 ушли)\n",
    "* Ростов Великий ( 1750 клиентов остались в банке, 750 клиентов ушли)\n",
    "\n",
    "\n",
    "* Женщины ( 3400 остались, чуть больше 1000 ушли)\n",
    "* Мужчины (4600 остались, почти 1000 ушли)\n",
    "\n",
    "\n",
    "* В среднем из банка ушли, клиенты старшего возраста\n",
    "\n",
    "* Клиента с 1 продуктом (3600 остались, 1400 ушли)\n",
    "* Клиента с 2 продуктами ( 4300 остались, 400 ушли)\n",
    "\n",
    "\n",
    "* Клиент имеет кредитную карту (5700 остались, 1300 ушли)\n",
    "* У клиента нет кредитной карты (2300 остались, 700 ушли)"
   ]
  },
  {
   "cell_type": "markdown",
   "id": "c7df4427",
   "metadata": {},
   "source": [
    "<div class=\"alert alert-warning\"><b>Комментарий ревьюера</b>&nbsp;⚠️<br>\n",
    "И какие из этого выводы? У кого отток выше? Из какого они города, какого они пола, сколько у них продуктов? Где 3-4 продукта? По кредитной карте отличия по уровню отока есть среди её обладателей и тех, у кого её нет?\n",
    "</div>"
   ]
  },
  {
   "cell_type": "markdown",
   "id": "fb21e9f2",
   "metadata": {},
   "source": [
    "* Активные клиента уходят меньше чем неактивные"
   ]
  },
  {
   "cell_type": "markdown",
   "id": "9e93753f",
   "metadata": {},
   "source": [
    "<div class=\"alert alert-success\"><b>Комментарий ревьюера&nbsp;<big>✔️</big></b></div>"
   ]
  },
  {
   "cell_type": "code",
   "execution_count": 23,
   "id": "45c64bbb",
   "metadata": {
    "scrolled": true
   },
   "outputs": [
    {
     "data": {
      "text/html": [
       "<div>\n",
       "<style scoped>\n",
       "    .dataframe tbody tr th:only-of-type {\n",
       "        vertical-align: middle;\n",
       "    }\n",
       "\n",
       "    .dataframe tbody tr th {\n",
       "        vertical-align: top;\n",
       "    }\n",
       "\n",
       "    .dataframe thead th {\n",
       "        text-align: right;\n",
       "    }\n",
       "</style>\n",
       "<table border=\"1\" class=\"dataframe\">\n",
       "  <thead>\n",
       "    <tr style=\"text-align: right;\">\n",
       "      <th></th>\n",
       "      <th>userid</th>\n",
       "      <th>score</th>\n",
       "      <th>age</th>\n",
       "      <th>objects</th>\n",
       "      <th>balance</th>\n",
       "      <th>products</th>\n",
       "      <th>creditcard</th>\n",
       "      <th>loyalty</th>\n",
       "      <th>estimated_salary</th>\n",
       "      <th>churn</th>\n",
       "      <th>q_age</th>\n",
       "      <th>q2_age</th>\n",
       "      <th>gender_Ж</th>\n",
       "      <th>gender_М</th>\n",
       "      <th>city_Ростов Великий</th>\n",
       "      <th>city_Рыбинск</th>\n",
       "      <th>city_Ярославль</th>\n",
       "    </tr>\n",
       "  </thead>\n",
       "  <tbody>\n",
       "    <tr>\n",
       "      <th>0</th>\n",
       "      <td>15677338</td>\n",
       "      <td>619</td>\n",
       "      <td>42</td>\n",
       "      <td>2</td>\n",
       "      <td>NaN</td>\n",
       "      <td>1</td>\n",
       "      <td>1</td>\n",
       "      <td>1</td>\n",
       "      <td>101348.88</td>\n",
       "      <td>1</td>\n",
       "      <td>(37.0, 44.0]</td>\n",
       "      <td>38-44</td>\n",
       "      <td>1</td>\n",
       "      <td>0</td>\n",
       "      <td>0</td>\n",
       "      <td>0</td>\n",
       "      <td>1</td>\n",
       "    </tr>\n",
       "    <tr>\n",
       "      <th>1</th>\n",
       "      <td>15690047</td>\n",
       "      <td>608</td>\n",
       "      <td>41</td>\n",
       "      <td>1</td>\n",
       "      <td>83807.86</td>\n",
       "      <td>1</td>\n",
       "      <td>0</td>\n",
       "      <td>1</td>\n",
       "      <td>112542.58</td>\n",
       "      <td>0</td>\n",
       "      <td>(37.0, 44.0]</td>\n",
       "      <td>38-44</td>\n",
       "      <td>1</td>\n",
       "      <td>0</td>\n",
       "      <td>0</td>\n",
       "      <td>1</td>\n",
       "      <td>0</td>\n",
       "    </tr>\n",
       "    <tr>\n",
       "      <th>2</th>\n",
       "      <td>15662040</td>\n",
       "      <td>502</td>\n",
       "      <td>42</td>\n",
       "      <td>8</td>\n",
       "      <td>159660.80</td>\n",
       "      <td>3</td>\n",
       "      <td>1</td>\n",
       "      <td>0</td>\n",
       "      <td>113931.57</td>\n",
       "      <td>1</td>\n",
       "      <td>(37.0, 44.0]</td>\n",
       "      <td>38-44</td>\n",
       "      <td>1</td>\n",
       "      <td>0</td>\n",
       "      <td>0</td>\n",
       "      <td>0</td>\n",
       "      <td>1</td>\n",
       "    </tr>\n",
       "    <tr>\n",
       "      <th>3</th>\n",
       "      <td>15744090</td>\n",
       "      <td>699</td>\n",
       "      <td>39</td>\n",
       "      <td>1</td>\n",
       "      <td>NaN</td>\n",
       "      <td>2</td>\n",
       "      <td>0</td>\n",
       "      <td>0</td>\n",
       "      <td>93826.63</td>\n",
       "      <td>0</td>\n",
       "      <td>(37.0, 44.0]</td>\n",
       "      <td>38-44</td>\n",
       "      <td>1</td>\n",
       "      <td>0</td>\n",
       "      <td>0</td>\n",
       "      <td>0</td>\n",
       "      <td>1</td>\n",
       "    </tr>\n",
       "    <tr>\n",
       "      <th>4</th>\n",
       "      <td>15780624</td>\n",
       "      <td>850</td>\n",
       "      <td>43</td>\n",
       "      <td>2</td>\n",
       "      <td>125510.82</td>\n",
       "      <td>1</td>\n",
       "      <td>1</td>\n",
       "      <td>1</td>\n",
       "      <td>79084.10</td>\n",
       "      <td>0</td>\n",
       "      <td>(37.0, 44.0]</td>\n",
       "      <td>38-44</td>\n",
       "      <td>1</td>\n",
       "      <td>0</td>\n",
       "      <td>0</td>\n",
       "      <td>1</td>\n",
       "      <td>0</td>\n",
       "    </tr>\n",
       "  </tbody>\n",
       "</table>\n",
       "</div>"
      ],
      "text/plain": [
       "     userid  score  age  objects    balance  products  creditcard  loyalty  \\\n",
       "0  15677338    619   42        2        NaN         1           1        1   \n",
       "1  15690047    608   41        1   83807.86         1           0        1   \n",
       "2  15662040    502   42        8  159660.80         3           1        0   \n",
       "3  15744090    699   39        1        NaN         2           0        0   \n",
       "4  15780624    850   43        2  125510.82         1           1        1   \n",
       "\n",
       "   estimated_salary  churn         q_age q2_age  gender_Ж  gender_М  \\\n",
       "0         101348.88      1  (37.0, 44.0]  38-44         1         0   \n",
       "1         112542.58      0  (37.0, 44.0]  38-44         1         0   \n",
       "2         113931.57      1  (37.0, 44.0]  38-44         1         0   \n",
       "3          93826.63      0  (37.0, 44.0]  38-44         1         0   \n",
       "4          79084.10      0  (37.0, 44.0]  38-44         1         0   \n",
       "\n",
       "   city_Ростов Великий  city_Рыбинск  city_Ярославль  \n",
       "0                    0             0               1  \n",
       "1                    0             1               0  \n",
       "2                    0             0               1  \n",
       "3                    0             0               1  \n",
       "4                    0             1               0  "
      ]
     },
     "metadata": {},
     "output_type": "display_data"
    }
   ],
   "source": [
    "bank_data_corr = pd.get_dummies(bank_data, columns=['gender','city'])\n",
    "display(bank_data_corr.head())"
   ]
  },
  {
   "cell_type": "code",
   "execution_count": 24,
   "id": "33921582",
   "metadata": {},
   "outputs": [
    {
     "data": {
      "text/html": [
       "<div>\n",
       "<style scoped>\n",
       "    .dataframe tbody tr th:only-of-type {\n",
       "        vertical-align: middle;\n",
       "    }\n",
       "\n",
       "    .dataframe tbody tr th {\n",
       "        vertical-align: top;\n",
       "    }\n",
       "\n",
       "    .dataframe thead th {\n",
       "        text-align: right;\n",
       "    }\n",
       "</style>\n",
       "<table border=\"1\" class=\"dataframe\">\n",
       "  <thead>\n",
       "    <tr style=\"text-align: right;\">\n",
       "      <th></th>\n",
       "      <th>userid</th>\n",
       "      <th>score</th>\n",
       "      <th>age</th>\n",
       "      <th>objects</th>\n",
       "      <th>balance</th>\n",
       "      <th>products</th>\n",
       "      <th>creditcard</th>\n",
       "      <th>loyalty</th>\n",
       "      <th>estimated_salary</th>\n",
       "      <th>gender_Ж</th>\n",
       "      <th>gender_М</th>\n",
       "      <th>city_Ростов Великий</th>\n",
       "      <th>city_Рыбинск</th>\n",
       "      <th>city_Ярославль</th>\n",
       "    </tr>\n",
       "    <tr>\n",
       "      <th>churn</th>\n",
       "      <th></th>\n",
       "      <th></th>\n",
       "      <th></th>\n",
       "      <th></th>\n",
       "      <th></th>\n",
       "      <th></th>\n",
       "      <th></th>\n",
       "      <th></th>\n",
       "      <th></th>\n",
       "      <th></th>\n",
       "      <th></th>\n",
       "      <th></th>\n",
       "      <th></th>\n",
       "      <th></th>\n",
       "    </tr>\n",
       "  </thead>\n",
       "  <tbody>\n",
       "    <tr>\n",
       "      <th>0</th>\n",
       "      <td>1.573390e+07</td>\n",
       "      <td>651.853196</td>\n",
       "      <td>37.408389</td>\n",
       "      <td>5.033279</td>\n",
       "      <td>119535.864270</td>\n",
       "      <td>1.544267</td>\n",
       "      <td>0.707146</td>\n",
       "      <td>0.554565</td>\n",
       "      <td>99738.391772</td>\n",
       "      <td>0.427477</td>\n",
       "      <td>0.572523</td>\n",
       "      <td>0.212859</td>\n",
       "      <td>0.259199</td>\n",
       "      <td>0.527942</td>\n",
       "    </tr>\n",
       "    <tr>\n",
       "      <th>1</th>\n",
       "      <td>1.573279e+07</td>\n",
       "      <td>645.351497</td>\n",
       "      <td>44.837997</td>\n",
       "      <td>4.932744</td>\n",
       "      <td>120746.971132</td>\n",
       "      <td>1.475209</td>\n",
       "      <td>0.699067</td>\n",
       "      <td>0.360825</td>\n",
       "      <td>101465.677531</td>\n",
       "      <td>0.559156</td>\n",
       "      <td>0.440844</td>\n",
       "      <td>0.399607</td>\n",
       "      <td>0.202749</td>\n",
       "      <td>0.397644</td>\n",
       "    </tr>\n",
       "  </tbody>\n",
       "</table>\n",
       "</div>"
      ],
      "text/plain": [
       "             userid       score        age   objects        balance  products  \\\n",
       "churn                                                                           \n",
       "0      1.573390e+07  651.853196  37.408389  5.033279  119535.864270  1.544267   \n",
       "1      1.573279e+07  645.351497  44.837997  4.932744  120746.971132  1.475209   \n",
       "\n",
       "       creditcard   loyalty  estimated_salary  gender_Ж  gender_М  \\\n",
       "churn                                                               \n",
       "0        0.707146  0.554565      99738.391772  0.427477  0.572523   \n",
       "1        0.699067  0.360825     101465.677531  0.559156  0.440844   \n",
       "\n",
       "       city_Ростов Великий  city_Рыбинск  city_Ярославль  \n",
       "churn                                                     \n",
       "0                 0.212859      0.259199        0.527942  \n",
       "1                 0.399607      0.202749        0.397644  "
      ]
     },
     "execution_count": 24,
     "metadata": {},
     "output_type": "execute_result"
    }
   ],
   "source": [
    "bank_data_corr.groupby('churn').agg('mean')"
   ]
  },
  {
   "cell_type": "code",
   "execution_count": 25,
   "id": "3038a5cf",
   "metadata": {
    "scrolled": false
   },
   "outputs": [
    {
     "data": {
      "image/png": "[encoded data removed]",
      "text/plain": [
       "<Figure size 864x1008 with 2 Axes>"
      ]
     },
     "metadata": {
      "needs_background": "light"
     },
     "output_type": "display_data"
    }
   ],
   "source": [
    "fig, ax = plt.subplots(figsize=(12,14))\n",
    "\n",
    "sns.heatmap(bank_data_corr.corr(), annot = True, square=True, cmap=\"vlag\")\n",
    "ax.set_title(\"Корреляционная матрица признаков\")\n",
    "plt.show()"
   ]
  },
  {
   "cell_type": "markdown",
   "id": "81351c6f",
   "metadata": {},
   "source": [
    "<div class=\"alert alert-warning\"><b>Комментарий ревьюера</b>&nbsp;💡<br>\n",
    "Для корреляционных матриц стоит выбирать <a href='https://seaborn.pydata.org/tutorial/color_palettes.html'>цветовые схемы</a>, у которых по центру находится нейтральный цвет, а по краям — два явно различимых, например <tt>'vlag'</tt>, при этом установка для <a href='https://seaborn.pydata.org/generated/seaborn.heatmap.html'><tt>sns.heatmap<tt></a> параметров vmax, vmin или center позволяет убедиться, что незначимые (близкие к нолю) значения будут обозначаться именно нейтральным цветом. Также стоит указывать параметр fmt, например, устанавливая отображение значений в виде процентов без дробной части.\n",
    "\n",
    "Могу посоветовать также <a href='https://towardsdatascience.com/phik-k-get-familiar-with-the-latest-correlation-coefficient-9ba0032b37e7'>матрицу корреляций phic</a> — она улавливает даже нелинейные зависимости.\n",
    "</div>\n",
    "\n",
    "<div class=\"alert alert-success\"><b>Комментарий ревьюера</b>&nbsp;📝<br>\n",
    "В презентации будет хорошо смотреться heatmap в один столбец (churn) из этой корреляционной матрицы, отсортированный по величине корреляции, но без самой строки (churn). Её можно убрать методом drop\n",
    "</div>"
   ]
  },
  {
   "cell_type": "markdown",
   "id": "56940ad8",
   "metadata": {},
   "source": [
    "У оттока самая большая корреляция (0.29 - это слабая связь) с возрастом клиента, все остальное намного ниже и связь отсутствует  \n",
    "Можем отметить корреляцию (0.4 - тоже слабая связь) у города Ростов Великий и баланса клиента  \n",
    "Так же можно отметить обратную слабую связь( -0.3), между колличеством продуктов и балансом клиента"
   ]
  },
  {
   "cell_type": "code",
   "execution_count": 26,
   "id": "ce67b832",
   "metadata": {},
   "outputs": [
    {
     "data": {
      "text/plain": [
       "<AxesSubplot:>"
      ]
     },
     "execution_count": 26,
     "metadata": {},
     "output_type": "execute_result"
    },
    {
     "data": {
      "image/png": "[encoded data removed]",
      "text/plain": [
       "<Figure size 72x504 with 2 Axes>"
      ]
     },
     "metadata": {
      "needs_background": "light"
     },
     "output_type": "display_data"
    }
   ],
   "source": [
    "fig, ax = plt.subplots(figsize=(1,7))\n",
    "sns.heatmap(bank_data_corr.corr()[['churn']].sort_values('churn',ascending=False).drop(labels='churn'), vmin = -1, vmax = +1, annot = True, cmap = 'coolwarm', fmt='.0%')"
   ]
  },
  {
   "cell_type": "markdown",
   "id": "5ac8e299",
   "metadata": {},
   "source": [
    "<div class=\"alert alert-warning\"><b>Комментарий ревьюера</b>&nbsp;⚠️<br>\n",
    "Эти связи с балансом — последствия импутации.\n",
    "</div>"
   ]
  },
  {
   "cell_type": "markdown",
   "id": "760ae728",
   "metadata": {},
   "source": [
    "**Сегментируем пользователей на основе данных о количестве потребляемых продуктов**\n"
   ]
  },
  {
   "cell_type": "code",
   "execution_count": 27,
   "id": "354a822c",
   "metadata": {},
   "outputs": [
    {
     "data": {
      "text/plain": [
       "products\n",
       "1    5084\n",
       "2    4590\n",
       "3     266\n",
       "4      60\n",
       "Name: score, dtype: int64"
      ]
     },
     "execution_count": 27,
     "metadata": {},
     "output_type": "execute_result"
    }
   ],
   "source": [
    "bank_data.groupby('products')['score'].agg('count')"
   ]
  },
  {
   "cell_type": "code",
   "execution_count": 28,
   "id": "9541be5a",
   "metadata": {
    "scrolled": true
   },
   "outputs": [
    {
     "data": {
      "text/html": [
       "<div>\n",
       "<style scoped>\n",
       "    .dataframe tbody tr th:only-of-type {\n",
       "        vertical-align: middle;\n",
       "    }\n",
       "\n",
       "    .dataframe tbody tr th {\n",
       "        vertical-align: top;\n",
       "    }\n",
       "\n",
       "    .dataframe thead th {\n",
       "        text-align: right;\n",
       "    }\n",
       "</style>\n",
       "<table border=\"1\" class=\"dataframe\">\n",
       "  <thead>\n",
       "    <tr style=\"text-align: right;\">\n",
       "      <th></th>\n",
       "      <th>userid</th>\n",
       "      <th>score</th>\n",
       "      <th>age</th>\n",
       "      <th>objects</th>\n",
       "      <th>balance</th>\n",
       "      <th>creditcard</th>\n",
       "      <th>loyalty</th>\n",
       "      <th>estimated_salary</th>\n",
       "      <th>churn</th>\n",
       "      <th>gender_Ж</th>\n",
       "      <th>gender_М</th>\n",
       "      <th>city_Ростов Великий</th>\n",
       "      <th>city_Рыбинск</th>\n",
       "      <th>city_Ярославль</th>\n",
       "    </tr>\n",
       "    <tr>\n",
       "      <th>products</th>\n",
       "      <th></th>\n",
       "      <th></th>\n",
       "      <th></th>\n",
       "      <th></th>\n",
       "      <th></th>\n",
       "      <th></th>\n",
       "      <th></th>\n",
       "      <th></th>\n",
       "      <th></th>\n",
       "      <th></th>\n",
       "      <th></th>\n",
       "      <th></th>\n",
       "      <th></th>\n",
       "      <th></th>\n",
       "    </tr>\n",
       "  </thead>\n",
       "  <tbody>\n",
       "    <tr>\n",
       "      <th>1</th>\n",
       "      <td>1.573237e+07</td>\n",
       "      <td>649.120968</td>\n",
       "      <td>39.673092</td>\n",
       "      <td>4.974626</td>\n",
       "      <td>119894.163723</td>\n",
       "      <td>0.703777</td>\n",
       "      <td>0.504131</td>\n",
       "      <td>99487.256851</td>\n",
       "      <td>0.277144</td>\n",
       "      <td>0.451613</td>\n",
       "      <td>0.548387</td>\n",
       "      <td>0.265342</td>\n",
       "      <td>0.240165</td>\n",
       "      <td>0.494493</td>\n",
       "    </tr>\n",
       "    <tr>\n",
       "      <th>2</th>\n",
       "      <td>1.573484e+07</td>\n",
       "      <td>652.188671</td>\n",
       "      <td>37.753595</td>\n",
       "      <td>5.051852</td>\n",
       "      <td>119660.944362</td>\n",
       "      <td>0.707190</td>\n",
       "      <td>0.532898</td>\n",
       "      <td>100452.012821</td>\n",
       "      <td>0.075817</td>\n",
       "      <td>0.448802</td>\n",
       "      <td>0.551198</td>\n",
       "      <td>0.226580</td>\n",
       "      <td>0.257734</td>\n",
       "      <td>0.515686</td>\n",
       "    </tr>\n",
       "    <tr>\n",
       "      <th>3</th>\n",
       "      <td>1.574182e+07</td>\n",
       "      <td>648.105263</td>\n",
       "      <td>43.195489</td>\n",
       "      <td>5.003759</td>\n",
       "      <td>119475.686310</td>\n",
       "      <td>0.714286</td>\n",
       "      <td>0.424812</td>\n",
       "      <td>104318.130564</td>\n",
       "      <td>0.827068</td>\n",
       "      <td>0.560150</td>\n",
       "      <td>0.439850</td>\n",
       "      <td>0.360902</td>\n",
       "      <td>0.248120</td>\n",
       "      <td>0.390977</td>\n",
       "    </tr>\n",
       "    <tr>\n",
       "      <th>4</th>\n",
       "      <td>1.571936e+07</td>\n",
       "      <td>653.583333</td>\n",
       "      <td>45.683333</td>\n",
       "      <td>5.300000</td>\n",
       "      <td>122260.610870</td>\n",
       "      <td>0.683333</td>\n",
       "      <td>0.483333</td>\n",
       "      <td>104763.723333</td>\n",
       "      <td>1.000000</td>\n",
       "      <td>0.633333</td>\n",
       "      <td>0.366667</td>\n",
       "      <td>0.400000</td>\n",
       "      <td>0.116667</td>\n",
       "      <td>0.483333</td>\n",
       "    </tr>\n",
       "  </tbody>\n",
       "</table>\n",
       "</div>"
      ],
      "text/plain": [
       "                userid       score        age   objects        balance  \\\n",
       "products                                                                 \n",
       "1         1.573237e+07  649.120968  39.673092  4.974626  119894.163723   \n",
       "2         1.573484e+07  652.188671  37.753595  5.051852  119660.944362   \n",
       "3         1.574182e+07  648.105263  43.195489  5.003759  119475.686310   \n",
       "4         1.571936e+07  653.583333  45.683333  5.300000  122260.610870   \n",
       "\n",
       "          creditcard   loyalty  estimated_salary     churn  gender_Ж  \\\n",
       "products                                                               \n",
       "1           0.703777  0.504131      99487.256851  0.277144  0.451613   \n",
       "2           0.707190  0.532898     100452.012821  0.075817  0.448802   \n",
       "3           0.714286  0.424812     104318.130564  0.827068  0.560150   \n",
       "4           0.683333  0.483333     104763.723333  1.000000  0.633333   \n",
       "\n",
       "          gender_М  city_Ростов Великий  city_Рыбинск  city_Ярославль  \n",
       "products                                                               \n",
       "1         0.548387             0.265342      0.240165        0.494493  \n",
       "2         0.551198             0.226580      0.257734        0.515686  \n",
       "3         0.439850             0.360902      0.248120        0.390977  \n",
       "4         0.366667             0.400000      0.116667        0.483333  "
      ]
     },
     "execution_count": 28,
     "metadata": {},
     "output_type": "execute_result"
    }
   ],
   "source": [
    "bank_data_corr.groupby('products').agg('mean')"
   ]
  },
  {
   "cell_type": "markdown",
   "id": "bf682ac0",
   "metadata": {},
   "source": [
    "* Все у кого 4 продукта ушли из банка их всего 60 человек\n",
    "* Клиенты у которых 3 продукта их всего 266 человек, из них 83% ушли\n",
    "* Клиенты у кого 1 продукт (их 5000, из них 28% отток)\n",
    "* Клиенты у кого 2 продукта (их 4600, их них 8% отток)"
   ]
  },
  {
   "cell_type": "code",
   "execution_count": 29,
   "id": "9f2db860",
   "metadata": {
    "scrolled": true
   },
   "outputs": [
    {
     "data": {
      "image/png": "[encoded data removed]",
      "text/plain": [
       "<Figure size 864x288 with 1 Axes>"
      ]
     },
     "metadata": {
      "needs_background": "light"
     },
     "output_type": "display_data"
    },
    {
     "data": {
      "image/png": "[encoded data removed]",
      "text/plain": [
       "<Figure size 864x288 with 1 Axes>"
      ]
     },
     "metadata": {
      "needs_background": "light"
     },
     "output_type": "display_data"
    },
    {
     "data": {
      "image/png": "[encoded data removed]",
      "text/plain": [
       "<Figure size 864x288 with 1 Axes>"
      ]
     },
     "metadata": {
      "needs_background": "light"
     },
     "output_type": "display_data"
    },
    {
     "data": {
      "image/png": "[encoded data removed]",
      "text/plain": [
       "<Figure size 864x288 with 1 Axes>"
      ]
     },
     "metadata": {
      "needs_background": "light"
     },
     "output_type": "display_data"
    },
    {
     "data": {
      "image/png": "[encoded data removed]",
      "text/plain": [
       "<Figure size 864x288 with 1 Axes>"
      ]
     },
     "metadata": {
      "needs_background": "light"
     },
     "output_type": "display_data"
    },
    {
     "data": {
      "image/png": "[encoded data removed]",
      "text/plain": [
       "<Figure size 864x288 with 1 Axes>"
      ]
     },
     "metadata": {
      "needs_background": "light"
     },
     "output_type": "display_data"
    },
    {
     "data": {
      "image/png": "[encoded data removed]",
      "text/plain": [
       "<Figure size 864x288 with 1 Axes>"
      ]
     },
     "metadata": {
      "needs_background": "light"
     },
     "output_type": "display_data"
    },
    {
     "data": {
      "image/png": "[encoded data removed]",
      "text/plain": [
       "<Figure size 864x288 with 1 Axes>"
      ]
     },
     "metadata": {
      "needs_background": "light"
     },
     "output_type": "display_data"
    }
   ],
   "source": [
    "categorical_columns = ['creditcard', 'loyalty', 'gender_Ж', 'gender_М', 'city_Ростов Великий', 'city_Рыбинск', 'city_Ярославль','churn']\n",
    "\n",
    "for column in categorical_columns:\n",
    "    plt.figure(figsize=(12, 4))\n",
    "    sns.countplot(x=bank_data_corr[column], hue=\"products\", data=bank_data_corr)\n",
    "    plt.title(column)\n",
    "    plt.legend()\n",
    "    plt.show()"
   ]
  },
  {
   "cell_type": "markdown",
   "id": "945e4dcc",
   "metadata": {},
   "source": []
  },
  {
   "cell_type": "code",
   "execution_count": 30,
   "id": "a2b4f2a8",
   "metadata": {
    "scrolled": true
   },
   "outputs": [
    {
     "data": {
      "image/png": "[encoded data removed]",
      "text/plain": [
       "<Figure size 864x288 with 1 Axes>"
      ]
     },
     "metadata": {
      "needs_background": "light"
     },
     "output_type": "display_data"
    },
    {
     "data": {
      "image/png": "[encoded data removed]",
      "text/plain": [
       "<Figure size 864x288 with 1 Axes>"
      ]
     },
     "metadata": {
      "needs_background": "light"
     },
     "output_type": "display_data"
    },
    {
     "data": {
      "image/png": "[encoded data removed]",
      "text/plain": [
       "<Figure size 864x288 with 1 Axes>"
      ]
     },
     "metadata": {
      "needs_background": "light"
     },
     "output_type": "display_data"
    },
    {
     "data": {
      "image/png": "[encoded data removed]",
      "text/plain": [
       "<Figure size 864x288 with 1 Axes>"
      ]
     },
     "metadata": {
      "needs_background": "light"
     },
     "output_type": "display_data"
    },
    {
     "data": {
      "image/png": "[encoded data removed]",
      "text/plain": [
       "<Figure size 864x288 with 1 Axes>"
      ]
     },
     "metadata": {
      "needs_background": "light"
     },
     "output_type": "display_data"
    }
   ],
   "source": [
    "numeric_columns = ['score', 'age', 'objects', 'balance', 'estimated_salary']\n",
    "\n",
    "for column in numeric_columns:\n",
    "    plt.figure(figsize=(12, 4))\n",
    "    sns.kdeplot(x=bank_data[column], hue=\"products\", data=bank_data, palette='bright',legend=True)\n",
    "    plt.title(column)\n",
    "    plt.show()"
   ]
  },
  {
   "cell_type": "markdown",
   "id": "0dbdd458",
   "metadata": {},
   "source": [
    "**Параметры, которые свидетельствуют о возможном уходе клиента в отток:**  \n",
    "* Возраст выше среднего\n",
    "* У клиента всего 1 продукт  \n",
    "Если у клиента 2 продукта % оттока резко снижается"
   ]
  },
  {
   "cell_type": "markdown",
   "id": "eb25a3b0",
   "metadata": {},
   "source": [
    "<div class=\"alert alert-danger\"><b>Комментарий ревьюера</b>&nbsp;🔧<br>\n",
    "Перед выделением сегментов, мы сначала на основе анализа средних по подготовленным данным можем построить портрет отточного и не отточного клиента (часть признаков надо будет правильно закодировать), затем на основе анализа всех показателей (прежде всего количества продуктов) в разрезе уровня оттока мы выделяем стратегические признаки, влияющие на отток. Также в процессе мы обязательно должны провести деление стратегически важных численных признаков на интервальные категории в соответствии с уровнем оттока.\n",
    "\n",
    "Наиболее просто затем тут сделать сегментацию, выделяя сегменты по стратегическим показателям и анализируя их размер и уровень оттока — если размер большой, а превышение уровня оттока над средним небольшое, то это признак того, что нужно объединить этот признак ещё с каким-то и получить более компактный и отточный сегмент. Нужно следить, чтобы сегменты не стали совсем мелкими. \n",
    "\n",
    "После выделения нескольких таких сегментов мы уже сможем таргетированно дать для них какие-то рекомендации. Идеально будет ввести какую-то метрику, которая позволит приоритизировать сегменты (выделить те, воздействие на которые приведёт к максимальному эффекту в масштабах банка). Обычно такая метрика одновременно учитывает и отток, и размер сегмента.\n",
    "    \n",
    "Пожалуйста:\n",
    "* чётко определи стратегически важные признаки\n",
    "* раздели возраст на отточный и не отточные интервалы\n",
    "* при помощи кода ниже выдели одновременно достаточно крупные и отточные сегменты\n",
    "</div>"
   ]
  },
  {
   "cell_type": "markdown",
   "id": "dc865b1b",
   "metadata": {},
   "source": [
    "**Cтратегически важные признаки влияющие на отток:**  \n",
    "* Возраст\n",
    "* Город проживания\n",
    "* Пол\n",
    "* Лояльность\n",
    "* Количество продуктов"
   ]
  },
  {
   "cell_type": "markdown",
   "id": "a1896a62",
   "metadata": {},
   "source": [
    "Возраст 18-32 отток 7% неотточный  \n",
    "Возраст 33-37 отток 10% неотточный  \n",
    "Возраст 38-44 отток 21%, это очень близко к среднему значению  \n",
    "Возраст 45-92 отток 45% отточный  \n",
    "Средний отток 20%"
   ]
  },
  {
   "cell_type": "code",
   "execution_count": 31,
   "id": "b25e073f",
   "metadata": {},
   "outputs": [
    {
     "data": {
      "text/html": [
       "<style  type=\"text/css\" >\n",
       "</style><table id=\"T_14cbc_\" ><thead>    <tr>        <th class=\"blank level0\" ></th>        <th class=\"col_heading level0 col0\" >num</th>        <th class=\"col_heading level0 col1\" >churn</th>        <th class=\"col_heading level0 col2\" >other_churn</th>        <th class=\"col_heading level0 col3\" >coef</th>    </tr></thead><tbody>\n",
       "                <tr>\n",
       "                        <th id=\"T_14cbc_level0_row0\" class=\"row_heading level0 row0\" >пользователи 3 и 4 продуктов</th>\n",
       "                        <td id=\"T_14cbc_row0_col0\" class=\"data row0 col0\" >326</td>\n",
       "                        <td id=\"T_14cbc_row0_col1\" class=\"data row0 col1\" >85.9%</td>\n",
       "                        <td id=\"T_14cbc_row0_col2\" class=\"data row0 col2\" >18.2%</td>\n",
       "                        <td id=\"T_14cbc_row0_col3\" class=\"data row0 col3\" >47</td>\n",
       "            </tr>\n",
       "            <tr>\n",
       "                        <th id=\"T_14cbc_level0_row1\" class=\"row_heading level0 row1\" >в возрасте</th>\n",
       "                        <td id=\"T_14cbc_row1_col0\" class=\"data row1 col0\" >1847</td>\n",
       "                        <td id=\"T_14cbc_row1_col1\" class=\"data row1 col1\" >49.9%</td>\n",
       "                        <td id=\"T_14cbc_row1_col2\" class=\"data row1 col2\" >13.7%</td>\n",
       "                        <td id=\"T_14cbc_row1_col3\" class=\"data row1 col3\" >44</td>\n",
       "            </tr>\n",
       "            <tr>\n",
       "                        <th id=\"T_14cbc_level0_row2\" class=\"row_heading level0 row2\" >в возрасте с одним продуктом</th>\n",
       "                        <td id=\"T_14cbc_row2_col0\" class=\"data row2 col0\" >1747</td>\n",
       "                        <td id=\"T_14cbc_row2_col1\" class=\"data row2 col1\" >49.7%</td>\n",
       "                        <td id=\"T_14cbc_row2_col2\" class=\"data row2 col2\" >14.2%</td>\n",
       "                        <td id=\"T_14cbc_row2_col3\" class=\"data row2 col3\" >43</td>\n",
       "            </tr>\n",
       "            <tr>\n",
       "                        <th id=\"T_14cbc_level0_row3\" class=\"row_heading level0 row3\" >не с двумя продуктами</th>\n",
       "                        <td id=\"T_14cbc_row3_col0\" class=\"data row3 col0\" >5410</td>\n",
       "                        <td id=\"T_14cbc_row3_col1\" class=\"data row3 col1\" >31.2%</td>\n",
       "                        <td id=\"T_14cbc_row3_col2\" class=\"data row3 col2\" >7.6%</td>\n",
       "                        <td id=\"T_14cbc_row3_col3\" class=\"data row3 col3\" >41</td>\n",
       "            </tr>\n",
       "            <tr>\n",
       "                        <th id=\"T_14cbc_level0_row4\" class=\"row_heading level0 row4\" >неактивные ростовчане</th>\n",
       "                        <td id=\"T_14cbc_row4_col0\" class=\"data row4 col0\" >1261</td>\n",
       "                        <td id=\"T_14cbc_row4_col1\" class=\"data row4 col1\" >41.1%</td>\n",
       "                        <td id=\"T_14cbc_row4_col2\" class=\"data row4 col2\" >17.4%</td>\n",
       "                        <td id=\"T_14cbc_row4_col3\" class=\"data row4 col3\" >26</td>\n",
       "            </tr>\n",
       "            <tr>\n",
       "                        <th id=\"T_14cbc_level0_row5\" class=\"row_heading level0 row5\" >с одним продуктом</th>\n",
       "                        <td id=\"T_14cbc_row5_col0\" class=\"data row5 col0\" >5084</td>\n",
       "                        <td id=\"T_14cbc_row5_col1\" class=\"data row5 col1\" >27.7%</td>\n",
       "                        <td id=\"T_14cbc_row5_col2\" class=\"data row5 col2\" >12.8%</td>\n",
       "                        <td id=\"T_14cbc_row5_col3\" class=\"data row5 col3\" >26</td>\n",
       "            </tr>\n",
       "            <tr>\n",
       "                        <th id=\"T_14cbc_level0_row6\" class=\"row_heading level0 row6\" >неактивные женщины</th>\n",
       "                        <td id=\"T_14cbc_row6_col0\" class=\"data row6 col0\" >2259</td>\n",
       "                        <td id=\"T_14cbc_row6_col1\" class=\"data row6 col1\" >32.1%</td>\n",
       "                        <td id=\"T_14cbc_row6_col2\" class=\"data row6 col2\" >16.9%</td>\n",
       "                        <td id=\"T_14cbc_row6_col3\" class=\"data row6 col3\" >20</td>\n",
       "            </tr>\n",
       "            <tr>\n",
       "                        <th id=\"T_14cbc_level0_row7\" class=\"row_heading level0 row7\" >без пропусков в балансе</th>\n",
       "                        <td id=\"T_14cbc_row7_col0\" class=\"data row7 col0\" >6383</td>\n",
       "                        <td id=\"T_14cbc_row7_col1\" class=\"data row7 col1\" >24.1%</td>\n",
       "                        <td id=\"T_14cbc_row7_col2\" class=\"data row7 col2\" >13.8%</td>\n",
       "                        <td id=\"T_14cbc_row7_col3\" class=\"data row7 col3\" >19</td>\n",
       "            </tr>\n",
       "    </tbody></table>"
      ],
      "text/plain": [
       "<pandas.io.formats.style.Styler at 0x7f87e81e0d30>"
      ]
     },
     "execution_count": 31,
     "metadata": {},
     "output_type": "execute_result"
    }
   ],
   "source": [
    "### КОД РЕВЬЮЕРА\n",
    "df_temp = pd.read_csv('/datasets/bank_dataset.csv')\n",
    "df_temp.columns = df_temp.columns.str.lower()\n",
    "age_break = np.random.choice(range(37,46))\n",
    "examples = [\n",
    "    (\"без пропусков в балансе\",'balance == balance'),\n",
    "    (\"не с двумя продуктами\",'products != 2'),\n",
    "    (\"неактивные ростовчане\", 'city == \"Ростов Великий\" and loyalty == 0'),\n",
    "    (\"неактивные женщины\", 'gender == \"Ж\" and loyalty == 0'),\n",
    "    (\"пользователи 3 и 4 продуктов\",'products > 2'),\n",
    "    (\"в возрасте\",f'age > {age_break} and age <= {age_break+20}'),\n",
    "    (\"с одним продуктом\",'products == 1'),\n",
    "    (\"в возрасте с одним продуктом\",'age > 40 and age <= 60 and products == 1'),\n",
    "]\n",
    "\n",
    "# по заданным запросам делаем табличку с размерами разных групп \n",
    "# и уровнем оттока в группе и внё её\n",
    "dfs_temp = []\n",
    "for text, query in examples:\n",
    "    this_data = df_temp.query(query)\n",
    "    other_data_idx = df_temp.index.difference(this_data.index)\n",
    "    result = this_data\\\n",
    "              .agg({\"churn\":[\"count\",\"mean\"]}).T\n",
    "    result.loc['churn','other_churn'] = df_temp.loc[other_data_idx].agg({\"churn\":\"mean\"}).item()\n",
    "    result.index = [text]\n",
    "    result = result.rename(columns={\"count\":\"num\",\"mean\":\"churn\"})\n",
    "    dfs_temp.append(result)\n",
    "    \n",
    "# придумаем коэффициент, по которому будем ранжировать группы\n",
    "# поправку на размер сегмента можно выбрать и другую:\n",
    "# np.log, np.sqrt, вообще обойтись без поправки\n",
    "df_temp = pd.concat(dfs_temp)\n",
    "df_temp['coef'] = (np.cbrt(df_temp.num) * (df_temp.churn - df_temp.other_churn)).round(1) * 10\n",
    "df_temp.sort_values('coef',ascending=False)\\\n",
    "       .style.format({\"churn\":\"{:.1%}\",\"other_churn\":\"{:.1%}\",\"num\":\"{:.0f}\",\"coef\":\"{:.0f}\"})"
   ]
  },
  {
   "cell_type": "code",
   "execution_count": 32,
   "id": "98b606f5",
   "metadata": {
    "scrolled": false
   },
   "outputs": [
    {
     "data": {
      "text/html": [
       "<style  type=\"text/css\" >\n",
       "</style><table id=\"T_6b6a6_\" ><thead>    <tr>        <th class=\"blank level0\" ></th>        <th class=\"col_heading level0 col0\" >num</th>        <th class=\"col_heading level0 col1\" >churn</th>        <th class=\"col_heading level0 col2\" >other_churn</th>        <th class=\"col_heading level0 col3\" >coef</th>    </tr></thead><tbody>\n",
       "                <tr>\n",
       "                        <th id=\"T_6b6a6_level0_row0\" class=\"row_heading level0 row0\" >пользователи 3 и 4 продуктов</th>\n",
       "                        <td id=\"T_6b6a6_row0_col0\" class=\"data row0 col0\" >326</td>\n",
       "                        <td id=\"T_6b6a6_row0_col1\" class=\"data row0 col1\" >85.9%</td>\n",
       "                        <td id=\"T_6b6a6_row0_col2\" class=\"data row0 col2\" >18.2%</td>\n",
       "                        <td id=\"T_6b6a6_row0_col3\" class=\"data row0 col3\" >47</td>\n",
       "            </tr>\n",
       "            <tr>\n",
       "                        <th id=\"T_6b6a6_level0_row1\" class=\"row_heading level0 row1\" >в возрасте 45+ с одним продуктом</th>\n",
       "                        <td id=\"T_6b6a6_row1_col0\" class=\"data row1 col0\" >1374</td>\n",
       "                        <td id=\"T_6b6a6_row1_col1\" class=\"data row1 col1\" >54.0%</td>\n",
       "                        <td id=\"T_6b6a6_row1_col2\" class=\"data row1 col2\" >15.0%</td>\n",
       "                        <td id=\"T_6b6a6_row1_col3\" class=\"data row1 col3\" >43</td>\n",
       "            </tr>\n",
       "            <tr>\n",
       "                        <th id=\"T_6b6a6_level0_row2\" class=\"row_heading level0 row2\" >в возрасте 45+</th>\n",
       "                        <td id=\"T_6b6a6_row2_col0\" class=\"data row2 col0\" >2340</td>\n",
       "                        <td id=\"T_6b6a6_row2_col1\" class=\"data row2 col1\" >44.6%</td>\n",
       "                        <td id=\"T_6b6a6_row2_col2\" class=\"data row2 col2\" >13.0%</td>\n",
       "                        <td id=\"T_6b6a6_row2_col3\" class=\"data row2 col3\" >42</td>\n",
       "            </tr>\n",
       "            <tr>\n",
       "                        <th id=\"T_6b6a6_level0_row3\" class=\"row_heading level0 row3\" >не с двумя продуктами</th>\n",
       "                        <td id=\"T_6b6a6_row3_col0\" class=\"data row3 col0\" >5410</td>\n",
       "                        <td id=\"T_6b6a6_row3_col1\" class=\"data row3 col1\" >31.2%</td>\n",
       "                        <td id=\"T_6b6a6_row3_col2\" class=\"data row3 col2\" >7.6%</td>\n",
       "                        <td id=\"T_6b6a6_row3_col3\" class=\"data row3 col3\" >41</td>\n",
       "            </tr>\n",
       "            <tr>\n",
       "                        <th id=\"T_6b6a6_level0_row4\" class=\"row_heading level0 row4\" >в возрасте 45+ ростовчане</th>\n",
       "                        <td id=\"T_6b6a6_row4_col0\" class=\"data row4 col0\" >688</td>\n",
       "                        <td id=\"T_6b6a6_row4_col1\" class=\"data row4 col1\" >61.6%</td>\n",
       "                        <td id=\"T_6b6a6_row4_col2\" class=\"data row4 col2\" >17.3%</td>\n",
       "                        <td id=\"T_6b6a6_row4_col3\" class=\"data row4 col3\" >39</td>\n",
       "            </tr>\n",
       "            <tr>\n",
       "                        <th id=\"T_6b6a6_level0_row5\" class=\"row_heading level0 row5\" >неактивные ростовчане</th>\n",
       "                        <td id=\"T_6b6a6_row5_col0\" class=\"data row5 col0\" >1261</td>\n",
       "                        <td id=\"T_6b6a6_row5_col1\" class=\"data row5 col1\" >41.1%</td>\n",
       "                        <td id=\"T_6b6a6_row5_col2\" class=\"data row5 col2\" >17.4%</td>\n",
       "                        <td id=\"T_6b6a6_row5_col3\" class=\"data row5 col3\" >26</td>\n",
       "            </tr>\n",
       "            <tr>\n",
       "                        <th id=\"T_6b6a6_level0_row6\" class=\"row_heading level0 row6\" >с одним продуктом</th>\n",
       "                        <td id=\"T_6b6a6_row6_col0\" class=\"data row6 col0\" >5084</td>\n",
       "                        <td id=\"T_6b6a6_row6_col1\" class=\"data row6 col1\" >27.7%</td>\n",
       "                        <td id=\"T_6b6a6_row6_col2\" class=\"data row6 col2\" >12.8%</td>\n",
       "                        <td id=\"T_6b6a6_row6_col3\" class=\"data row6 col3\" >26</td>\n",
       "            </tr>\n",
       "            <tr>\n",
       "                        <th id=\"T_6b6a6_level0_row7\" class=\"row_heading level0 row7\" >женщина из Ростова</th>\n",
       "                        <td id=\"T_6b6a6_row7_col0\" class=\"data row7 col0\" >1193</td>\n",
       "                        <td id=\"T_6b6a6_row7_col1\" class=\"data row7 col1\" >37.6%</td>\n",
       "                        <td id=\"T_6b6a6_row7_col2\" class=\"data row7 col2\" >18.0%</td>\n",
       "                        <td id=\"T_6b6a6_row7_col3\" class=\"data row7 col3\" >21</td>\n",
       "            </tr>\n",
       "            <tr>\n",
       "                        <th id=\"T_6b6a6_level0_row8\" class=\"row_heading level0 row8\" >неактивные женщины</th>\n",
       "                        <td id=\"T_6b6a6_row8_col0\" class=\"data row8 col0\" >2259</td>\n",
       "                        <td id=\"T_6b6a6_row8_col1\" class=\"data row8 col1\" >32.1%</td>\n",
       "                        <td id=\"T_6b6a6_row8_col2\" class=\"data row8 col2\" >16.9%</td>\n",
       "                        <td id=\"T_6b6a6_row8_col3\" class=\"data row8 col3\" >20</td>\n",
       "            </tr>\n",
       "            <tr>\n",
       "                        <th id=\"T_6b6a6_level0_row9\" class=\"row_heading level0 row9\" >без пропусков в балансе</th>\n",
       "                        <td id=\"T_6b6a6_row9_col0\" class=\"data row9 col0\" >6383</td>\n",
       "                        <td id=\"T_6b6a6_row9_col1\" class=\"data row9 col1\" >24.1%</td>\n",
       "                        <td id=\"T_6b6a6_row9_col2\" class=\"data row9 col2\" >13.8%</td>\n",
       "                        <td id=\"T_6b6a6_row9_col3\" class=\"data row9 col3\" >19</td>\n",
       "            </tr>\n",
       "    </tbody></table>"
      ],
      "text/plain": [
       "<pandas.io.formats.style.Styler at 0x7f87e86d7af0>"
      ]
     },
     "execution_count": 32,
     "metadata": {},
     "output_type": "execute_result"
    }
   ],
   "source": [
    "### КОД СТУДЕНТА\n",
    "df_temp = pd.read_csv('/datasets/bank_dataset.csv')\n",
    "df_temp.columns = df_temp.columns.str.lower()\n",
    "age_break = np.random.choice(range(37,46))\n",
    "examples = [\n",
    "    (\"без пропусков в балансе\",'balance == balance'),\n",
    "    (\"в возрасте 45+ ростовчане\", 'city == \"Ростов Великий\" and age>=45'),\n",
    "    (\"не с двумя продуктами\",'products != 2'),\n",
    "    (\"неактивные ростовчане\", 'city == \"Ростов Великий\" and loyalty == 0'),\n",
    "    (\"женщина из Ростова\", 'city == \"Ростов Великий\" and gender == \"Ж\"'),\n",
    "    (\"неактивные женщины\", 'gender == \"Ж\" and loyalty == 0'),\n",
    "    (\"пользователи 3 и 4 продуктов\",'products > 2'),\n",
    "    (\"в возрасте 45+\",'age>=45'),\n",
    "    (\"с одним продуктом\",'products == 1'),\n",
    "    (\"в возрасте 45+ с одним продуктом\",'age>=45 and products == 1'),\n",
    "]\n",
    "\n",
    "# по заданным запросам делаем табличку с размерами разных групп \n",
    "# и уровнем оттока в группе и внё её\n",
    "dfs_temp = []\n",
    "for text, query in examples:\n",
    "    this_data = df_temp.query(query)\n",
    "    other_data_idx = df_temp.index.difference(this_data.index)\n",
    "    result = this_data\\\n",
    "              .agg({\"churn\":[\"count\",\"mean\"]}).T\n",
    "    result.loc['churn','other_churn'] = df_temp.loc[other_data_idx].agg({\"churn\":\"mean\"}).item()\n",
    "    result.index = [text]\n",
    "    result = result.rename(columns={\"count\":\"num\",\"mean\":\"churn\"})\n",
    "    dfs_temp.append(result)\n",
    "    \n",
    "# придумаем коэффициент, по которому будем ранжировать группы\n",
    "# поправку на размер сегмента можно выбрать и другую:\n",
    "# np.log, np.sqrt, вообще обойтись без поправки\n",
    "df_temp = pd.concat(dfs_temp)\n",
    "df_temp['coef'] = (np.cbrt(df_temp.num) * (df_temp.churn - df_temp.other_churn)).round(1) * 10\n",
    "df_temp.sort_values('coef',ascending=False)\\\n",
    "       .style.format({\"churn\":\"{:.1%}\",\"other_churn\":\"{:.1%}\",\"num\":\"{:.0f}\",\"coef\":\"{:.0f}\"})"
   ]
  },
  {
   "cell_type": "code",
   "execution_count": 33,
   "id": "6a5470a0",
   "metadata": {},
   "outputs": [
    {
     "data": {
      "text/html": [
       "<style  type=\"text/css\" >\n",
       "</style><table id=\"T_142cc_\" ><thead>    <tr>        <th class=\"blank level0\" ></th>        <th class=\"col_heading level0 col0\" >num</th>        <th class=\"col_heading level0 col1\" >churn</th>        <th class=\"col_heading level0 col2\" >other_churn</th>        <th class=\"col_heading level0 col3\" >coef</th>    </tr></thead><tbody>\n",
       "                <tr>\n",
       "                        <th id=\"T_142cc_level0_row0\" class=\"row_heading level0 row0\" >пользователи 3 и 4 продуктов</th>\n",
       "                        <td id=\"T_142cc_row0_col0\" class=\"data row0 col0\" >326</td>\n",
       "                        <td id=\"T_142cc_row0_col1\" class=\"data row0 col1\" >85.9%</td>\n",
       "                        <td id=\"T_142cc_row0_col2\" class=\"data row0 col2\" >18.2%</td>\n",
       "                        <td id=\"T_142cc_row0_col3\" class=\"data row0 col3\" >47</td>\n",
       "            </tr>\n",
       "            <tr>\n",
       "                        <th id=\"T_142cc_level0_row1\" class=\"row_heading level0 row1\" >в возрасте 45+ с одним продуктом</th>\n",
       "                        <td id=\"T_142cc_row1_col0\" class=\"data row1 col0\" >1374</td>\n",
       "                        <td id=\"T_142cc_row1_col1\" class=\"data row1 col1\" >54.0%</td>\n",
       "                        <td id=\"T_142cc_row1_col2\" class=\"data row1 col2\" >15.0%</td>\n",
       "                        <td id=\"T_142cc_row1_col3\" class=\"data row1 col3\" >43</td>\n",
       "            </tr>\n",
       "            <tr>\n",
       "                        <th id=\"T_142cc_level0_row2\" class=\"row_heading level0 row2\" >в возрасте 45+</th>\n",
       "                        <td id=\"T_142cc_row2_col0\" class=\"data row2 col0\" >2340</td>\n",
       "                        <td id=\"T_142cc_row2_col1\" class=\"data row2 col1\" >44.6%</td>\n",
       "                        <td id=\"T_142cc_row2_col2\" class=\"data row2 col2\" >13.0%</td>\n",
       "                        <td id=\"T_142cc_row2_col3\" class=\"data row2 col3\" >42</td>\n",
       "            </tr>\n",
       "            <tr>\n",
       "                        <th id=\"T_142cc_level0_row3\" class=\"row_heading level0 row3\" >не с двумя продуктами</th>\n",
       "                        <td id=\"T_142cc_row3_col0\" class=\"data row3 col0\" >5410</td>\n",
       "                        <td id=\"T_142cc_row3_col1\" class=\"data row3 col1\" >31.2%</td>\n",
       "                        <td id=\"T_142cc_row3_col2\" class=\"data row3 col2\" >7.6%</td>\n",
       "                        <td id=\"T_142cc_row3_col3\" class=\"data row3 col3\" >41</td>\n",
       "            </tr>\n",
       "            <tr>\n",
       "                        <th id=\"T_142cc_level0_row4\" class=\"row_heading level0 row4\" >в возрасте 45+ ростовчане</th>\n",
       "                        <td id=\"T_142cc_row4_col0\" class=\"data row4 col0\" >688</td>\n",
       "                        <td id=\"T_142cc_row4_col1\" class=\"data row4 col1\" >61.6%</td>\n",
       "                        <td id=\"T_142cc_row4_col2\" class=\"data row4 col2\" >17.3%</td>\n",
       "                        <td id=\"T_142cc_row4_col3\" class=\"data row4 col3\" >39</td>\n",
       "            </tr>\n",
       "            <tr>\n",
       "                        <th id=\"T_142cc_level0_row5\" class=\"row_heading level0 row5\" >неактивные ростовчане</th>\n",
       "                        <td id=\"T_142cc_row5_col0\" class=\"data row5 col0\" >1261</td>\n",
       "                        <td id=\"T_142cc_row5_col1\" class=\"data row5 col1\" >41.1%</td>\n",
       "                        <td id=\"T_142cc_row5_col2\" class=\"data row5 col2\" >17.4%</td>\n",
       "                        <td id=\"T_142cc_row5_col3\" class=\"data row5 col3\" >26</td>\n",
       "            </tr>\n",
       "            <tr>\n",
       "                        <th id=\"T_142cc_level0_row6\" class=\"row_heading level0 row6\" >с одним продуктом</th>\n",
       "                        <td id=\"T_142cc_row6_col0\" class=\"data row6 col0\" >5084</td>\n",
       "                        <td id=\"T_142cc_row6_col1\" class=\"data row6 col1\" >27.7%</td>\n",
       "                        <td id=\"T_142cc_row6_col2\" class=\"data row6 col2\" >12.8%</td>\n",
       "                        <td id=\"T_142cc_row6_col3\" class=\"data row6 col3\" >26</td>\n",
       "            </tr>\n",
       "            <tr>\n",
       "                        <th id=\"T_142cc_level0_row7\" class=\"row_heading level0 row7\" >женщина из Ростова</th>\n",
       "                        <td id=\"T_142cc_row7_col0\" class=\"data row7 col0\" >1193</td>\n",
       "                        <td id=\"T_142cc_row7_col1\" class=\"data row7 col1\" >37.6%</td>\n",
       "                        <td id=\"T_142cc_row7_col2\" class=\"data row7 col2\" >18.0%</td>\n",
       "                        <td id=\"T_142cc_row7_col3\" class=\"data row7 col3\" >21</td>\n",
       "            </tr>\n",
       "            <tr>\n",
       "                        <th id=\"T_142cc_level0_row8\" class=\"row_heading level0 row8\" >неактивные женщины</th>\n",
       "                        <td id=\"T_142cc_row8_col0\" class=\"data row8 col0\" >2259</td>\n",
       "                        <td id=\"T_142cc_row8_col1\" class=\"data row8 col1\" >32.1%</td>\n",
       "                        <td id=\"T_142cc_row8_col2\" class=\"data row8 col2\" >16.9%</td>\n",
       "                        <td id=\"T_142cc_row8_col3\" class=\"data row8 col3\" >20</td>\n",
       "            </tr>\n",
       "            <tr>\n",
       "                        <th id=\"T_142cc_level0_row9\" class=\"row_heading level0 row9\" >без пропусков в балансе</th>\n",
       "                        <td id=\"T_142cc_row9_col0\" class=\"data row9 col0\" >6383</td>\n",
       "                        <td id=\"T_142cc_row9_col1\" class=\"data row9 col1\" >24.1%</td>\n",
       "                        <td id=\"T_142cc_row9_col2\" class=\"data row9 col2\" >13.8%</td>\n",
       "                        <td id=\"T_142cc_row9_col3\" class=\"data row9 col3\" >19</td>\n",
       "            </tr>\n",
       "    </tbody></table>"
      ],
      "text/plain": [
       "<pandas.io.formats.style.Styler at 0x7f87e86d7dc0>"
      ]
     },
     "metadata": {},
     "output_type": "display_data"
    }
   ],
   "source": [
    "display(df_temp.sort_values('coef',ascending=False)\\\n",
    "       .style.format({\"churn\":\"{:.1%}\",\"other_churn\":\"{:.1%}\",\"num\":\"{:.0f}\",\"coef\":\"{:.0f}\"}))"
   ]
  },
  {
   "cell_type": "markdown",
   "id": "8f087583",
   "metadata": {},
   "source": [
    "## Сформулируем и проверим статистические гипотезы"
   ]
  },
  {
   "cell_type": "markdown",
   "id": "91346078",
   "metadata": {},
   "source": [
    "* Проверьте гипотезу различия дохода между теми клиентами, которые пользуются двумя продуктами банка, и теми, которые пользуются одним"
   ]
  },
  {
   "cell_type": "markdown",
   "id": "9dc5f479",
   "metadata": {},
   "source": [
    "H0 - Доходы клиентов, которые пользуются двумя продуктами банка, и теми, которые пользуются одним, равны  \n",
    "Н1 - Доходы клиентов, которые пользуются двумя продуктами банка, и теми, которые пользуются одним, не равны"
   ]
  },
  {
   "cell_type": "code",
   "execution_count": 34,
   "id": "2afd27ae",
   "metadata": {
    "scrolled": true
   },
   "outputs": [
    {
     "name": "stdout",
     "output_type": "stream",
     "text": [
      "p-значение: 0.4079566651927651\n",
      "Не получилось отвергнуть нулевую гипотезу\n"
     ]
    }
   ],
   "source": [
    "alpha = 0.05\n",
    "\n",
    "results = st.mannwhitneyu(\n",
    "    bank_data.query('products == 1')['estimated_salary'], \n",
    "    bank_data.query('products == 2')['estimated_salary'], \n",
    "    alternative = 'two-sided')\n",
    "\n",
    "print('p-значение:', results.pvalue)\n",
    "\n",
    "if (results.pvalue < alpha):\n",
    "    print(\"Отвергаем нулевую гипотезу\")\n",
    "else:\n",
    "    print(\"Не получилось отвергнуть нулевую гипотезу\")"
   ]
  },
  {
   "cell_type": "markdown",
   "id": "b5852917",
   "metadata": {},
   "source": [
    "Не удалось отвергнуть нулевую гипотезу: мы не можем сказать, что доходы клиентов, которые пользуются двумя продуктами банка, и теми, которые пользуются одним, не равны"
   ]
  },
  {
   "cell_type": "markdown",
   "id": "284dc056",
   "metadata": {},
   "source": [
    "H0 - Отток клиентов, которые пользуются 2+ продуктами банка, и отток тех, которые пользуются 1, равны  \n",
    "H1 - Отток клиентов, которые пользуются 2+ продуктами банка, и отток тех, которые пользуются 1, не равны"
   ]
  },
  {
   "cell_type": "code",
   "execution_count": 35,
   "id": "db8fe43f",
   "metadata": {},
   "outputs": [
    {
     "name": "stdout",
     "output_type": "stream",
     "text": [
      "p-значение: 2.0079099625883425e-79\n",
      "Отвергаем нулевую гипотезу\n"
     ]
    }
   ],
   "source": [
    "alpha = 0.05\n",
    "\n",
    "from statsmodels.stats import weightstats as stests\n",
    "\n",
    "results, pvalue = stests.ztest(\n",
    "    bank_data.query('products == 1')['churn'], \n",
    "    x2=bank_data.query('products > 1')['churn'],\n",
    "    value = 0,\n",
    "    alternative='two-sided')\n",
    "\n",
    "print('p-значение:', float(pvalue))\n",
    "\n",
    "if (pvalue < alpha):\n",
    "    print(\"Отвергаем нулевую гипотезу\")\n",
    "else:\n",
    "    print(\"Не получилось отвергнуть нулевую гипотезу\")"
   ]
  },
  {
   "cell_type": "markdown",
   "id": "39b3c9ef",
   "metadata": {},
   "source": [
    "Отвергаем нулевую гипотезу: отток клиентов, которые пользуются 2+ продуктами банка, и отток тех, которые пользуются 1, не равны"
   ]
  },
  {
   "cell_type": "markdown",
   "id": "7880508e",
   "metadata": {},
   "source": [
    "<div class=\"alert alert-success\"><b>Комментарий ревьюера</b>&nbsp;✔️<br>\n",
    "Гипотезы сформулированы и проверены верно!\n",
    "</div><div class=\"alert alert-danger\"><b>Комментарий ревьюера</b>&nbsp;👀<br>\n",
    "Можно ли было тут применить t-критерий Стьюдента?\n",
    "</div>"
   ]
  },
  {
   "cell_type": "markdown",
   "id": "04877c7f",
   "metadata": {},
   "source": [
    "<div class=\"alert btn-primary\"><b>Комментарий студента:</b><br>   Для применения t-критерия Стьюдента необходимо, чтобы исходные данные имели нормальное распределение. В нашем случае признак estimated_salary имеет равномерное распределение, а churn - бинарная величина </div>"
   ]
  },
  {
   "cell_type": "markdown",
   "id": "a80dda2a",
   "metadata": {},
   "source": [
    "## Выводы:\n",
    "Мы проанализировали клиентов регионального банка и сегментировали пользователей по количеству потребляемых продуктов.\n",
    "* Самый большой отток клиентов 32% в городе Ростов Великий. Нужно провести проверку офиса в этом городе, возможно есть проблемы во внутренних процессах или обслуживании клиентов, или офис находится в неудобном для клиентов месте. Может быть мало банкоматов в этом городе  \n",
    "* Если у клиента всего 1 продукт, он с большей вероятностью попадет в отток. Нужно мотивировать клиентов для оформления дополнительных продуктов, разработать систему допольнительных бонусов  \n",
    "* Клиенты возраста 45+, с большей вероятностью попадают в отток. Возможно клиентам сложно разобраться как пользоваться картами и совершать финансовые операции. Необходимо разработать подробные инструкции и обучающий материал как пользоваться всеми продуктами банка  \n",
    "* Неактивные пользователи, с большей вероятностью попадают в отток. Необходимо разработать и предложиться неактивным клиентам, дополнительные бонусы за использование продуктов и мотивировать клиентов"
   ]
  },
  {
   "cell_type": "markdown",
   "id": "e46ecfbd",
   "metadata": {},
   "source": [
    "<div class=\"alert alert-success\"><b>Комментарий ревьюера</b>&nbsp;✔️<br>\n",
    "Краткие, но достаточно конкретные рекомендации.\n",
    "</div>"
   ]
  },
  {
   "cell_type": "markdown",
   "id": "ae860fa7",
   "metadata": {},
   "source": [
    "<div class=\"alert alert-warning\"><b>Комментарий ревьюера</b>&nbsp;📌<br>Чек-лист доделок:\n",
    "\n",
    "    \n",
    "* зафиксировать в промежуточных итогах после анализа данных те признаки, которые влияют на отток, сделать графики для презентации (по одному на каждый стратегический признак + кусок или столбец матрицы корреляций для завершающего слайда по признакам)\n",
    "* разделить возраст на интервалы отточные и нет\n",
    "* разделить клиентов на сегменты\n",
    "* дать комментарий по поводу критерия\n",
    "</div>"
   ]
  }
 ],
 "metadata": {
  "ExecuteTimeLog": [
   {
    "duration": 1361,
    "start_time": "2022-07-14T08:34:47.279Z"
   },
   {
    "duration": 139,
    "start_time": "2022-07-14T08:34:51.147Z"
   },
   {
    "duration": 5,
    "start_time": "2022-07-14T08:37:30.394Z"
   },
   {
    "duration": 12,
    "start_time": "2022-07-14T08:37:48.835Z"
   },
   {
    "duration": 4,
    "start_time": "2022-07-14T08:39:15.351Z"
   },
   {
    "duration": 13,
    "start_time": "2022-07-14T08:39:28.986Z"
   },
   {
    "duration": 41,
    "start_time": "2022-07-14T08:39:51.512Z"
   },
   {
    "duration": 15,
    "start_time": "2022-07-14T08:41:21.696Z"
   },
   {
    "duration": 15,
    "start_time": "2022-07-14T08:43:07.704Z"
   },
   {
    "duration": 6,
    "start_time": "2022-07-14T08:45:09.772Z"
   },
   {
    "duration": 2895,
    "start_time": "2022-07-14T08:45:27.624Z"
   },
   {
    "duration": 19,
    "start_time": "2022-07-14T08:54:49.398Z"
   },
   {
    "duration": 1678,
    "start_time": "2022-07-14T08:55:20.462Z"
   },
   {
    "duration": 7,
    "start_time": "2022-07-14T09:04:25.687Z"
   },
   {
    "duration": 6,
    "start_time": "2022-07-14T09:04:31.920Z"
   },
   {
    "duration": 21,
    "start_time": "2022-07-14T09:06:07.589Z"
   },
   {
    "duration": 19,
    "start_time": "2022-07-14T09:07:06.256Z"
   },
   {
    "duration": 1030,
    "start_time": "2022-07-14T09:11:43.477Z"
   },
   {
    "duration": 1848,
    "start_time": "2022-07-14T09:12:05.122Z"
   },
   {
    "duration": 1416,
    "start_time": "2022-07-14T09:13:00.744Z"
   },
   {
    "duration": 1920,
    "start_time": "2022-07-14T09:16:55.547Z"
   },
   {
    "duration": 337,
    "start_time": "2022-07-14T09:17:12.851Z"
   },
   {
    "duration": 1945,
    "start_time": "2022-07-14T09:17:19.222Z"
   },
   {
    "duration": 2136,
    "start_time": "2022-07-14T09:18:11.288Z"
   },
   {
    "duration": 1949,
    "start_time": "2022-07-14T09:18:24.074Z"
   },
   {
    "duration": 1046,
    "start_time": "2022-07-14T09:19:18.600Z"
   },
   {
    "duration": 1048,
    "start_time": "2022-07-14T09:21:07.910Z"
   },
   {
    "duration": 1927,
    "start_time": "2022-07-14T09:23:15.061Z"
   },
   {
    "duration": 2450,
    "start_time": "2022-07-14T09:24:21.252Z"
   },
   {
    "duration": 1091,
    "start_time": "2022-07-14T09:26:54.916Z"
   },
   {
    "duration": 1260,
    "start_time": "2022-07-14T09:27:09.676Z"
   },
   {
    "duration": 1066,
    "start_time": "2022-07-14T09:27:16.863Z"
   },
   {
    "duration": 1214,
    "start_time": "2022-07-14T11:58:15.761Z"
   },
   {
    "duration": 58,
    "start_time": "2022-07-14T11:58:16.977Z"
   },
   {
    "duration": 11,
    "start_time": "2022-07-14T11:58:17.037Z"
   },
   {
    "duration": 22,
    "start_time": "2022-07-14T11:58:17.050Z"
   },
   {
    "duration": 15,
    "start_time": "2022-07-14T11:58:17.074Z"
   },
   {
    "duration": 35,
    "start_time": "2022-07-14T11:58:17.091Z"
   },
   {
    "duration": 15,
    "start_time": "2022-07-14T11:58:17.127Z"
   },
   {
    "duration": 23,
    "start_time": "2022-07-14T11:58:17.143Z"
   },
   {
    "duration": 2933,
    "start_time": "2022-07-14T11:58:17.168Z"
   },
   {
    "duration": 18,
    "start_time": "2022-07-14T11:58:20.103Z"
   },
   {
    "duration": 1770,
    "start_time": "2022-07-14T11:58:20.122Z"
   },
   {
    "duration": 6,
    "start_time": "2022-07-14T11:58:21.894Z"
   },
   {
    "duration": 27,
    "start_time": "2022-07-14T11:58:21.901Z"
   },
   {
    "duration": 1281,
    "start_time": "2022-07-14T11:58:21.929Z"
   },
   {
    "duration": 1176,
    "start_time": "2022-07-14T11:58:23.212Z"
   },
   {
    "duration": 44,
    "start_time": "2022-07-14T12:01:54.742Z"
   },
   {
    "duration": 26,
    "start_time": "2022-07-14T12:03:08.659Z"
   },
   {
    "duration": 1239,
    "start_time": "2022-07-14T12:03:36.341Z"
   },
   {
    "duration": 58,
    "start_time": "2022-07-14T12:03:37.582Z"
   },
   {
    "duration": 36,
    "start_time": "2022-07-14T12:03:37.642Z"
   },
   {
    "duration": 1361,
    "start_time": "2022-07-14T12:03:37.680Z"
   },
   {
    "duration": 0,
    "start_time": "2022-07-14T12:03:39.043Z"
   },
   {
    "duration": 0,
    "start_time": "2022-07-14T12:03:39.044Z"
   },
   {
    "duration": 0,
    "start_time": "2022-07-14T12:03:39.045Z"
   },
   {
    "duration": 0,
    "start_time": "2022-07-14T12:03:39.047Z"
   },
   {
    "duration": 0,
    "start_time": "2022-07-14T12:03:39.048Z"
   },
   {
    "duration": 0,
    "start_time": "2022-07-14T12:03:39.048Z"
   },
   {
    "duration": 0,
    "start_time": "2022-07-14T12:03:39.050Z"
   },
   {
    "duration": 0,
    "start_time": "2022-07-14T12:03:39.051Z"
   },
   {
    "duration": 0,
    "start_time": "2022-07-14T12:03:39.052Z"
   },
   {
    "duration": 0,
    "start_time": "2022-07-14T12:03:39.053Z"
   },
   {
    "duration": 0,
    "start_time": "2022-07-14T12:03:39.054Z"
   },
   {
    "duration": 0,
    "start_time": "2022-07-14T12:03:39.056Z"
   },
   {
    "duration": 0,
    "start_time": "2022-07-14T12:03:39.057Z"
   },
   {
    "duration": 1254,
    "start_time": "2022-07-14T12:05:16.248Z"
   },
   {
    "duration": 58,
    "start_time": "2022-07-14T12:05:17.505Z"
   },
   {
    "duration": 42,
    "start_time": "2022-07-14T12:05:17.565Z"
   },
   {
    "duration": 12,
    "start_time": "2022-07-14T12:05:17.610Z"
   },
   {
    "duration": 32,
    "start_time": "2022-07-14T12:05:17.624Z"
   },
   {
    "duration": 12,
    "start_time": "2022-07-14T12:05:17.663Z"
   },
   {
    "duration": 61,
    "start_time": "2022-07-14T12:05:17.676Z"
   },
   {
    "duration": 14,
    "start_time": "2022-07-14T12:05:17.739Z"
   },
   {
    "duration": 23,
    "start_time": "2022-07-14T12:05:17.755Z"
   },
   {
    "duration": 2991,
    "start_time": "2022-07-14T12:05:17.780Z"
   },
   {
    "duration": 17,
    "start_time": "2022-07-14T12:05:20.773Z"
   },
   {
    "duration": 1756,
    "start_time": "2022-07-14T12:05:20.792Z"
   },
   {
    "duration": 8,
    "start_time": "2022-07-14T12:05:22.551Z"
   },
   {
    "duration": 41,
    "start_time": "2022-07-14T12:05:22.561Z"
   },
   {
    "duration": 1278,
    "start_time": "2022-07-14T12:05:22.604Z"
   },
   {
    "duration": 1151,
    "start_time": "2022-07-14T12:05:23.884Z"
   },
   {
    "duration": 6,
    "start_time": "2022-07-14T12:08:07.637Z"
   },
   {
    "duration": 14,
    "start_time": "2022-07-14T12:08:18.071Z"
   },
   {
    "duration": 34,
    "start_time": "2022-07-14T12:08:42.256Z"
   },
   {
    "duration": 2872,
    "start_time": "2022-07-14T12:09:53.955Z"
   },
   {
    "duration": 6,
    "start_time": "2022-07-14T12:12:13.572Z"
   },
   {
    "duration": 2878,
    "start_time": "2022-07-14T12:12:28.962Z"
   },
   {
    "duration": 36,
    "start_time": "2022-07-14T12:15:55.768Z"
   },
   {
    "duration": 17,
    "start_time": "2022-07-14T12:35:12.424Z"
   },
   {
    "duration": 1234,
    "start_time": "2022-07-14T12:35:17.633Z"
   },
   {
    "duration": 62,
    "start_time": "2022-07-14T12:35:18.870Z"
   },
   {
    "duration": 38,
    "start_time": "2022-07-14T12:35:18.934Z"
   },
   {
    "duration": 110,
    "start_time": "2022-07-14T12:35:18.974Z"
   },
   {
    "duration": 0,
    "start_time": "2022-07-14T12:35:19.086Z"
   },
   {
    "duration": 0,
    "start_time": "2022-07-14T12:35:19.087Z"
   },
   {
    "duration": 0,
    "start_time": "2022-07-14T12:35:19.089Z"
   },
   {
    "duration": 0,
    "start_time": "2022-07-14T12:35:19.089Z"
   },
   {
    "duration": 1,
    "start_time": "2022-07-14T12:35:19.090Z"
   },
   {
    "duration": 0,
    "start_time": "2022-07-14T12:35:19.091Z"
   },
   {
    "duration": 0,
    "start_time": "2022-07-14T12:35:19.093Z"
   },
   {
    "duration": 0,
    "start_time": "2022-07-14T12:35:19.095Z"
   },
   {
    "duration": 0,
    "start_time": "2022-07-14T12:35:19.096Z"
   },
   {
    "duration": 0,
    "start_time": "2022-07-14T12:35:19.097Z"
   },
   {
    "duration": 0,
    "start_time": "2022-07-14T12:35:19.098Z"
   },
   {
    "duration": 0,
    "start_time": "2022-07-14T12:35:19.100Z"
   },
   {
    "duration": 0,
    "start_time": "2022-07-14T12:35:19.102Z"
   },
   {
    "duration": 0,
    "start_time": "2022-07-14T12:35:19.103Z"
   },
   {
    "duration": 1,
    "start_time": "2022-07-14T12:35:19.104Z"
   },
   {
    "duration": 0,
    "start_time": "2022-07-14T12:35:19.106Z"
   },
   {
    "duration": 0,
    "start_time": "2022-07-14T12:35:19.107Z"
   },
   {
    "duration": 1,
    "start_time": "2022-07-14T12:35:19.108Z"
   },
   {
    "duration": 1297,
    "start_time": "2022-07-14T12:35:51.448Z"
   },
   {
    "duration": 89,
    "start_time": "2022-07-14T12:35:52.748Z"
   },
   {
    "duration": 39,
    "start_time": "2022-07-14T12:35:52.840Z"
   },
   {
    "duration": 12,
    "start_time": "2022-07-14T12:35:52.882Z"
   },
   {
    "duration": 19,
    "start_time": "2022-07-14T12:35:52.896Z"
   },
   {
    "duration": 13,
    "start_time": "2022-07-14T12:35:52.917Z"
   },
   {
    "duration": 36,
    "start_time": "2022-07-14T12:35:52.932Z"
   },
   {
    "duration": 36,
    "start_time": "2022-07-14T12:35:52.970Z"
   },
   {
    "duration": 15,
    "start_time": "2022-07-14T12:35:53.008Z"
   },
   {
    "duration": 5,
    "start_time": "2022-07-14T12:35:53.026Z"
   },
   {
    "duration": 3009,
    "start_time": "2022-07-14T12:35:53.033Z"
   },
   {
    "duration": 32,
    "start_time": "2022-07-14T12:35:56.044Z"
   },
   {
    "duration": 1730,
    "start_time": "2022-07-14T12:35:56.078Z"
   },
   {
    "duration": 8,
    "start_time": "2022-07-14T12:35:57.810Z"
   },
   {
    "duration": 26,
    "start_time": "2022-07-14T12:35:57.819Z"
   },
   {
    "duration": 1226,
    "start_time": "2022-07-14T12:35:57.847Z"
   },
   {
    "duration": 1160,
    "start_time": "2022-07-14T12:35:59.075Z"
   },
   {
    "duration": 28,
    "start_time": "2022-07-14T12:36:00.237Z"
   },
   {
    "duration": 44,
    "start_time": "2022-07-14T12:36:00.266Z"
   },
   {
    "duration": 33,
    "start_time": "2022-07-14T12:36:00.311Z"
   },
   {
    "duration": 20,
    "start_time": "2022-07-14T12:36:00.346Z"
   },
   {
    "duration": 2777,
    "start_time": "2022-07-14T12:36:00.368Z"
   },
   {
    "duration": 18,
    "start_time": "2022-07-14T12:44:07.019Z"
   },
   {
    "duration": 18,
    "start_time": "2022-07-14T13:53:43.005Z"
   },
   {
    "duration": 23,
    "start_time": "2022-07-14T13:54:32.618Z"
   },
   {
    "duration": 23,
    "start_time": "2022-07-14T13:54:39.395Z"
   },
   {
    "duration": 22,
    "start_time": "2022-07-14T13:54:43.857Z"
   },
   {
    "duration": 19,
    "start_time": "2022-07-14T13:55:46.881Z"
   },
   {
    "duration": 16,
    "start_time": "2022-07-14T14:23:42.473Z"
   },
   {
    "duration": 10,
    "start_time": "2022-07-14T14:26:24.036Z"
   },
   {
    "duration": 11,
    "start_time": "2022-07-14T14:26:30.897Z"
   },
   {
    "duration": 1412,
    "start_time": "2022-07-15T13:13:50.328Z"
   },
   {
    "duration": 6,
    "start_time": "2022-07-15T13:14:08.640Z"
   },
   {
    "duration": 5,
    "start_time": "2022-07-15T13:14:11.874Z"
   },
   {
    "duration": 184,
    "start_time": "2022-07-15T13:15:02.033Z"
   },
   {
    "duration": 182,
    "start_time": "2022-07-15T13:16:15.936Z"
   },
   {
    "duration": 137,
    "start_time": "2022-07-15T13:16:20.650Z"
   },
   {
    "duration": 48,
    "start_time": "2022-07-15T19:24:34.581Z"
   },
   {
    "duration": 1375,
    "start_time": "2022-07-15T19:24:38.886Z"
   },
   {
    "duration": 102,
    "start_time": "2022-07-15T19:24:40.263Z"
   },
   {
    "duration": 36,
    "start_time": "2022-07-15T19:24:40.366Z"
   },
   {
    "duration": 10,
    "start_time": "2022-07-15T19:24:40.404Z"
   },
   {
    "duration": 15,
    "start_time": "2022-07-15T19:24:40.417Z"
   },
   {
    "duration": 18,
    "start_time": "2022-07-15T19:24:40.433Z"
   },
   {
    "duration": 10,
    "start_time": "2022-07-15T19:24:40.452Z"
   },
   {
    "duration": 12,
    "start_time": "2022-07-15T19:24:40.464Z"
   },
   {
    "duration": 62,
    "start_time": "2022-07-15T19:24:40.477Z"
   },
   {
    "duration": 14,
    "start_time": "2022-07-15T19:24:40.540Z"
   },
   {
    "duration": 5,
    "start_time": "2022-07-15T19:24:40.555Z"
   },
   {
    "duration": 2908,
    "start_time": "2022-07-15T19:24:40.561Z"
   },
   {
    "duration": 17,
    "start_time": "2022-07-15T19:24:43.471Z"
   },
   {
    "duration": 31,
    "start_time": "2022-07-15T19:24:43.490Z"
   },
   {
    "duration": 1705,
    "start_time": "2022-07-15T19:24:43.523Z"
   },
   {
    "duration": 6,
    "start_time": "2022-07-15T19:24:45.230Z"
   },
   {
    "duration": 17,
    "start_time": "2022-07-15T19:24:45.237Z"
   },
   {
    "duration": 1149,
    "start_time": "2022-07-15T19:24:45.256Z"
   },
   {
    "duration": 1140,
    "start_time": "2022-07-15T19:24:46.407Z"
   },
   {
    "duration": 130,
    "start_time": "2022-07-15T19:24:47.548Z"
   },
   {
    "duration": 16,
    "start_time": "2022-07-15T19:24:47.680Z"
   },
   {
    "duration": 27,
    "start_time": "2022-07-15T19:24:47.698Z"
   },
   {
    "duration": 7,
    "start_time": "2022-07-15T19:25:32.444Z"
   },
   {
    "duration": 8,
    "start_time": "2022-07-15T19:40:07.419Z"
   },
   {
    "duration": 152,
    "start_time": "2022-07-15T19:40:25.661Z"
   },
   {
    "duration": 6,
    "start_time": "2022-07-15T19:40:39.487Z"
   },
   {
    "duration": 36,
    "start_time": "2022-07-15T19:44:37.556Z"
   },
   {
    "duration": 25,
    "start_time": "2022-07-15T19:46:26.048Z"
   },
   {
    "duration": 100,
    "start_time": "2022-07-15T19:51:49.139Z"
   },
   {
    "duration": 13,
    "start_time": "2022-07-15T19:52:14.162Z"
   },
   {
    "duration": 73,
    "start_time": "2022-07-15T19:52:21.155Z"
   },
   {
    "duration": 27,
    "start_time": "2022-07-15T19:52:37.542Z"
   },
   {
    "duration": 4,
    "start_time": "2022-07-15T19:54:34.398Z"
   },
   {
    "duration": 14,
    "start_time": "2022-07-15T19:55:01.760Z"
   },
   {
    "duration": 5,
    "start_time": "2022-07-15T19:55:08.892Z"
   },
   {
    "duration": 11,
    "start_time": "2022-07-15T20:05:22.407Z"
   },
   {
    "duration": 6,
    "start_time": "2022-07-15T20:08:36.951Z"
   },
   {
    "duration": 13,
    "start_time": "2022-07-15T20:08:48.314Z"
   },
   {
    "duration": 14,
    "start_time": "2022-07-15T20:08:56.999Z"
   },
   {
    "duration": 9,
    "start_time": "2022-07-15T20:09:36.042Z"
   },
   {
    "duration": 21,
    "start_time": "2022-07-15T20:14:42.120Z"
   },
   {
    "duration": 18,
    "start_time": "2022-07-15T20:14:53.188Z"
   },
   {
    "duration": 11,
    "start_time": "2022-07-15T20:16:10.592Z"
   },
   {
    "duration": 6,
    "start_time": "2022-07-15T20:17:05.158Z"
   },
   {
    "duration": 16,
    "start_time": "2022-07-15T20:17:18.800Z"
   },
   {
    "duration": 10,
    "start_time": "2022-07-15T20:30:02.665Z"
   },
   {
    "duration": 7,
    "start_time": "2022-07-15T20:30:21.041Z"
   },
   {
    "duration": 19,
    "start_time": "2022-07-15T20:31:49.220Z"
   },
   {
    "duration": 12,
    "start_time": "2022-07-15T20:32:17.411Z"
   },
   {
    "duration": 11,
    "start_time": "2022-07-15T20:32:40.750Z"
   },
   {
    "duration": 10,
    "start_time": "2022-07-15T20:33:24.902Z"
   },
   {
    "duration": 11,
    "start_time": "2022-07-15T20:33:45.973Z"
   },
   {
    "duration": 7,
    "start_time": "2022-07-15T20:34:09.050Z"
   },
   {
    "duration": 4,
    "start_time": "2022-07-15T20:36:59.417Z"
   },
   {
    "duration": 4,
    "start_time": "2022-07-15T20:37:03.912Z"
   },
   {
    "duration": 7,
    "start_time": "2022-07-15T20:37:50.892Z"
   },
   {
    "duration": 14,
    "start_time": "2022-07-15T20:39:56.643Z"
   },
   {
    "duration": 4,
    "start_time": "2022-07-15T20:44:17.696Z"
   },
   {
    "duration": 4,
    "start_time": "2022-07-15T20:44:19.790Z"
   },
   {
    "duration": 4,
    "start_time": "2022-07-15T20:44:20.434Z"
   },
   {
    "duration": 6,
    "start_time": "2022-07-15T20:44:21.015Z"
   },
   {
    "duration": 5,
    "start_time": "2022-07-15T20:44:21.519Z"
   },
   {
    "duration": 6,
    "start_time": "2022-07-15T20:44:21.989Z"
   },
   {
    "duration": 100,
    "start_time": "2022-07-15T20:50:54.083Z"
   },
   {
    "duration": 99,
    "start_time": "2022-07-15T20:51:36.163Z"
   },
   {
    "duration": 103,
    "start_time": "2022-07-15T20:55:20.880Z"
   },
   {
    "duration": 47,
    "start_time": "2022-07-15T20:59:58.477Z"
   },
   {
    "duration": 106,
    "start_time": "2022-07-15T21:00:15.484Z"
   },
   {
    "duration": 135,
    "start_time": "2022-07-15T21:01:11.463Z"
   },
   {
    "duration": 109,
    "start_time": "2022-07-15T21:01:22.120Z"
   },
   {
    "duration": 7,
    "start_time": "2022-07-15T21:04:24.873Z"
   },
   {
    "duration": 119,
    "start_time": "2022-07-15T21:05:43.784Z"
   },
   {
    "duration": 66,
    "start_time": "2022-07-15T21:08:19.609Z"
   },
   {
    "duration": 115,
    "start_time": "2022-07-15T21:08:28.809Z"
   },
   {
    "duration": 17,
    "start_time": "2022-07-15T21:08:44.950Z"
   },
   {
    "duration": 107,
    "start_time": "2022-07-15T21:08:52.901Z"
   },
   {
    "duration": 1159,
    "start_time": "2022-07-15T21:09:03.735Z"
   },
   {
    "duration": 62,
    "start_time": "2022-07-15T21:09:04.896Z"
   },
   {
    "duration": 35,
    "start_time": "2022-07-15T21:09:04.960Z"
   },
   {
    "duration": 11,
    "start_time": "2022-07-15T21:09:04.997Z"
   },
   {
    "duration": 23,
    "start_time": "2022-07-15T21:09:05.009Z"
   },
   {
    "duration": 19,
    "start_time": "2022-07-15T21:09:05.034Z"
   },
   {
    "duration": 11,
    "start_time": "2022-07-15T21:09:05.055Z"
   },
   {
    "duration": 6,
    "start_time": "2022-07-15T21:09:05.068Z"
   },
   {
    "duration": 10,
    "start_time": "2022-07-15T21:09:05.075Z"
   },
   {
    "duration": 17,
    "start_time": "2022-07-15T21:09:05.109Z"
   },
   {
    "duration": 6,
    "start_time": "2022-07-15T21:09:05.128Z"
   },
   {
    "duration": 23,
    "start_time": "2022-07-15T21:09:05.136Z"
   },
   {
    "duration": 7,
    "start_time": "2022-07-15T21:09:05.161Z"
   },
   {
    "duration": 6,
    "start_time": "2022-07-15T21:09:05.169Z"
   },
   {
    "duration": 38,
    "start_time": "2022-07-15T21:09:05.177Z"
   },
   {
    "duration": 15,
    "start_time": "2022-07-15T21:09:05.216Z"
   },
   {
    "duration": 13,
    "start_time": "2022-07-15T21:09:05.233Z"
   },
   {
    "duration": 36,
    "start_time": "2022-07-15T21:09:05.247Z"
   },
   {
    "duration": 37,
    "start_time": "2022-07-15T21:09:05.284Z"
   },
   {
    "duration": 4,
    "start_time": "2022-07-15T21:09:05.323Z"
   },
   {
    "duration": 3190,
    "start_time": "2022-07-15T21:09:05.329Z"
   },
   {
    "duration": 0,
    "start_time": "2022-07-15T21:09:08.521Z"
   },
   {
    "duration": 0,
    "start_time": "2022-07-15T21:09:08.522Z"
   },
   {
    "duration": 0,
    "start_time": "2022-07-15T21:09:08.523Z"
   },
   {
    "duration": 0,
    "start_time": "2022-07-15T21:09:08.524Z"
   },
   {
    "duration": 0,
    "start_time": "2022-07-15T21:09:08.525Z"
   },
   {
    "duration": 0,
    "start_time": "2022-07-15T21:09:08.526Z"
   },
   {
    "duration": 0,
    "start_time": "2022-07-15T21:09:08.527Z"
   },
   {
    "duration": 0,
    "start_time": "2022-07-15T21:09:08.528Z"
   },
   {
    "duration": 0,
    "start_time": "2022-07-15T21:09:08.529Z"
   },
   {
    "duration": 0,
    "start_time": "2022-07-15T21:09:08.530Z"
   },
   {
    "duration": 0,
    "start_time": "2022-07-15T21:09:08.531Z"
   },
   {
    "duration": 18,
    "start_time": "2022-07-15T21:09:28.823Z"
   },
   {
    "duration": 18,
    "start_time": "2022-07-15T21:09:33.466Z"
   },
   {
    "duration": 1573,
    "start_time": "2022-07-15T21:09:36.567Z"
   },
   {
    "duration": 5,
    "start_time": "2022-07-15T21:09:42.331Z"
   },
   {
    "duration": 20,
    "start_time": "2022-07-15T21:09:44.518Z"
   },
   {
    "duration": 1313,
    "start_time": "2022-07-15T21:09:47.979Z"
   },
   {
    "duration": 1088,
    "start_time": "2022-07-15T21:09:52.325Z"
   },
   {
    "duration": 149,
    "start_time": "2022-07-15T21:10:00.903Z"
   },
   {
    "duration": 114,
    "start_time": "2022-07-15T21:10:04.267Z"
   },
   {
    "duration": 113,
    "start_time": "2022-07-15T21:10:19.020Z"
   },
   {
    "duration": 113,
    "start_time": "2022-07-15T21:10:27.588Z"
   },
   {
    "duration": 121,
    "start_time": "2022-07-15T21:10:40.767Z"
   },
   {
    "duration": 21,
    "start_time": "2022-07-15T21:22:45.923Z"
   },
   {
    "duration": 23,
    "start_time": "2022-07-15T21:22:53.751Z"
   },
   {
    "duration": 15,
    "start_time": "2022-07-15T21:24:52.464Z"
   },
   {
    "duration": 1700,
    "start_time": "2022-07-15T21:26:18.047Z"
   },
   {
    "duration": 144,
    "start_time": "2022-07-15T22:18:05.084Z"
   },
   {
    "duration": 134,
    "start_time": "2022-07-15T22:18:12.198Z"
   },
   {
    "duration": 1514,
    "start_time": "2022-07-15T22:18:18.458Z"
   },
   {
    "duration": 408,
    "start_time": "2022-07-15T22:30:17.969Z"
   },
   {
    "duration": 338,
    "start_time": "2022-07-15T22:31:58.635Z"
   },
   {
    "duration": 351,
    "start_time": "2022-07-15T22:32:31.942Z"
   },
   {
    "duration": 460,
    "start_time": "2022-07-15T22:32:40.697Z"
   },
   {
    "duration": 394,
    "start_time": "2022-07-15T22:32:44.873Z"
   },
   {
    "duration": 394,
    "start_time": "2022-07-15T22:33:01.718Z"
   },
   {
    "duration": 413,
    "start_time": "2022-07-15T22:33:08.616Z"
   },
   {
    "duration": 360,
    "start_time": "2022-07-15T22:34:14.483Z"
   },
   {
    "duration": 366,
    "start_time": "2022-07-15T22:34:17.717Z"
   },
   {
    "duration": 418,
    "start_time": "2022-07-15T22:34:26.883Z"
   },
   {
    "duration": 360,
    "start_time": "2022-07-15T22:34:38.364Z"
   },
   {
    "duration": 382,
    "start_time": "2022-07-15T22:34:41.616Z"
   },
   {
    "duration": 390,
    "start_time": "2022-07-15T22:34:47.064Z"
   },
   {
    "duration": 401,
    "start_time": "2022-07-15T22:34:53.290Z"
   },
   {
    "duration": 24,
    "start_time": "2022-07-15T22:35:18.313Z"
   },
   {
    "duration": 534,
    "start_time": "2022-07-15T22:35:33.651Z"
   },
   {
    "duration": 364,
    "start_time": "2022-07-15T22:37:09.128Z"
   },
   {
    "duration": 47,
    "start_time": "2022-07-15T22:38:02.964Z"
   },
   {
    "duration": 346,
    "start_time": "2022-07-15T22:38:11.009Z"
   },
   {
    "duration": 414,
    "start_time": "2022-07-15T22:39:16.904Z"
   },
   {
    "duration": 387,
    "start_time": "2022-07-15T22:39:25.560Z"
   },
   {
    "duration": 433,
    "start_time": "2022-07-15T22:40:06.143Z"
   },
   {
    "duration": 385,
    "start_time": "2022-07-15T22:40:17.724Z"
   },
   {
    "duration": 399,
    "start_time": "2022-07-15T22:40:23.007Z"
   },
   {
    "duration": 371,
    "start_time": "2022-07-15T22:40:27.855Z"
   },
   {
    "duration": 370,
    "start_time": "2022-07-15T22:40:33.503Z"
   },
   {
    "duration": 404,
    "start_time": "2022-07-15T22:40:38.970Z"
   },
   {
    "duration": 7,
    "start_time": "2022-07-15T22:56:04.624Z"
   },
   {
    "duration": 7,
    "start_time": "2022-07-15T23:06:34.609Z"
   },
   {
    "duration": 70,
    "start_time": "2022-07-15T23:13:32.021Z"
   },
   {
    "duration": 1173,
    "start_time": "2022-07-15T23:13:42.134Z"
   },
   {
    "duration": 61,
    "start_time": "2022-07-15T23:13:43.310Z"
   },
   {
    "duration": 36,
    "start_time": "2022-07-15T23:13:43.373Z"
   },
   {
    "duration": 11,
    "start_time": "2022-07-15T23:13:43.411Z"
   },
   {
    "duration": 21,
    "start_time": "2022-07-15T23:13:43.425Z"
   },
   {
    "duration": 23,
    "start_time": "2022-07-15T23:13:43.448Z"
   },
   {
    "duration": 12,
    "start_time": "2022-07-15T23:13:43.473Z"
   },
   {
    "duration": 27,
    "start_time": "2022-07-15T23:13:43.487Z"
   },
   {
    "duration": 9,
    "start_time": "2022-07-15T23:13:43.516Z"
   },
   {
    "duration": 19,
    "start_time": "2022-07-15T23:13:43.527Z"
   },
   {
    "duration": 6,
    "start_time": "2022-07-15T23:13:43.548Z"
   },
   {
    "duration": 23,
    "start_time": "2022-07-15T23:13:43.555Z"
   },
   {
    "duration": 31,
    "start_time": "2022-07-15T23:13:43.580Z"
   },
   {
    "duration": 7,
    "start_time": "2022-07-15T23:13:43.614Z"
   },
   {
    "duration": 7,
    "start_time": "2022-07-15T23:13:43.622Z"
   },
   {
    "duration": 7,
    "start_time": "2022-07-15T23:13:43.631Z"
   },
   {
    "duration": 16,
    "start_time": "2022-07-15T23:13:43.639Z"
   },
   {
    "duration": 15,
    "start_time": "2022-07-15T23:13:43.657Z"
   },
   {
    "duration": 71,
    "start_time": "2022-07-15T23:13:43.674Z"
   },
   {
    "duration": 14,
    "start_time": "2022-07-15T23:13:43.746Z"
   },
   {
    "duration": 5,
    "start_time": "2022-07-15T23:13:43.761Z"
   },
   {
    "duration": 3281,
    "start_time": "2022-07-15T23:13:43.768Z"
   },
   {
    "duration": 0,
    "start_time": "2022-07-15T23:13:47.051Z"
   },
   {
    "duration": 0,
    "start_time": "2022-07-15T23:13:47.052Z"
   },
   {
    "duration": 0,
    "start_time": "2022-07-15T23:13:47.053Z"
   },
   {
    "duration": 0,
    "start_time": "2022-07-15T23:13:47.054Z"
   },
   {
    "duration": 0,
    "start_time": "2022-07-15T23:13:47.055Z"
   },
   {
    "duration": 0,
    "start_time": "2022-07-15T23:13:47.056Z"
   },
   {
    "duration": 0,
    "start_time": "2022-07-15T23:13:47.057Z"
   },
   {
    "duration": 0,
    "start_time": "2022-07-15T23:13:47.058Z"
   },
   {
    "duration": 0,
    "start_time": "2022-07-15T23:13:47.059Z"
   },
   {
    "duration": 0,
    "start_time": "2022-07-15T23:13:47.060Z"
   },
   {
    "duration": 0,
    "start_time": "2022-07-15T23:13:47.061Z"
   },
   {
    "duration": 0,
    "start_time": "2022-07-15T23:13:47.062Z"
   },
   {
    "duration": 0,
    "start_time": "2022-07-15T23:13:47.063Z"
   },
   {
    "duration": 24,
    "start_time": "2022-07-15T23:14:45.497Z"
   },
   {
    "duration": 24,
    "start_time": "2022-07-15T23:14:50.951Z"
   },
   {
    "duration": 1591,
    "start_time": "2022-07-15T23:14:54.137Z"
   },
   {
    "duration": 361,
    "start_time": "2022-07-15T23:15:00.441Z"
   },
   {
    "duration": 7,
    "start_time": "2022-07-15T23:15:03.729Z"
   },
   {
    "duration": 18,
    "start_time": "2022-07-15T23:15:06.048Z"
   },
   {
    "duration": 1391,
    "start_time": "2022-07-15T23:15:09.668Z"
   },
   {
    "duration": 1076,
    "start_time": "2022-07-15T23:15:13.147Z"
   },
   {
    "duration": 256,
    "start_time": "2022-07-15T23:15:19.285Z"
   },
   {
    "duration": 118,
    "start_time": "2022-07-15T23:15:21.845Z"
   },
   {
    "duration": 8,
    "start_time": "2022-07-15T23:16:22.070Z"
   },
   {
    "duration": 17,
    "start_time": "2022-07-15T23:16:32.278Z"
   },
   {
    "duration": 24,
    "start_time": "2022-07-15T23:16:35.097Z"
   }
  ],
  "kernelspec": {
   "display_name": "Python 3 (ipykernel)",
   "language": "python",
   "name": "python3"
  },
  "language_info": {
   "codemirror_mode": {
    "name": "ipython",
    "version": 3
   },
   "file_extension": ".py",
   "mimetype": "text/x-python",
   "name": "python",
   "nbconvert_exporter": "python",
   "pygments_lexer": "ipython3",
   "version": "3.9.5"
  },
  "toc": {
   "base_numbering": 1,
   "nav_menu": {},
   "number_sections": true,
   "sideBar": true,
   "skip_h1_title": true,
   "title_cell": "Table of Contents",
   "title_sidebar": "Contents",
   "toc_cell": false,
   "toc_position": {},
   "toc_section_display": true,
   "toc_window_display": false
  }
 },
 "nbformat": 4,
 "nbformat_minor": 5
}
