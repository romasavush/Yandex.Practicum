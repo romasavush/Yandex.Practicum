{
 "cells": [
  {
   "cell_type": "markdown",
   "metadata": {},
   "source": [
    "# Описание проекта\n",
    "Вы — аналитик крупного интернет-магазина. Вместе с отделом маркетинга вы подготовили список гипотез для увеличения выручки.\n",
    "\n",
    "Приоритизируйте гипотезы, запустите A/B-тест и проанализируйте результаты.\n",
    "\n",
    "# Часть 1. Приоритизация гипотез.\n",
    "В файле /datasets/hypothesis.csv 9 гипотез по увеличению выручки интернет-магазина с указанными параметрами Reach, Impact, Confidence, Effort.\n",
    "## Задача\n",
    "* Примените фреймворк ICE для приоритизации гипотез. Отсортируйте их по убыванию приоритета.\n",
    "* Примените фреймворк RICE для приоритизации гипотез. Отсортируйте их по убыванию приоритета.\n",
    "* Укажите, как изменилась приоритизация гипотез при применении RICE вместо ICE. Объясните, почему так произошло."
   ]
  },
  {
   "cell_type": "code",
   "execution_count": 1,
   "metadata": {},
   "outputs": [],
   "source": [
    "import pandas as pd\n",
    "import datetime as dt\n",
    "import scipy.stats as stats\n",
    "import numpy as np\n",
    "import matplotlib.pyplot as plt\n",
    "from pandas.plotting import register_matplotlib_converters\n",
    "import warnings\n",
    "# конвертеры, которые позволяют использовать типы pandas в matplotlib  \n",
    "register_matplotlib_converters()"
   ]
  },
  {
   "cell_type": "code",
   "execution_count": 2,
   "metadata": {
    "scrolled": true
   },
   "outputs": [
    {
     "data": {
      "text/html": [
       "<div>\n",
       "<style scoped>\n",
       "    .dataframe tbody tr th:only-of-type {\n",
       "        vertical-align: middle;\n",
       "    }\n",
       "\n",
       "    .dataframe tbody tr th {\n",
       "        vertical-align: top;\n",
       "    }\n",
       "\n",
       "    .dataframe thead th {\n",
       "        text-align: right;\n",
       "    }\n",
       "</style>\n",
       "<table border=\"1\" class=\"dataframe\">\n",
       "  <thead>\n",
       "    <tr style=\"text-align: right;\">\n",
       "      <th></th>\n",
       "      <th>hypothesis</th>\n",
       "      <th>reach</th>\n",
       "      <th>impact</th>\n",
       "      <th>confidence</th>\n",
       "      <th>efforts</th>\n",
       "    </tr>\n",
       "  </thead>\n",
       "  <tbody>\n",
       "    <tr>\n",
       "      <th>0</th>\n",
       "      <td>Добавить два новых канала привлечения трафика,...</td>\n",
       "      <td>3</td>\n",
       "      <td>10</td>\n",
       "      <td>8</td>\n",
       "      <td>6</td>\n",
       "    </tr>\n",
       "    <tr>\n",
       "      <th>1</th>\n",
       "      <td>Запустить собственную службу доставки, что сок...</td>\n",
       "      <td>2</td>\n",
       "      <td>5</td>\n",
       "      <td>4</td>\n",
       "      <td>10</td>\n",
       "    </tr>\n",
       "    <tr>\n",
       "      <th>2</th>\n",
       "      <td>Добавить блоки рекомендаций товаров на сайт ин...</td>\n",
       "      <td>8</td>\n",
       "      <td>3</td>\n",
       "      <td>7</td>\n",
       "      <td>3</td>\n",
       "    </tr>\n",
       "    <tr>\n",
       "      <th>3</th>\n",
       "      <td>Изменить структура категорий, что увеличит кон...</td>\n",
       "      <td>8</td>\n",
       "      <td>3</td>\n",
       "      <td>3</td>\n",
       "      <td>8</td>\n",
       "    </tr>\n",
       "    <tr>\n",
       "      <th>4</th>\n",
       "      <td>Изменить цвет фона главной страницы, чтобы уве...</td>\n",
       "      <td>3</td>\n",
       "      <td>1</td>\n",
       "      <td>1</td>\n",
       "      <td>1</td>\n",
       "    </tr>\n",
       "    <tr>\n",
       "      <th>5</th>\n",
       "      <td>Добавить страницу отзывов клиентов о магазине,...</td>\n",
       "      <td>3</td>\n",
       "      <td>2</td>\n",
       "      <td>2</td>\n",
       "      <td>3</td>\n",
       "    </tr>\n",
       "    <tr>\n",
       "      <th>6</th>\n",
       "      <td>Показать на главной странице баннеры с актуаль...</td>\n",
       "      <td>5</td>\n",
       "      <td>3</td>\n",
       "      <td>8</td>\n",
       "      <td>3</td>\n",
       "    </tr>\n",
       "    <tr>\n",
       "      <th>7</th>\n",
       "      <td>Добавить форму подписки на все основные страни...</td>\n",
       "      <td>10</td>\n",
       "      <td>7</td>\n",
       "      <td>8</td>\n",
       "      <td>5</td>\n",
       "    </tr>\n",
       "    <tr>\n",
       "      <th>8</th>\n",
       "      <td>Запустить акцию, дающую скидку на товар в день...</td>\n",
       "      <td>1</td>\n",
       "      <td>9</td>\n",
       "      <td>9</td>\n",
       "      <td>5</td>\n",
       "    </tr>\n",
       "  </tbody>\n",
       "</table>\n",
       "</div>"
      ],
      "text/plain": [
       "                                          hypothesis  reach  impact  \\\n",
       "0  Добавить два новых канала привлечения трафика,...      3      10   \n",
       "1  Запустить собственную службу доставки, что сок...      2       5   \n",
       "2  Добавить блоки рекомендаций товаров на сайт ин...      8       3   \n",
       "3  Изменить структура категорий, что увеличит кон...      8       3   \n",
       "4  Изменить цвет фона главной страницы, чтобы уве...      3       1   \n",
       "5  Добавить страницу отзывов клиентов о магазине,...      3       2   \n",
       "6  Показать на главной странице баннеры с актуаль...      5       3   \n",
       "7  Добавить форму подписки на все основные страни...     10       7   \n",
       "8  Запустить акцию, дающую скидку на товар в день...      1       9   \n",
       "\n",
       "   confidence  efforts  \n",
       "0           8        6  \n",
       "1           4       10  \n",
       "2           7        3  \n",
       "3           3        8  \n",
       "4           1        1  \n",
       "5           2        3  \n",
       "6           8        3  \n",
       "7           8        5  \n",
       "8           9        5  "
      ]
     },
     "metadata": {},
     "output_type": "display_data"
    }
   ],
   "source": [
    "hypothesis = pd.read_csv('/datasets/hypothesis.csv')\n",
    "hypothesis.columns = hypothesis.columns.str.lower()\n",
    "display(hypothesis)"
   ]
  },
  {
   "cell_type": "code",
   "execution_count": 3,
   "metadata": {},
   "outputs": [],
   "source": [
    "pd.options.display.max_colwidth = 100"
   ]
  },
  {
   "cell_type": "code",
   "execution_count": 4,
   "metadata": {
    "scrolled": false
   },
   "outputs": [
    {
     "data": {
      "text/html": [
       "<div>\n",
       "<style scoped>\n",
       "    .dataframe tbody tr th:only-of-type {\n",
       "        vertical-align: middle;\n",
       "    }\n",
       "\n",
       "    .dataframe tbody tr th {\n",
       "        vertical-align: top;\n",
       "    }\n",
       "\n",
       "    .dataframe thead th {\n",
       "        text-align: right;\n",
       "    }\n",
       "</style>\n",
       "<table border=\"1\" class=\"dataframe\">\n",
       "  <thead>\n",
       "    <tr style=\"text-align: right;\">\n",
       "      <th></th>\n",
       "      <th>hypothesis</th>\n",
       "      <th>ICE</th>\n",
       "    </tr>\n",
       "  </thead>\n",
       "  <tbody>\n",
       "    <tr>\n",
       "      <th>8</th>\n",
       "      <td>Запустить акцию, дающую скидку на товар в день рождения</td>\n",
       "      <td>16.200000</td>\n",
       "    </tr>\n",
       "    <tr>\n",
       "      <th>0</th>\n",
       "      <td>Добавить два новых канала привлечения трафика, что позволит привлекать на 30% больше пользователей</td>\n",
       "      <td>13.333333</td>\n",
       "    </tr>\n",
       "    <tr>\n",
       "      <th>7</th>\n",
       "      <td>Добавить форму подписки на все основные страницы, чтобы собрать базу клиентов для email-рассылок</td>\n",
       "      <td>11.200000</td>\n",
       "    </tr>\n",
       "    <tr>\n",
       "      <th>6</th>\n",
       "      <td>Показать на главной странице баннеры с актуальными акциями и распродажами, чтобы увеличить конве...</td>\n",
       "      <td>8.000000</td>\n",
       "    </tr>\n",
       "    <tr>\n",
       "      <th>2</th>\n",
       "      <td>Добавить блоки рекомендаций товаров на сайт интернет магазина, чтобы повысить конверсию и средни...</td>\n",
       "      <td>7.000000</td>\n",
       "    </tr>\n",
       "    <tr>\n",
       "      <th>1</th>\n",
       "      <td>Запустить собственную службу доставки, что сократит срок доставки заказов</td>\n",
       "      <td>2.000000</td>\n",
       "    </tr>\n",
       "    <tr>\n",
       "      <th>5</th>\n",
       "      <td>Добавить страницу отзывов клиентов о магазине, что позволит увеличить количество заказов</td>\n",
       "      <td>1.333333</td>\n",
       "    </tr>\n",
       "    <tr>\n",
       "      <th>3</th>\n",
       "      <td>Изменить структура категорий, что увеличит конверсию, т.к. пользователи быстрее найдут нужный товар</td>\n",
       "      <td>1.125000</td>\n",
       "    </tr>\n",
       "    <tr>\n",
       "      <th>4</th>\n",
       "      <td>Изменить цвет фона главной страницы, чтобы увеличить вовлеченность пользователей</td>\n",
       "      <td>1.000000</td>\n",
       "    </tr>\n",
       "  </tbody>\n",
       "</table>\n",
       "</div>"
      ],
      "text/plain": [
       "                                                                                            hypothesis  \\\n",
       "8                                              Запустить акцию, дающую скидку на товар в день рождения   \n",
       "0   Добавить два новых канала привлечения трафика, что позволит привлекать на 30% больше пользователей   \n",
       "7     Добавить форму подписки на все основные страницы, чтобы собрать базу клиентов для email-рассылок   \n",
       "6  Показать на главной странице баннеры с актуальными акциями и распродажами, чтобы увеличить конве...   \n",
       "2  Добавить блоки рекомендаций товаров на сайт интернет магазина, чтобы повысить конверсию и средни...   \n",
       "1                            Запустить собственную службу доставки, что сократит срок доставки заказов   \n",
       "5             Добавить страницу отзывов клиентов о магазине, что позволит увеличить количество заказов   \n",
       "3  Изменить структура категорий, что увеличит конверсию, т.к. пользователи быстрее найдут нужный товар   \n",
       "4                     Изменить цвет фона главной страницы, чтобы увеличить вовлеченность пользователей   \n",
       "\n",
       "         ICE  \n",
       "8  16.200000  \n",
       "0  13.333333  \n",
       "7  11.200000  \n",
       "6   8.000000  \n",
       "2   7.000000  \n",
       "1   2.000000  \n",
       "5   1.333333  \n",
       "3   1.125000  \n",
       "4   1.000000  "
      ]
     },
     "metadata": {},
     "output_type": "display_data"
    }
   ],
   "source": [
    "hypothesis['ICE'] = (hypothesis['impact']*hypothesis['confidence'])/hypothesis['efforts']\n",
    "display(hypothesis[['hypothesis','ICE']].sort_values(by='ICE', ascending=False))"
   ]
  },
  {
   "cell_type": "code",
   "execution_count": 5,
   "metadata": {},
   "outputs": [
    {
     "data": {
      "text/html": [
       "<div>\n",
       "<style scoped>\n",
       "    .dataframe tbody tr th:only-of-type {\n",
       "        vertical-align: middle;\n",
       "    }\n",
       "\n",
       "    .dataframe tbody tr th {\n",
       "        vertical-align: top;\n",
       "    }\n",
       "\n",
       "    .dataframe thead th {\n",
       "        text-align: right;\n",
       "    }\n",
       "</style>\n",
       "<table border=\"1\" class=\"dataframe\">\n",
       "  <thead>\n",
       "    <tr style=\"text-align: right;\">\n",
       "      <th></th>\n",
       "      <th>hypothesis</th>\n",
       "      <th>RICE</th>\n",
       "    </tr>\n",
       "  </thead>\n",
       "  <tbody>\n",
       "    <tr>\n",
       "      <th>7</th>\n",
       "      <td>Добавить форму подписки на все основные страницы, чтобы собрать базу клиентов для email-рассылок</td>\n",
       "      <td>112.0</td>\n",
       "    </tr>\n",
       "    <tr>\n",
       "      <th>2</th>\n",
       "      <td>Добавить блоки рекомендаций товаров на сайт интернет магазина, чтобы повысить конверсию и средни...</td>\n",
       "      <td>56.0</td>\n",
       "    </tr>\n",
       "    <tr>\n",
       "      <th>0</th>\n",
       "      <td>Добавить два новых канала привлечения трафика, что позволит привлекать на 30% больше пользователей</td>\n",
       "      <td>40.0</td>\n",
       "    </tr>\n",
       "    <tr>\n",
       "      <th>6</th>\n",
       "      <td>Показать на главной странице баннеры с актуальными акциями и распродажами, чтобы увеличить конве...</td>\n",
       "      <td>40.0</td>\n",
       "    </tr>\n",
       "    <tr>\n",
       "      <th>8</th>\n",
       "      <td>Запустить акцию, дающую скидку на товар в день рождения</td>\n",
       "      <td>16.2</td>\n",
       "    </tr>\n",
       "    <tr>\n",
       "      <th>3</th>\n",
       "      <td>Изменить структура категорий, что увеличит конверсию, т.к. пользователи быстрее найдут нужный товар</td>\n",
       "      <td>9.0</td>\n",
       "    </tr>\n",
       "    <tr>\n",
       "      <th>1</th>\n",
       "      <td>Запустить собственную службу доставки, что сократит срок доставки заказов</td>\n",
       "      <td>4.0</td>\n",
       "    </tr>\n",
       "    <tr>\n",
       "      <th>5</th>\n",
       "      <td>Добавить страницу отзывов клиентов о магазине, что позволит увеличить количество заказов</td>\n",
       "      <td>4.0</td>\n",
       "    </tr>\n",
       "    <tr>\n",
       "      <th>4</th>\n",
       "      <td>Изменить цвет фона главной страницы, чтобы увеличить вовлеченность пользователей</td>\n",
       "      <td>3.0</td>\n",
       "    </tr>\n",
       "  </tbody>\n",
       "</table>\n",
       "</div>"
      ],
      "text/plain": [
       "                                                                                            hypothesis  \\\n",
       "7     Добавить форму подписки на все основные страницы, чтобы собрать базу клиентов для email-рассылок   \n",
       "2  Добавить блоки рекомендаций товаров на сайт интернет магазина, чтобы повысить конверсию и средни...   \n",
       "0   Добавить два новых канала привлечения трафика, что позволит привлекать на 30% больше пользователей   \n",
       "6  Показать на главной странице баннеры с актуальными акциями и распродажами, чтобы увеличить конве...   \n",
       "8                                              Запустить акцию, дающую скидку на товар в день рождения   \n",
       "3  Изменить структура категорий, что увеличит конверсию, т.к. пользователи быстрее найдут нужный товар   \n",
       "1                            Запустить собственную службу доставки, что сократит срок доставки заказов   \n",
       "5             Добавить страницу отзывов клиентов о магазине, что позволит увеличить количество заказов   \n",
       "4                     Изменить цвет фона главной страницы, чтобы увеличить вовлеченность пользователей   \n",
       "\n",
       "    RICE  \n",
       "7  112.0  \n",
       "2   56.0  \n",
       "0   40.0  \n",
       "6   40.0  \n",
       "8   16.2  \n",
       "3    9.0  \n",
       "1    4.0  \n",
       "5    4.0  \n",
       "4    3.0  "
      ]
     },
     "metadata": {},
     "output_type": "display_data"
    }
   ],
   "source": [
    "hypothesis['RICE'] = (hypothesis['reach']*hypothesis['impact']*hypothesis['confidence'])/hypothesis['efforts']\n",
    "display(hypothesis[['hypothesis','RICE']].sort_values(by='RICE', ascending=False))"
   ]
  },
  {
   "cell_type": "markdown",
   "metadata": {},
   "source": [
    "Мы применили фреймворк RICE, добавили параметр Reach — скольких пользователей затронет изменение, которое мы хотим внести.\n",
    "\n",
    "Гипотезы которые затрагивают больше всего пользователей вышли в топ"
   ]
  },
  {
   "cell_type": "code",
   "execution_count": 6,
   "metadata": {},
   "outputs": [
    {
     "data": {
      "text/plain": [
       "Text(0, 0.5, 'ICE')"
      ]
     },
     "execution_count": 6,
     "metadata": {},
     "output_type": "execute_result"
    },
    {
     "data": {
      "image/png": "[encoded data removed]",
      "text/plain": [
       "<Figure size 432x288 with 1 Axes>"
      ]
     },
     "metadata": {
      "needs_background": "light"
     },
     "output_type": "display_data"
    }
   ],
   "source": [
    "y = hypothesis['ICE'] \n",
    "z = hypothesis['RICE'] \n",
    "n = hypothesis.index \n",
    "\n",
    "fig, ax = plt.subplots()\n",
    "ax.scatter(z, y)\n",
    "\n",
    "for i, txt in enumerate(n):\n",
    "    ax.annotate(txt, (z[i], y[i]))\n",
    "\n",
    "plt.title(\"ICE and RICE гипотезы\") \n",
    "plt.xlabel(\"RICE\") \n",
    "plt.ylabel(\"ICE\")"
   ]
  },
  {
   "cell_type": "markdown",
   "metadata": {},
   "source": [
    "# Часть 2. Анализ A/B-теста"
   ]
  },
  {
   "cell_type": "code",
   "execution_count": 7,
   "metadata": {},
   "outputs": [
    {
     "data": {
      "text/html": [
       "<div>\n",
       "<style scoped>\n",
       "    .dataframe tbody tr th:only-of-type {\n",
       "        vertical-align: middle;\n",
       "    }\n",
       "\n",
       "    .dataframe tbody tr th {\n",
       "        vertical-align: top;\n",
       "    }\n",
       "\n",
       "    .dataframe thead th {\n",
       "        text-align: right;\n",
       "    }\n",
       "</style>\n",
       "<table border=\"1\" class=\"dataframe\">\n",
       "  <thead>\n",
       "    <tr style=\"text-align: right;\">\n",
       "      <th></th>\n",
       "      <th>transactionid</th>\n",
       "      <th>visitorid</th>\n",
       "      <th>date</th>\n",
       "      <th>revenue</th>\n",
       "      <th>group</th>\n",
       "    </tr>\n",
       "  </thead>\n",
       "  <tbody>\n",
       "    <tr>\n",
       "      <th>0</th>\n",
       "      <td>3667963787</td>\n",
       "      <td>3312258926</td>\n",
       "      <td>2019-08-15</td>\n",
       "      <td>1650</td>\n",
       "      <td>B</td>\n",
       "    </tr>\n",
       "    <tr>\n",
       "      <th>1</th>\n",
       "      <td>2804400009</td>\n",
       "      <td>3642806036</td>\n",
       "      <td>2019-08-15</td>\n",
       "      <td>730</td>\n",
       "      <td>B</td>\n",
       "    </tr>\n",
       "    <tr>\n",
       "      <th>2</th>\n",
       "      <td>2961555356</td>\n",
       "      <td>4069496402</td>\n",
       "      <td>2019-08-15</td>\n",
       "      <td>400</td>\n",
       "      <td>A</td>\n",
       "    </tr>\n",
       "    <tr>\n",
       "      <th>3</th>\n",
       "      <td>3797467345</td>\n",
       "      <td>1196621759</td>\n",
       "      <td>2019-08-15</td>\n",
       "      <td>9759</td>\n",
       "      <td>B</td>\n",
       "    </tr>\n",
       "    <tr>\n",
       "      <th>4</th>\n",
       "      <td>2282983706</td>\n",
       "      <td>2322279887</td>\n",
       "      <td>2019-08-15</td>\n",
       "      <td>2308</td>\n",
       "      <td>B</td>\n",
       "    </tr>\n",
       "    <tr>\n",
       "      <th>...</th>\n",
       "      <td>...</td>\n",
       "      <td>...</td>\n",
       "      <td>...</td>\n",
       "      <td>...</td>\n",
       "      <td>...</td>\n",
       "    </tr>\n",
       "    <tr>\n",
       "      <th>1192</th>\n",
       "      <td>2662137336</td>\n",
       "      <td>3733762160</td>\n",
       "      <td>2019-08-14</td>\n",
       "      <td>6490</td>\n",
       "      <td>B</td>\n",
       "    </tr>\n",
       "    <tr>\n",
       "      <th>1193</th>\n",
       "      <td>2203539145</td>\n",
       "      <td>370388673</td>\n",
       "      <td>2019-08-14</td>\n",
       "      <td>3190</td>\n",
       "      <td>A</td>\n",
       "    </tr>\n",
       "    <tr>\n",
       "      <th>1194</th>\n",
       "      <td>1807773912</td>\n",
       "      <td>573423106</td>\n",
       "      <td>2019-08-14</td>\n",
       "      <td>10550</td>\n",
       "      <td>A</td>\n",
       "    </tr>\n",
       "    <tr>\n",
       "      <th>1195</th>\n",
       "      <td>1947021204</td>\n",
       "      <td>1614305549</td>\n",
       "      <td>2019-08-14</td>\n",
       "      <td>100</td>\n",
       "      <td>A</td>\n",
       "    </tr>\n",
       "    <tr>\n",
       "      <th>1196</th>\n",
       "      <td>3936777065</td>\n",
       "      <td>2108080724</td>\n",
       "      <td>2019-08-15</td>\n",
       "      <td>202740</td>\n",
       "      <td>B</td>\n",
       "    </tr>\n",
       "  </tbody>\n",
       "</table>\n",
       "<p>1197 rows × 5 columns</p>\n",
       "</div>"
      ],
      "text/plain": [
       "      transactionid   visitorid       date  revenue group\n",
       "0        3667963787  3312258926 2019-08-15     1650     B\n",
       "1        2804400009  3642806036 2019-08-15      730     B\n",
       "2        2961555356  4069496402 2019-08-15      400     A\n",
       "3        3797467345  1196621759 2019-08-15     9759     B\n",
       "4        2282983706  2322279887 2019-08-15     2308     B\n",
       "...             ...         ...        ...      ...   ...\n",
       "1192     2662137336  3733762160 2019-08-14     6490     B\n",
       "1193     2203539145   370388673 2019-08-14     3190     A\n",
       "1194     1807773912   573423106 2019-08-14    10550     A\n",
       "1195     1947021204  1614305549 2019-08-14      100     A\n",
       "1196     3936777065  2108080724 2019-08-15   202740     B\n",
       "\n",
       "[1197 rows x 5 columns]"
      ]
     },
     "metadata": {},
     "output_type": "display_data"
    },
    {
     "name": "stdout",
     "output_type": "stream",
     "text": [
      "<class 'pandas.core.frame.DataFrame'>\n",
      "RangeIndex: 1197 entries, 0 to 1196\n",
      "Data columns (total 5 columns):\n",
      " #   Column         Non-Null Count  Dtype         \n",
      "---  ------         --------------  -----         \n",
      " 0   transactionid  1197 non-null   int64         \n",
      " 1   visitorid      1197 non-null   int64         \n",
      " 2   date           1197 non-null   datetime64[ns]\n",
      " 3   revenue        1197 non-null   int64         \n",
      " 4   group          1197 non-null   object        \n",
      "dtypes: datetime64[ns](1), int64(3), object(1)\n",
      "memory usage: 46.9+ KB\n"
     ]
    }
   ],
   "source": [
    "orders = pd.read_csv('/datasets/orders.csv')\n",
    "orders['date'] = pd.to_datetime(orders['date'])\n",
    "orders.columns = orders.columns.str.lower()\n",
    "display(orders)\n",
    "orders.info()"
   ]
  },
  {
   "cell_type": "code",
   "execution_count": 8,
   "metadata": {
    "scrolled": false
   },
   "outputs": [
    {
     "name": "stdout",
     "output_type": "stream",
     "text": [
      "<class 'pandas.core.frame.DataFrame'>\n",
      "RangeIndex: 62 entries, 0 to 61\n",
      "Data columns (total 3 columns):\n",
      " #   Column    Non-Null Count  Dtype         \n",
      "---  ------    --------------  -----         \n",
      " 0   date      62 non-null     datetime64[ns]\n",
      " 1   group     62 non-null     object        \n",
      " 2   visitors  62 non-null     int64         \n",
      "dtypes: datetime64[ns](1), int64(1), object(1)\n",
      "memory usage: 1.6+ KB\n"
     ]
    },
    {
     "data": {
      "text/html": [
       "<div>\n",
       "<style scoped>\n",
       "    .dataframe tbody tr th:only-of-type {\n",
       "        vertical-align: middle;\n",
       "    }\n",
       "\n",
       "    .dataframe tbody tr th {\n",
       "        vertical-align: top;\n",
       "    }\n",
       "\n",
       "    .dataframe thead th {\n",
       "        text-align: right;\n",
       "    }\n",
       "</style>\n",
       "<table border=\"1\" class=\"dataframe\">\n",
       "  <thead>\n",
       "    <tr style=\"text-align: right;\">\n",
       "      <th></th>\n",
       "      <th>date</th>\n",
       "      <th>group</th>\n",
       "      <th>visitors</th>\n",
       "    </tr>\n",
       "  </thead>\n",
       "  <tbody>\n",
       "    <tr>\n",
       "      <th>0</th>\n",
       "      <td>2019-08-01</td>\n",
       "      <td>A</td>\n",
       "      <td>719</td>\n",
       "    </tr>\n",
       "    <tr>\n",
       "      <th>1</th>\n",
       "      <td>2019-08-02</td>\n",
       "      <td>A</td>\n",
       "      <td>619</td>\n",
       "    </tr>\n",
       "    <tr>\n",
       "      <th>2</th>\n",
       "      <td>2019-08-03</td>\n",
       "      <td>A</td>\n",
       "      <td>507</td>\n",
       "    </tr>\n",
       "    <tr>\n",
       "      <th>3</th>\n",
       "      <td>2019-08-04</td>\n",
       "      <td>A</td>\n",
       "      <td>717</td>\n",
       "    </tr>\n",
       "    <tr>\n",
       "      <th>4</th>\n",
       "      <td>2019-08-05</td>\n",
       "      <td>A</td>\n",
       "      <td>756</td>\n",
       "    </tr>\n",
       "    <tr>\n",
       "      <th>...</th>\n",
       "      <td>...</td>\n",
       "      <td>...</td>\n",
       "      <td>...</td>\n",
       "    </tr>\n",
       "    <tr>\n",
       "      <th>57</th>\n",
       "      <td>2019-08-27</td>\n",
       "      <td>B</td>\n",
       "      <td>720</td>\n",
       "    </tr>\n",
       "    <tr>\n",
       "      <th>58</th>\n",
       "      <td>2019-08-28</td>\n",
       "      <td>B</td>\n",
       "      <td>654</td>\n",
       "    </tr>\n",
       "    <tr>\n",
       "      <th>59</th>\n",
       "      <td>2019-08-29</td>\n",
       "      <td>B</td>\n",
       "      <td>531</td>\n",
       "    </tr>\n",
       "    <tr>\n",
       "      <th>60</th>\n",
       "      <td>2019-08-30</td>\n",
       "      <td>B</td>\n",
       "      <td>490</td>\n",
       "    </tr>\n",
       "    <tr>\n",
       "      <th>61</th>\n",
       "      <td>2019-08-31</td>\n",
       "      <td>B</td>\n",
       "      <td>718</td>\n",
       "    </tr>\n",
       "  </tbody>\n",
       "</table>\n",
       "<p>62 rows × 3 columns</p>\n",
       "</div>"
      ],
      "text/plain": [
       "         date group  visitors\n",
       "0  2019-08-01     A       719\n",
       "1  2019-08-02     A       619\n",
       "2  2019-08-03     A       507\n",
       "3  2019-08-04     A       717\n",
       "4  2019-08-05     A       756\n",
       "..        ...   ...       ...\n",
       "57 2019-08-27     B       720\n",
       "58 2019-08-28     B       654\n",
       "59 2019-08-29     B       531\n",
       "60 2019-08-30     B       490\n",
       "61 2019-08-31     B       718\n",
       "\n",
       "[62 rows x 3 columns]"
      ]
     },
     "metadata": {},
     "output_type": "display_data"
    }
   ],
   "source": [
    "visitors = pd.read_csv('/datasets/visitors.csv')\n",
    "visitors['date'] = pd.to_datetime(visitors['date'])\n",
    "visitors.info()\n",
    "display(visitors)"
   ]
  },
  {
   "cell_type": "code",
   "execution_count": 9,
   "metadata": {
    "scrolled": true
   },
   "outputs": [
    {
     "data": {
      "text/plain": [
       "group    116\n",
       "dtype: int64"
      ]
     },
     "execution_count": 9,
     "metadata": {},
     "output_type": "execute_result"
    }
   ],
   "source": [
    "(orders.groupby(['visitorid']) #группируем по айди\n",
    "       .agg({'group':'nunique'}) #считаем количество групп для каждого айди\n",
    "       .query('group > 1')  #выводим результат, где групп больше 1\n",
    "       .sum() #выводим общее количество\n",
    ")"
   ]
  },
  {
   "cell_type": "markdown",
   "metadata": {},
   "source": [
    "116 пользователей могли оказаться в группе А и В. В нашем тесте мы можем пренебречь таким небольшим колличеством перекрестий в группах"
   ]
  },
  {
   "cell_type": "code",
   "execution_count": 10,
   "metadata": {},
   "outputs": [
    {
     "data": {
      "text/html": [
       "<div>\n",
       "<style scoped>\n",
       "    .dataframe tbody tr th:only-of-type {\n",
       "        vertical-align: middle;\n",
       "    }\n",
       "\n",
       "    .dataframe tbody tr th {\n",
       "        vertical-align: top;\n",
       "    }\n",
       "\n",
       "    .dataframe thead th {\n",
       "        text-align: right;\n",
       "    }\n",
       "</style>\n",
       "<table border=\"1\" class=\"dataframe\">\n",
       "  <thead>\n",
       "    <tr style=\"text-align: right;\">\n",
       "      <th></th>\n",
       "      <th>date</th>\n",
       "      <th>group</th>\n",
       "      <th>visitors</th>\n",
       "    </tr>\n",
       "  </thead>\n",
       "  <tbody>\n",
       "  </tbody>\n",
       "</table>\n",
       "</div>"
      ],
      "text/plain": [
       "Empty DataFrame\n",
       "Columns: [date, group, visitors]\n",
       "Index: []"
      ]
     },
     "execution_count": 10,
     "metadata": {},
     "output_type": "execute_result"
    }
   ],
   "source": [
    "visitors[visitors.duplicated()]"
   ]
  },
  {
   "cell_type": "code",
   "execution_count": 11,
   "metadata": {
    "scrolled": true
   },
   "outputs": [
    {
     "data": {
      "text/html": [
       "<div>\n",
       "<style scoped>\n",
       "    .dataframe tbody tr th:only-of-type {\n",
       "        vertical-align: middle;\n",
       "    }\n",
       "\n",
       "    .dataframe tbody tr th {\n",
       "        vertical-align: top;\n",
       "    }\n",
       "\n",
       "    .dataframe thead th {\n",
       "        text-align: right;\n",
       "    }\n",
       "</style>\n",
       "<table border=\"1\" class=\"dataframe\">\n",
       "  <thead>\n",
       "    <tr style=\"text-align: right;\">\n",
       "      <th></th>\n",
       "      <th>transactionid</th>\n",
       "      <th>visitorid</th>\n",
       "      <th>date</th>\n",
       "      <th>revenue</th>\n",
       "      <th>group</th>\n",
       "    </tr>\n",
       "  </thead>\n",
       "  <tbody>\n",
       "  </tbody>\n",
       "</table>\n",
       "</div>"
      ],
      "text/plain": [
       "Empty DataFrame\n",
       "Columns: [transactionid, visitorid, date, revenue, group]\n",
       "Index: []"
      ]
     },
     "execution_count": 11,
     "metadata": {},
     "output_type": "execute_result"
    }
   ],
   "source": [
    "orders[orders.duplicated()]"
   ]
  },
  {
   "cell_type": "markdown",
   "metadata": {},
   "source": [
    " Дубликатов нет<br></div> "
   ]
  },
  {
   "cell_type": "markdown",
   "metadata": {},
   "source": [
    "### Постройте график кумулятивной выручки по группам. Сделайте выводы и предположения."
   ]
  },
  {
   "cell_type": "code",
   "execution_count": 12,
   "metadata": {},
   "outputs": [
    {
     "data": {
      "image/png": "[encoded data removed]",
      "text/plain": [
       "<Figure size 1080x360 with 1 Axes>"
      ]
     },
     "metadata": {
      "needs_background": "light"
     },
     "output_type": "display_data"
    }
   ],
   "source": [
    "datesGroups = orders[['date', 'group']].drop_duplicates()\n",
    "\n",
    "ordersAggregated = datesGroups.apply(\n",
    "    lambda x: orders[\n",
    "        np.logical_and(\n",
    "            orders['date'] <= x['date'], orders['group'] == x['group']\n",
    "        )\n",
    "    ].agg(\n",
    "        {\n",
    "            'date': 'max',\n",
    "            'group': 'max',\n",
    "            'transactionid': 'nunique',\n",
    "            'visitorid': 'nunique',\n",
    "            'revenue': 'sum',\n",
    "        }\n",
    "    ),\n",
    "    axis=1,\n",
    ").sort_values(by=['date', 'group'])\n",
    "\n",
    "visitorsAggregated = datesGroups.apply(\n",
    "    lambda x: visitors[\n",
    "        np.logical_and(\n",
    "            visitors['date'] <= x['date'], visitors['group'] == x['group']\n",
    "        )\n",
    "    ].agg({'date': 'max', 'group': 'max', 'visitors': 'sum'}),\n",
    "    axis=1,\n",
    ").sort_values(by=['date', 'group'])\n",
    "\n",
    "cumulativeData = ordersAggregated.merge(\n",
    "    visitorsAggregated, left_on=['date', 'group'], right_on=['date', 'group']\n",
    ")\n",
    "cumulativeData.columns = [\n",
    "    'date',\n",
    "    'group',\n",
    "    'orders',\n",
    "    'buyers',\n",
    "    'revenue',\n",
    "    'visitors',\n",
    "]\n",
    "\n",
    "cumulativeRevenueA = cumulativeData[cumulativeData['group']=='A'][['date','revenue', 'orders']]\n",
    "cumulativeRevenueB = cumulativeData[cumulativeData['group']=='B'][['date','revenue', 'orders']]\n",
    "\n",
    "plt.figure(figsize=(15, 5))\n",
    "\n",
    "plt.plot(cumulativeRevenueA['date'], cumulativeRevenueA['revenue'], label='A')\n",
    "plt.plot(cumulativeRevenueB['date'], cumulativeRevenueB['revenue'], label='B')\n",
    "\n",
    "plt.title('График кумулятивной выручки по группам', fontsize=12)\n",
    "plt.xlabel(\"Период A/B-теста\", fontsize=10)\n",
    "plt.ylabel(\"Выручка\", fontsize=10)\n",
    "plt.legend()\n",
    "\n",
    "plt.show()"
   ]
  },
  {
   "cell_type": "markdown",
   "metadata": {},
   "source": [
    "В середине теста сегмент B резко вышел вперед и остался там до конца теста"
   ]
  },
  {
   "cell_type": "markdown",
   "metadata": {},
   "source": [
    "### Постройте график кумулятивного среднего чека по группам. Сделайте выводы и предположения."
   ]
  },
  {
   "cell_type": "code",
   "execution_count": 13,
   "metadata": {},
   "outputs": [
    {
     "data": {
      "image/png": "[encoded data removed]",
      "text/plain": [
       "<Figure size 1080x360 with 1 Axes>"
      ]
     },
     "metadata": {
      "needs_background": "light"
     },
     "output_type": "display_data"
    }
   ],
   "source": [
    "plt.figure(figsize=(15, 5))\n",
    "\n",
    "plt.plot(cumulativeRevenueA['date'], cumulativeRevenueA['revenue']/cumulativeRevenueA['orders'], label='A')\n",
    "plt.plot(cumulativeRevenueB['date'], cumulativeRevenueB['revenue']/cumulativeRevenueB['orders'], label='B')\n",
    "\n",
    "plt.title('График кумулятивного среднего чека по группам', fontsize=12)\n",
    "plt.xlabel(\"Период A/B-теста\", fontsize=10)\n",
    "plt.ylabel(\"Средний чек\", fontsize=10)\n",
    "plt.legend()\n",
    "\n",
    "plt.show()"
   ]
  },
  {
   "cell_type": "markdown",
   "metadata": {},
   "source": [
    "Снова видим резкий рост в середине теста сегмента В уже по среднему чеку"
   ]
  },
  {
   "cell_type": "markdown",
   "metadata": {},
   "source": [
    "### Постройте график относительного изменения кумулятивного среднего чека группы B к группе A. Сделайте выводы и предположения."
   ]
  },
  {
   "cell_type": "code",
   "execution_count": 14,
   "metadata": {},
   "outputs": [
    {
     "data": {
      "image/png": "[encoded data removed]",
      "text/plain": [
       "<Figure size 1080x360 with 1 Axes>"
      ]
     },
     "metadata": {
      "needs_background": "light"
     },
     "output_type": "display_data"
    }
   ],
   "source": [
    "# собираем данные в одном датафрейме\n",
    "mergedCumulativeRevenue = cumulativeRevenueA.merge(cumulativeRevenueB, left_on='date', right_on='date', how='left', suffixes=['A', 'B'])\n",
    "\n",
    "plt.figure(figsize=(15, 5))\n",
    "# cтроим отношение средних чеков\n",
    "plt.plot(mergedCumulativeRevenue['date'], (mergedCumulativeRevenue['revenueB']/mergedCumulativeRevenue['ordersB'])/(mergedCumulativeRevenue['revenueA']/mergedCumulativeRevenue['ordersA'])-1)\n",
    "\n",
    "# добавляем ось X\n",
    "plt.axhline(y=0, color='black', linestyle='--')\n",
    "\n",
    "plt.title('Относительное изменения кумулятивного среднего чека группы B к группе A', fontsize=12)\n",
    "plt.xlabel(\"Период A/B-теста\", fontsize=10)\n",
    "plt.ylabel(\"Доли\", fontsize=10)\n",
    "\n",
    "plt.show()"
   ]
  },
  {
   "cell_type": "markdown",
   "metadata": {},
   "source": [
    "Результаты теста несколько раз менялись в разные даты, необходимо детально посмотреть в эти даты, возможно были анамально большие заказы"
   ]
  },
  {
   "cell_type": "markdown",
   "metadata": {},
   "source": [
    "### Постройте график кумулятивной конверсии по группам. Сделайте выводы и предположения."
   ]
  },
  {
   "cell_type": "code",
   "execution_count": 15,
   "metadata": {},
   "outputs": [
    {
     "data": {
      "image/png": "[encoded data removed]",
      "text/plain": [
       "<Figure size 1080x360 with 1 Axes>"
      ]
     },
     "metadata": {
      "needs_background": "light"
     },
     "output_type": "display_data"
    }
   ],
   "source": [
    "# считаем кумулятивную конверсию\n",
    "cumulativeData['conversion'] = cumulativeData['orders']/cumulativeData['visitors']\n",
    "\n",
    "# отделяем данные по группе A\n",
    "cumulativeDataA = cumulativeData[cumulativeData['group']=='A']\n",
    "\n",
    "# отделяем данные по группе B\n",
    "cumulativeDataB = cumulativeData[cumulativeData['group']=='B']\n",
    "\n",
    "# строим графики\n",
    "plt.figure(figsize=(15, 5))\n",
    "plt.plot(cumulativeDataA['date'], cumulativeDataA['conversion'], label='A')\n",
    "plt.plot(cumulativeDataB['date'], cumulativeDataB['conversion'], label='B')\n",
    "\n",
    "plt.title('График кумулятивной конверсии по группам', fontsize=12)\n",
    "plt.xlabel(\"Период A/B-теста\", fontsize=10)\n",
    "plt.ylabel(\"Конверсия\", fontsize=10)\n",
    "plt.legend()\n",
    "\n",
    "plt.show()\n",
    "\n",
    "# задаем масштаб осей\n",
    "#plt.axis([dt.datetime(2019, 8, 1), dt.datetime(2019, 8, 31), 0, 0.05])"
   ]
  },
  {
   "cell_type": "markdown",
   "metadata": {},
   "source": [
    "Уровень конверсии сегмента В примерно 3.5%, сегмент А примерно 3%"
   ]
  },
  {
   "cell_type": "markdown",
   "metadata": {},
   "source": [
    "### Постройте график относительного изменения кумулятивной конверсии группы B к группе A. Сделайте выводы и предположения."
   ]
  },
  {
   "cell_type": "code",
   "execution_count": 16,
   "metadata": {},
   "outputs": [
    {
     "data": {
      "text/plain": [
       "(18109.0, 18139.0, -0.5, 0.5)"
      ]
     },
     "execution_count": 16,
     "metadata": {},
     "output_type": "execute_result"
    },
    {
     "data": {
      "image/png": "[encoded data removed]",
      "text/plain": [
       "<Figure size 1080x360 with 1 Axes>"
      ]
     },
     "metadata": {
      "needs_background": "light"
     },
     "output_type": "display_data"
    }
   ],
   "source": [
    "mergedCumulativeConversions = cumulativeDataA[['date','conversion']].merge(cumulativeDataB[['date','conversion']], left_on='date', right_on='date', how='left', suffixes=['A', 'B'])\n",
    "\n",
    "plt.figure(figsize=(15, 5))\n",
    "plt.plot(mergedCumulativeConversions['date'], mergedCumulativeConversions['conversionB']/mergedCumulativeConversions['conversionA']-1, label=\"Относительный прирост конверсии группы B относительно группы A\")\n",
    "\n",
    "plt.title('График относительного изменения кумулятивной конверсии группы B к группе A', fontsize=12)\n",
    "plt.xlabel(\"Период A/B-теста\", fontsize=10)\n",
    "plt.ylabel(\"Доли\", fontsize=10)\n",
    "plt.legend()\n",
    "\n",
    "plt.axhline(y=0, color='black', linestyle='--')\n",
    "plt.axhline(y=0.2, color='grey', linestyle='--')\n",
    "plt.axis([\"2019-08-01\", '2019-08-31', -0.5, 0.5])"
   ]
  },
  {
   "cell_type": "markdown",
   "metadata": {},
   "source": [
    "Почти сразу конверсия группы В опережает группу А и доходит до 20% прироста"
   ]
  },
  {
   "cell_type": "markdown",
   "metadata": {},
   "source": [
    "### Постройте точечный график количества заказов по пользователям. Сделайте выводы и предположения."
   ]
  },
  {
   "cell_type": "code",
   "execution_count": 17,
   "metadata": {},
   "outputs": [
    {
     "data": {
      "text/html": [
       "<div>\n",
       "<style scoped>\n",
       "    .dataframe tbody tr th:only-of-type {\n",
       "        vertical-align: middle;\n",
       "    }\n",
       "\n",
       "    .dataframe tbody tr th {\n",
       "        vertical-align: top;\n",
       "    }\n",
       "\n",
       "    .dataframe thead th {\n",
       "        text-align: right;\n",
       "    }\n",
       "</style>\n",
       "<table border=\"1\" class=\"dataframe\">\n",
       "  <thead>\n",
       "    <tr style=\"text-align: right;\">\n",
       "      <th></th>\n",
       "      <th>visitorid</th>\n",
       "      <th>orders</th>\n",
       "    </tr>\n",
       "  </thead>\n",
       "  <tbody>\n",
       "    <tr>\n",
       "      <th>1023</th>\n",
       "      <td>4256040402</td>\n",
       "      <td>11</td>\n",
       "    </tr>\n",
       "    <tr>\n",
       "      <th>591</th>\n",
       "      <td>2458001652</td>\n",
       "      <td>11</td>\n",
       "    </tr>\n",
       "    <tr>\n",
       "      <th>569</th>\n",
       "      <td>2378935119</td>\n",
       "      <td>9</td>\n",
       "    </tr>\n",
       "    <tr>\n",
       "      <th>487</th>\n",
       "      <td>2038680547</td>\n",
       "      <td>8</td>\n",
       "    </tr>\n",
       "    <tr>\n",
       "      <th>44</th>\n",
       "      <td>199603092</td>\n",
       "      <td>5</td>\n",
       "    </tr>\n",
       "    <tr>\n",
       "      <th>744</th>\n",
       "      <td>3062433592</td>\n",
       "      <td>5</td>\n",
       "    </tr>\n",
       "    <tr>\n",
       "      <th>55</th>\n",
       "      <td>237748145</td>\n",
       "      <td>5</td>\n",
       "    </tr>\n",
       "    <tr>\n",
       "      <th>917</th>\n",
       "      <td>3803269165</td>\n",
       "      <td>5</td>\n",
       "    </tr>\n",
       "    <tr>\n",
       "      <th>299</th>\n",
       "      <td>1230306981</td>\n",
       "      <td>5</td>\n",
       "    </tr>\n",
       "    <tr>\n",
       "      <th>897</th>\n",
       "      <td>3717692402</td>\n",
       "      <td>5</td>\n",
       "    </tr>\n",
       "  </tbody>\n",
       "</table>\n",
       "</div>"
      ],
      "text/plain": [
       "       visitorid  orders\n",
       "1023  4256040402      11\n",
       "591   2458001652      11\n",
       "569   2378935119       9\n",
       "487   2038680547       8\n",
       "44     199603092       5\n",
       "744   3062433592       5\n",
       "55     237748145       5\n",
       "917   3803269165       5\n",
       "299   1230306981       5\n",
       "897   3717692402       5"
      ]
     },
     "metadata": {},
     "output_type": "display_data"
    }
   ],
   "source": [
    "ordersByUsers = orders.groupby('visitorid', as_index=False).agg({'transactionid': 'nunique'})\n",
    "ordersByUsers.columns = ['visitorid', 'orders']\n",
    "display(ordersByUsers.sort_values(by='orders', ascending=False).head(10)) "
   ]
  },
  {
   "cell_type": "code",
   "execution_count": 18,
   "metadata": {},
   "outputs": [
    {
     "data": {
      "image/png": "[encoded data removed]",
      "text/plain": [
       "<Figure size 432x288 with 1 Axes>"
      ]
     },
     "metadata": {
      "needs_background": "light"
     },
     "output_type": "display_data"
    }
   ],
   "source": [
    "# серия из чисел от 0 до количества наблюдений в ordersByUsers\n",
    "x_values = pd.Series(range(0, len(ordersByUsers)))\n",
    "x_values = pd.Series(range(0,len(ordersByUsers)))\n",
    "\n",
    "plt.scatter(x_values, ordersByUsers['orders'])\n",
    "plt.title('Точечный график количества заказов по пользователям')\n",
    "plt.xlabel(\"Колличество пользователей\")\n",
    "plt.ylabel(\"Колличество заказов\")\n",
    "plt.show()"
   ]
  },
  {
   "cell_type": "markdown",
   "metadata": {},
   "source": [
    "Пользователей, которые заказали больше 2-х раз совсем мало, они могут быть аномальными"
   ]
  },
  {
   "cell_type": "markdown",
   "metadata": {},
   "source": [
    "### Посчитайте 95-й и 99-й перцентили количества заказов на пользователя. Выберите границу для определения аномальных пользователей."
   ]
  },
  {
   "cell_type": "code",
   "execution_count": 19,
   "metadata": {},
   "outputs": [
    {
     "data": {
      "text/plain": [
       "array([2., 4.])"
      ]
     },
     "metadata": {},
     "output_type": "display_data"
    }
   ],
   "source": [
    "display(np.percentile(ordersByUsers['orders'], [95, 99]))"
   ]
  },
  {
   "cell_type": "markdown",
   "metadata": {},
   "source": [
    "Не более 5% пользователей совершали больше 2 заказов. И не более 1% пользователей - больше 4 заказов"
   ]
  },
  {
   "cell_type": "markdown",
   "metadata": {},
   "source": [
    "### Постройте точечный график стоимостей заказов. Сделайте выводы и предположения."
   ]
  },
  {
   "cell_type": "code",
   "execution_count": 20,
   "metadata": {},
   "outputs": [
    {
     "data": {
      "text/html": [
       "<div>\n",
       "<style scoped>\n",
       "    .dataframe tbody tr th:only-of-type {\n",
       "        vertical-align: middle;\n",
       "    }\n",
       "\n",
       "    .dataframe tbody tr th {\n",
       "        vertical-align: top;\n",
       "    }\n",
       "\n",
       "    .dataframe thead th {\n",
       "        text-align: right;\n",
       "    }\n",
       "</style>\n",
       "<table border=\"1\" class=\"dataframe\">\n",
       "  <thead>\n",
       "    <tr style=\"text-align: right;\">\n",
       "      <th></th>\n",
       "      <th>transactionid</th>\n",
       "      <th>visitorid</th>\n",
       "      <th>date</th>\n",
       "      <th>revenue</th>\n",
       "      <th>group</th>\n",
       "    </tr>\n",
       "  </thead>\n",
       "  <tbody>\n",
       "    <tr>\n",
       "      <th>425</th>\n",
       "      <td>590470918</td>\n",
       "      <td>1920142716</td>\n",
       "      <td>2019-08-19</td>\n",
       "      <td>1294500</td>\n",
       "      <td>B</td>\n",
       "    </tr>\n",
       "    <tr>\n",
       "      <th>1196</th>\n",
       "      <td>3936777065</td>\n",
       "      <td>2108080724</td>\n",
       "      <td>2019-08-15</td>\n",
       "      <td>202740</td>\n",
       "      <td>B</td>\n",
       "    </tr>\n",
       "    <tr>\n",
       "      <th>858</th>\n",
       "      <td>192721366</td>\n",
       "      <td>1316129916</td>\n",
       "      <td>2019-08-27</td>\n",
       "      <td>93940</td>\n",
       "      <td>A</td>\n",
       "    </tr>\n",
       "    <tr>\n",
       "      <th>1136</th>\n",
       "      <td>666610489</td>\n",
       "      <td>1307669133</td>\n",
       "      <td>2019-08-13</td>\n",
       "      <td>92550</td>\n",
       "      <td>A</td>\n",
       "    </tr>\n",
       "    <tr>\n",
       "      <th>744</th>\n",
       "      <td>3668308183</td>\n",
       "      <td>888512513</td>\n",
       "      <td>2019-08-27</td>\n",
       "      <td>86620</td>\n",
       "      <td>B</td>\n",
       "    </tr>\n",
       "    <tr>\n",
       "      <th>682</th>\n",
       "      <td>1216533772</td>\n",
       "      <td>4266935830</td>\n",
       "      <td>2019-08-29</td>\n",
       "      <td>78990</td>\n",
       "      <td>B</td>\n",
       "    </tr>\n",
       "    <tr>\n",
       "      <th>662</th>\n",
       "      <td>1811671147</td>\n",
       "      <td>4266935830</td>\n",
       "      <td>2019-08-29</td>\n",
       "      <td>78990</td>\n",
       "      <td>A</td>\n",
       "    </tr>\n",
       "    <tr>\n",
       "      <th>743</th>\n",
       "      <td>3603576309</td>\n",
       "      <td>4133034833</td>\n",
       "      <td>2019-08-09</td>\n",
       "      <td>67990</td>\n",
       "      <td>A</td>\n",
       "    </tr>\n",
       "    <tr>\n",
       "      <th>1103</th>\n",
       "      <td>1348774318</td>\n",
       "      <td>1164614297</td>\n",
       "      <td>2019-08-12</td>\n",
       "      <td>66350</td>\n",
       "      <td>A</td>\n",
       "    </tr>\n",
       "    <tr>\n",
       "      <th>1099</th>\n",
       "      <td>316924019</td>\n",
       "      <td>148427295</td>\n",
       "      <td>2019-08-12</td>\n",
       "      <td>65710</td>\n",
       "      <td>A</td>\n",
       "    </tr>\n",
       "  </tbody>\n",
       "</table>\n",
       "</div>"
      ],
      "text/plain": [
       "      transactionid   visitorid       date  revenue group\n",
       "425       590470918  1920142716 2019-08-19  1294500     B\n",
       "1196     3936777065  2108080724 2019-08-15   202740     B\n",
       "858       192721366  1316129916 2019-08-27    93940     A\n",
       "1136      666610489  1307669133 2019-08-13    92550     A\n",
       "744      3668308183   888512513 2019-08-27    86620     B\n",
       "682      1216533772  4266935830 2019-08-29    78990     B\n",
       "662      1811671147  4266935830 2019-08-29    78990     A\n",
       "743      3603576309  4133034833 2019-08-09    67990     A\n",
       "1103     1348774318  1164614297 2019-08-12    66350     A\n",
       "1099      316924019   148427295 2019-08-12    65710     A"
      ]
     },
     "metadata": {},
     "output_type": "display_data"
    }
   ],
   "source": [
    "display(orders.sort_values(by='revenue', ascending=False).head(10))\n"
   ]
  },
  {
   "cell_type": "code",
   "execution_count": 21,
   "metadata": {
    "scrolled": true
   },
   "outputs": [
    {
     "data": {
      "image/png": "[encoded data removed]",
      "text/plain": [
       "<Figure size 432x288 with 1 Axes>"
      ]
     },
     "metadata": {
      "needs_background": "light"
     },
     "output_type": "display_data"
    }
   ],
   "source": [
    "x_values = pd.Series(range(0, len(orders['revenue'])))\n",
    "\n",
    "plt.scatter(x_values, orders['revenue'])\n",
    "plt.title('Точечный график стоимостей заказов')\n",
    "plt.xlabel(\"Колличество пользователей\")\n",
    "plt.ylabel(\"Стоимость заказов, млн.\")\n",
    "plt.show()"
   ]
  },
  {
   "cell_type": "markdown",
   "metadata": {},
   "source": [
    "Большинство заказов не превышает суммы  100 тысяч. Так же мы видим 2  аномальных заказа на 1294500 и 202740, которые находятся в группе В и могут искажать результаты А/В теста"
   ]
  },
  {
   "cell_type": "code",
   "execution_count": 22,
   "metadata": {},
   "outputs": [
    {
     "data": {
      "image/png": "[encoded data removed]",
      "text/plain": [
       "<Figure size 432x288 with 1 Axes>"
      ]
     },
     "metadata": {
      "needs_background": "light"
     },
     "output_type": "display_data"
    }
   ],
   "source": [
    "x_values = pd.Series(range(0, len(orders['revenue'])))\n",
    "\n",
    "plt.scatter(x_values, orders['revenue'])\n",
    "plt.title('Точечный график стоимостей заказов')\n",
    "plt.xlabel(\"Колличество пользователей\")\n",
    "plt.ylabel(\"Стоимость заказов, млн.\")\n",
    "plt.ylim([0, 200000])\n",
    "plt.show()"
   ]
  },
  {
   "cell_type": "markdown",
   "metadata": {},
   "source": [
    "### Посчитайте 95-й и 99-й перцентили стоимости заказов. Выберите границу для определения аномальных заказов."
   ]
  },
  {
   "cell_type": "code",
   "execution_count": 23,
   "metadata": {},
   "outputs": [
    {
     "data": {
      "text/plain": [
       "array([28000. , 58233.2])"
      ]
     },
     "metadata": {},
     "output_type": "display_data"
    }
   ],
   "source": [
    "display(np.percentile(orders['revenue'], [95, 99]))"
   ]
  },
  {
   "cell_type": "markdown",
   "metadata": {},
   "source": [
    "Не более, чем у 5% заказов чек дороже 28000. И не больше, чем у 1% заказов - дороже 58233"
   ]
  },
  {
   "cell_type": "markdown",
   "metadata": {},
   "source": [
    "### Посчитайте статистическую значимость различий в конверсии между группами по «сырым» данным. Сделайте выводы и предположения."
   ]
  },
  {
   "cell_type": "code",
   "execution_count": 24,
   "metadata": {},
   "outputs": [
    {
     "name": "stdout",
     "output_type": "stream",
     "text": [
      "        date  ordersPerDateA  revenuePerDateA  ordersPerDateB  \\\n",
      "0 2019-08-01              24           148579              21   \n",
      "1 2019-08-02              20            93822              24   \n",
      "2 2019-08-03              24           112473              16   \n",
      "3 2019-08-04              16            70825              17   \n",
      "4 2019-08-05              25           124218              23   \n",
      "\n",
      "   revenuePerDateB  ordersCummulativeA  revenueCummulativeA  \\\n",
      "0           101217                  24               148579   \n",
      "1           165531                  44               242401   \n",
      "2           114248                  68               354874   \n",
      "3           108571                  84               425699   \n",
      "4            92428                 109               549917   \n",
      "\n",
      "   ordersCummulativeB  revenueCummulativeB  visitorsPerDateA  \\\n",
      "0                  21               101217               719   \n",
      "1                  45               266748               619   \n",
      "2                  61               380996               507   \n",
      "3                  78               489567               717   \n",
      "4                 101               581995               756   \n",
      "\n",
      "   visitorsPerDateB  visitorsCummulativeA  visitorsCummulativeB  \n",
      "0               713                   719                   713  \n",
      "1               581                  1338                  1294  \n",
      "2               509                  1845                  1803  \n",
      "3               770                  2562                  2573  \n",
      "4               707                  3318                  3280  \n"
     ]
    },
    {
     "data": {
      "text/plain": [
       "'0.01679'"
      ]
     },
     "metadata": {},
     "output_type": "display_data"
    },
    {
     "data": {
      "text/plain": [
       "'0.138'"
      ]
     },
     "metadata": {},
     "output_type": "display_data"
    }
   ],
   "source": [
    "visitorsADaily = visitors[visitors['group'] == 'A'][['date', 'visitors']]\n",
    "visitorsADaily.columns = ['date', 'visitorsPerDateA']\n",
    "\n",
    "visitorsACummulative = visitorsADaily.apply(\n",
    "    lambda x: visitorsADaily[visitorsADaily['date'] <= x['date']].agg(\n",
    "        {'date': 'max', 'visitorsPerDateA': 'sum'}\n",
    "    ),\n",
    "    axis=1,\n",
    ")\n",
    "visitorsACummulative.columns = ['date', 'visitorsCummulativeA']\n",
    "\n",
    "visitorsBDaily = visitors[visitors['group'] == 'B'][['date', 'visitors']]\n",
    "visitorsBDaily.columns = ['date', 'visitorsPerDateB']\n",
    "\n",
    "visitorsBCummulative = visitorsBDaily.apply(\n",
    "    lambda x: visitorsBDaily[visitorsBDaily['date'] <= x['date']].agg(\n",
    "        {'date': 'max', 'visitorsPerDateB': 'sum'}\n",
    "    ),\n",
    "    axis=1,\n",
    ")\n",
    "visitorsBCummulative.columns = ['date', 'visitorsCummulativeB']\n",
    "\n",
    "ordersADaily = (\n",
    "    orders[orders['group'] == 'A'][['date', 'transactionid', 'visitorid', 'revenue']]\n",
    "    .groupby('date', as_index=False)\n",
    "    .agg({'transactionid': pd.Series.nunique, 'revenue': 'sum'})\n",
    ")\n",
    "ordersADaily.columns = ['date', 'ordersPerDateA', 'revenuePerDateA']\n",
    "\n",
    "ordersACummulative = ordersADaily.apply(\n",
    "    lambda x: ordersADaily[ordersADaily['date'] <= x['date']].agg(\n",
    "        {'date': 'max', 'ordersPerDateA': 'sum', 'revenuePerDateA': 'sum'}\n",
    "    ),\n",
    "    axis=1,\n",
    ").sort_values(by=['date'])\n",
    "ordersACummulative.columns = [\n",
    "    'date',\n",
    "    'ordersCummulativeA',\n",
    "    'revenueCummulativeA',\n",
    "]\n",
    "\n",
    "ordersBDaily = (\n",
    "    orders[orders['group'] == 'B'][['date', 'transactionid', 'visitorid', 'revenue']]\n",
    "    .groupby('date', as_index=False)\n",
    "    .agg({'transactionid': pd.Series.nunique, 'revenue': 'sum'})\n",
    ")\n",
    "ordersBDaily.columns = ['date', 'ordersPerDateB', 'revenuePerDateB']\n",
    "\n",
    "ordersBCummulative = ordersBDaily.apply(\n",
    "    lambda x: ordersBDaily[ordersBDaily['date'] <= x['date']].agg(\n",
    "        {'date': 'max', 'ordersPerDateB': 'sum', 'revenuePerDateB': 'sum'}\n",
    "    ),\n",
    "    axis=1,\n",
    ").sort_values(by=['date'])\n",
    "ordersBCummulative.columns = [\n",
    "    'date',\n",
    "    'ordersCummulativeB',\n",
    "    'revenueCummulativeB',\n",
    "]\n",
    "\n",
    "data = (\n",
    "    ordersADaily.merge(\n",
    "        ordersBDaily, left_on='date', right_on='date', how='left'\n",
    "    )\n",
    "    .merge(ordersACummulative, left_on='date', right_on='date', how='left')\n",
    "    .merge(ordersBCummulative, left_on='date', right_on='date', how='left')\n",
    "    .merge(visitorsADaily, left_on='date', right_on='date', how='left')\n",
    "    .merge(visitorsBDaily, left_on='date', right_on='date', how='left')\n",
    "    .merge(visitorsACummulative, left_on='date', right_on='date', how='left')\n",
    "    .merge(visitorsBCummulative, left_on='date', right_on='date', how='left')\n",
    ")\n",
    "\n",
    "print(data.head(5))\n",
    "\n",
    "ordersByUsersA = (\n",
    "    orders[orders['group'] == 'A']\n",
    "    .groupby('visitorid', as_index=False)\n",
    "    .agg({'transactionid': pd.Series.nunique})\n",
    ")\n",
    "ordersByUsersA.columns = ['visitorid', 'orders']\n",
    " \n",
    "ordersByUsersB = (\n",
    "    orders[orders['group'] == 'B']\n",
    "    .groupby('visitorid', as_index=False)\n",
    "    .agg({'transactionid': pd.Series.nunique})\n",
    ")\n",
    "ordersByUsersB.columns = ['visitorid', 'orders']\n",
    " \n",
    "sampleA = pd.concat(\n",
    "    [\n",
    "        ordersByUsersA['orders'],\n",
    "        pd.Series(\n",
    "            0,\n",
    "            index=np.arange(\n",
    "                data['visitorsPerDateA'].sum() - len(ordersByUsersA['orders'])\n",
    "            ),\n",
    "            name='orders',\n",
    "        ),\n",
    "    ],\n",
    "    axis=0,\n",
    ")\n",
    "sampleB = pd.concat(\n",
    "    [\n",
    "        ordersByUsersB['orders'],\n",
    "        pd.Series(\n",
    "            0,\n",
    "            index=np.arange(\n",
    "                data['visitorsPerDateB'].sum() - len(ordersByUsersB['orders'])\n",
    "            ),\n",
    "            name='orders',\n",
    "        ),\n",
    "    ],\n",
    "    axis=0,\n",
    ")\n",
    " \n",
    "display(\"{0:.5f}\".format(stats.mannwhitneyu(sampleA, sampleB)[1]))\n",
    "display(\n",
    "    \"{0:.3f}\".format(\n",
    "        (data['ordersPerDateB'].sum() / data['visitorsPerDateB'].sum())\n",
    "        / (data['ordersPerDateA'].sum() / data['visitorsPerDateA'].sum())\n",
    "        - 1\n",
    "    )\n",
    ")"
   ]
  },
  {
   "cell_type": "markdown",
   "metadata": {},
   "source": [
    "   \n",
    "Нулевая гипотеза – статистически значимых различий в конверсии между группами нет\n",
    "\n",
    "Альтернативная гипотеза – статистически значимые различия в конверсии между группами есть\n",
    "\n",
    "\n",
    "\n",
    "Нулевая гипотеза - статистически значимых различий в среднем чеке между группами нет\n",
    "    \n",
    "Альтернативная гипотеза - статистически значимые различия в среднем чеке между группами есть\n",
    "<br></div> \n"
   ]
  },
  {
   "cell_type": "markdown",
   "metadata": {},
   "source": [
    "P-value = 0.01679, это меньше 0.05,  нулевую гипотезу о том, что статистически значимых различий в конверсии между группами нет, отвергаем. Анализ \"сырых данных\", показал что в конверсии между группами есть статистически значимые различия. Относительный прирост конверсии группы В  - к группе А равен 13.8%"
   ]
  },
  {
   "cell_type": "markdown",
   "metadata": {},
   "source": [
    "### Посчитайте статистическую значимость различий в среднем чеке заказа между группами по «сырым» данным. Сделайте выводы и предположения."
   ]
  },
  {
   "cell_type": "code",
   "execution_count": 25,
   "metadata": {},
   "outputs": [
    {
     "name": "stdout",
     "output_type": "stream",
     "text": [
      "0.729\n",
      "0.259\n"
     ]
    }
   ],
   "source": [
    "print(\n",
    "    \"{0:.3f}\".format(\n",
    "        stats.mannwhitneyu(\n",
    "            orders[orders['group'] == 'A']['revenue'],\n",
    "            orders[orders['group'] == 'B']['revenue'],\n",
    "        )[1]\n",
    "    )\n",
    ")\n",
    "print(\n",
    "    \"{0:.3f}\".format(\n",
    "        orders[orders['group'] == 'B']['revenue'].mean()\n",
    "        / orders[orders['group'] == 'A']['revenue'].mean()\n",
    "        - 1\n",
    "    )\n",
    ")"
   ]
  },
  {
   "cell_type": "markdown",
   "metadata": {},
   "source": [
    "P-value = 0.729, это больше 0.05 - статистически значимые различия в среднем чеке между группами есть. Относительное различие среднего чека между сегментами 25.9%"
   ]
  },
  {
   "cell_type": "markdown",
   "metadata": {},
   "source": [
    "### Посчитайте статистическую значимость различий в конверсии между группами по «очищенным» данным. Сделайте выводы и предположения."
   ]
  },
  {
   "cell_type": "code",
   "execution_count": 26,
   "metadata": {
    "scrolled": true
   },
   "outputs": [
    {
     "name": "stdout",
     "output_type": "stream",
     "text": [
      "1099     148427295\n",
      "949      887908475\n",
      "744      888512513\n",
      "1103    1164614297\n",
      "1136    1307669133\n",
      "858     1316129916\n",
      "425     1920142716\n",
      "227     2038680547\n",
      "1196    2108080724\n",
      "326     2378935119\n",
      "278     2458001652\n",
      "940     4003628586\n",
      "743     4133034833\n",
      "499     4256040402\n",
      "662     4266935830\n",
      "Name: visitorid, dtype: int64\n",
      "15\n"
     ]
    }
   ],
   "source": [
    "order_max = np.percentile(ordersByUsers['orders'], [95, 99])[1]\n",
    "\n",
    "usersWithManyOrders = pd.concat(\n",
    "    [\n",
    "        ordersByUsersA[ordersByUsersA['orders'] > order_max]['visitorid'],\n",
    "        ordersByUsersB[ordersByUsersB['orders'] > order_max]['visitorid'],\n",
    "    ],\n",
    "    axis=0,\n",
    ")\n",
    "\n",
    "revenu_max=np.percentile(orders['revenue'], [95, 99])[1]\n",
    "usersWithExpensiveOrders = orders[orders['revenue'] > revenu_max]['visitorid']\n",
    "\n",
    "abnormalUsers = (\n",
    "    pd.concat([usersWithManyOrders, usersWithExpensiveOrders], axis=0)\n",
    "    .drop_duplicates()\n",
    "    .sort_values()\n",
    ")\n",
    "print(abnormalUsers.head(15))\n",
    "print(abnormalUsers.shape[0])"
   ]
  },
  {
   "cell_type": "markdown",
   "metadata": {},
   "source": [
    "Всего 15 аномальных пользователей"
   ]
  },
  {
   "cell_type": "code",
   "execution_count": 27,
   "metadata": {},
   "outputs": [
    {
     "name": "stdout",
     "output_type": "stream",
     "text": [
      "0.01438\n",
      "0.153\n"
     ]
    }
   ],
   "source": [
    "sampleAFiltered = pd.concat(\n",
    "    [\n",
    "        ordersByUsersA[\n",
    "            np.logical_not(ordersByUsersA['visitorid'].isin(abnormalUsers))\n",
    "        ]['orders'],\n",
    "        pd.Series(\n",
    "            0,\n",
    "            index=np.arange(\n",
    "                data['visitorsPerDateA'].sum() - len(ordersByUsersA['orders'])\n",
    "            ),\n",
    "            name='orders',\n",
    "        ),\n",
    "    ],\n",
    "    axis=0,\n",
    ")\n",
    "\n",
    "sampleBFiltered = pd.concat(\n",
    "    [\n",
    "        ordersByUsersB[\n",
    "            np.logical_not(ordersByUsersB['visitorid'].isin(abnormalUsers))\n",
    "        ]['orders'],\n",
    "        pd.Series(\n",
    "            0,\n",
    "            index=np.arange(\n",
    "                data['visitorsPerDateB'].sum() - len(ordersByUsersB['orders'])\n",
    "            ),\n",
    "            name='orders',\n",
    "        ),\n",
    "    ],\n",
    "    axis=0,\n",
    ")\n",
    "\n",
    "print('{0:.5f}'.format(stats.mannwhitneyu(sampleAFiltered, sampleBFiltered)[1]))\n",
    "print('{0:.3f}'.format(sampleBFiltered.mean() / sampleAFiltered.mean() - 1))"
   ]
  },
  {
   "cell_type": "markdown",
   "metadata": {},
   "source": [
    "Как и с сырыми данными статистическая значимость достигнута. Сегмент В лучше сегмента А"
   ]
  },
  {
   "cell_type": "markdown",
   "metadata": {},
   "source": [
    "### Посчитайте статистическую значимость различий в среднем чеке заказа между группами по «очищенным» данным. Сделайте выводы и предположения."
   ]
  },
  {
   "cell_type": "code",
   "execution_count": 28,
   "metadata": {},
   "outputs": [
    {
     "name": "stdout",
     "output_type": "stream",
     "text": [
      "0.851\n",
      "-0.006\n"
     ]
    }
   ],
   "source": [
    "print(\n",
    "    '{0:.3f}'.format(\n",
    "        stats.mannwhitneyu(\n",
    "            orders[\n",
    "                np.logical_and(\n",
    "                    orders['group'] == 'A',\n",
    "                    np.logical_not(orders['visitorid'].isin(abnormalUsers)),\n",
    "                )\n",
    "            ]['revenue'],\n",
    "            orders[\n",
    "                np.logical_and(\n",
    "                    orders['group'] == 'B',\n",
    "                    np.logical_not(orders['visitorid'].isin(abnormalUsers)),\n",
    "                )\n",
    "            ]['revenue'],\n",
    "        )[1]\n",
    "    )\n",
    ")\n",
    "\n",
    "print(\n",
    "    \"{0:.3f}\".format(\n",
    "        orders[\n",
    "            np.logical_and(\n",
    "                orders['group'] == 'B',\n",
    "                np.logical_not(orders['visitorid'].isin(abnormalUsers)),\n",
    "            )\n",
    "        ]['revenue'].mean()\n",
    "        / orders[\n",
    "            np.logical_and(\n",
    "                orders['group'] == 'A',\n",
    "                np.logical_not(orders['visitorid'].isin(abnormalUsers)),\n",
    "            )\n",
    "        ]['revenue'].mean()\n",
    "        - 1\n",
    "    )\n",
    ")"
   ]
  },
  {
   "cell_type": "markdown",
   "metadata": {},
   "source": [
    "Статистически значимых отличий в среднем чеке между группами нет. Относительное различие среднего чека между сегментами всего 0.6%"
   ]
  },
  {
   "cell_type": "markdown",
   "metadata": {},
   "source": [
    "### Примите решение по результатам теста и объясните его. Варианты решений: \n",
    "* 1. Остановить тест, зафиксировать победу одной из групп. \n",
    "* 2. Остановить тест, зафиксировать отсутствие различий между группами. \n",
    "* 3. Продолжить тест."
   ]
  },
  {
   "cell_type": "code",
   "execution_count": 29,
   "metadata": {},
   "outputs": [
    {
     "data": {
      "text/plain": [
       "(18109.0, 18139.0, -0.5, 0.5)"
      ]
     },
     "execution_count": 29,
     "metadata": {},
     "output_type": "execute_result"
    },
    {
     "data": {
      "image/png": "[encoded data removed]",
      "text/plain": [
       "<Figure size 1080x360 with 1 Axes>"
      ]
     },
     "metadata": {
      "needs_background": "light"
     },
     "output_type": "display_data"
    }
   ],
   "source": [
    "mergedCumulativeConversions = cumulativeDataA[['date','conversion']].merge(cumulativeDataB[['date','conversion']], left_on='date', right_on='date', how='left', suffixes=['A', 'B'])\n",
    "\n",
    "plt.figure(figsize=(15, 5))\n",
    "plt.plot(mergedCumulativeConversions['date'], mergedCumulativeConversions['conversionB']/mergedCumulativeConversions['conversionA']-1, label=\"Относительный прирост конверсии группы B относительно группы A\")\n",
    "\n",
    "plt.title('График относительного изменения кумулятивной конверсии группы B к группе A', fontsize=12)\n",
    "plt.xlabel(\"Период A/B-теста\", fontsize=10)\n",
    "plt.ylabel(\"Доли\", fontsize=10)\n",
    "plt.legend()\n",
    "\n",
    "plt.axhline(y=0, color='black', linestyle='--')\n",
    "plt.axhline(y=0.2, color='grey', linestyle='--')\n",
    "plt.axis([\"2019-08-01\", '2019-08-31', -0.5, 0.5])"
   ]
  },
  {
   "cell_type": "code",
   "execution_count": 30,
   "metadata": {},
   "outputs": [
    {
     "data": {
      "image/png": "[encoded data removed]",
      "text/plain": [
       "<Figure size 1080x360 with 1 Axes>"
      ]
     },
     "metadata": {
      "needs_background": "light"
     },
     "output_type": "display_data"
    }
   ],
   "source": [
    "plt.figure(figsize=(15, 5))\n",
    "# cтроим отношение средних чеков\n",
    "plt.plot(mergedCumulativeRevenue['date'], (mergedCumulativeRevenue['revenueB']/mergedCumulativeRevenue['ordersB'])/(mergedCumulativeRevenue['revenueA']/mergedCumulativeRevenue['ordersA'])-1)\n",
    "\n",
    "# добавляем ось X\n",
    "plt.axhline(y=0, color='black', linestyle='--')\n",
    "\n",
    "plt.title('Относительное изменения кумулятивного среднего чека группы B к группе A', fontsize=12)\n",
    "plt.xlabel(\"Период A/B-теста\", fontsize=10)\n",
    "plt.ylabel(\"Доли\", fontsize=10)\n",
    "\n",
    "plt.show()"
   ]
  },
  {
   "cell_type": "markdown",
   "metadata": {},
   "source": [
    "* Есть статистически значимое различие по конверсии между группами как по сырым данным, так и после фильтрации аномалий.\n",
    "* Нет статистически значимого различия по среднему чеку между группами как по сырым данным , так и после фильтрации аномалий\n",
    "* График различия конверсии между группами сообщает, что результаты группы B лучше группы A: имеют тенденцию к росту, либо зафиксировались около среднего значения почти на 20%\n",
    "* График различия среднего чека колеблется: он-то и позволил нам найти аномалии.\n",
    "\n",
    "# Остановить тест, признать его успешным и зафиксировать победу группы В"
   ]
  }
 ],
 "metadata": {
  "ExecuteTimeLog": [
   {
    "duration": 70,
    "start_time": "2022-05-15T14:47:50.393Z"
   },
   {
    "duration": 496,
    "start_time": "2022-05-15T14:48:02.375Z"
   },
   {
    "duration": 107,
    "start_time": "2022-05-15T14:48:04.320Z"
   },
   {
    "duration": 76,
    "start_time": "2022-05-15T14:48:11.055Z"
   },
   {
    "duration": 60,
    "start_time": "2022-05-15T14:48:38.581Z"
   },
   {
    "duration": 22,
    "start_time": "2022-05-15T14:49:13.316Z"
   },
   {
    "duration": 29,
    "start_time": "2022-05-15T14:49:38.318Z"
   },
   {
    "duration": 26,
    "start_time": "2022-05-15T14:51:13.298Z"
   },
   {
    "duration": 17,
    "start_time": "2022-05-15T14:52:13.639Z"
   },
   {
    "duration": 15,
    "start_time": "2022-05-15T14:53:24.573Z"
   },
   {
    "duration": 27,
    "start_time": "2022-05-15T15:06:27.777Z"
   },
   {
    "duration": 45,
    "start_time": "2022-05-15T15:06:56.620Z"
   },
   {
    "duration": 63,
    "start_time": "2022-05-15T15:07:13.005Z"
   },
   {
    "duration": 22,
    "start_time": "2022-05-15T15:08:01.780Z"
   },
   {
    "duration": 17,
    "start_time": "2022-05-15T15:10:01.184Z"
   },
   {
    "duration": 49,
    "start_time": "2022-05-15T15:10:57.002Z"
   },
   {
    "duration": 49,
    "start_time": "2022-05-15T15:11:27.437Z"
   },
   {
    "duration": 21,
    "start_time": "2022-05-15T15:11:34.060Z"
   },
   {
    "duration": 21,
    "start_time": "2022-05-15T15:11:42.777Z"
   },
   {
    "duration": 21,
    "start_time": "2022-05-15T15:11:49.691Z"
   },
   {
    "duration": 15,
    "start_time": "2022-05-15T15:11:59.173Z"
   },
   {
    "duration": 1063,
    "start_time": "2022-05-15T15:15:32.004Z"
   },
   {
    "duration": 26,
    "start_time": "2022-05-15T15:15:33.070Z"
   },
   {
    "duration": 17,
    "start_time": "2022-05-15T15:15:33.099Z"
   },
   {
    "duration": 45,
    "start_time": "2022-05-15T15:15:33.120Z"
   },
   {
    "duration": 49,
    "start_time": "2022-05-15T15:15:33.167Z"
   },
   {
    "duration": 33,
    "start_time": "2022-05-15T15:15:33.219Z"
   },
   {
    "duration": 14,
    "start_time": "2022-05-15T15:15:33.254Z"
   },
   {
    "duration": 582,
    "start_time": "2022-05-15T15:29:01.075Z"
   },
   {
    "duration": 584,
    "start_time": "2022-05-15T15:29:24.924Z"
   },
   {
    "duration": 52,
    "start_time": "2022-05-15T15:32:43.512Z"
   },
   {
    "duration": 34,
    "start_time": "2022-05-15T15:33:17.380Z"
   },
   {
    "duration": 66,
    "start_time": "2022-05-15T15:34:49.315Z"
   },
   {
    "duration": 1001,
    "start_time": "2022-05-15T15:35:54.662Z"
   },
   {
    "duration": 281,
    "start_time": "2022-05-15T15:48:30.915Z"
   },
   {
    "duration": 431,
    "start_time": "2022-05-15T15:52:28.866Z"
   },
   {
    "duration": 310,
    "start_time": "2022-05-15T15:58:42.439Z"
   },
   {
    "duration": 290,
    "start_time": "2022-05-15T15:58:51.605Z"
   },
   {
    "duration": 259,
    "start_time": "2022-05-15T15:59:56.137Z"
   },
   {
    "duration": 321,
    "start_time": "2022-05-15T16:00:06.420Z"
   },
   {
    "duration": 272,
    "start_time": "2022-05-15T16:00:14.600Z"
   },
   {
    "duration": 325,
    "start_time": "2022-05-15T16:00:35.464Z"
   },
   {
    "duration": 252,
    "start_time": "2022-05-15T16:02:22.684Z"
   },
   {
    "duration": 307,
    "start_time": "2022-05-15T16:04:41.577Z"
   },
   {
    "duration": 262,
    "start_time": "2022-05-15T16:04:50.978Z"
   },
   {
    "duration": 300,
    "start_time": "2022-05-15T16:06:41.052Z"
   },
   {
    "duration": 259,
    "start_time": "2022-05-15T16:06:46.423Z"
   },
   {
    "duration": 322,
    "start_time": "2022-05-15T16:06:58.565Z"
   },
   {
    "duration": 309,
    "start_time": "2022-05-15T16:07:10.663Z"
   },
   {
    "duration": 270,
    "start_time": "2022-05-15T16:07:17.936Z"
   },
   {
    "duration": 365,
    "start_time": "2022-05-15T16:08:43.586Z"
   },
   {
    "duration": 12,
    "start_time": "2022-05-15T16:16:49.037Z"
   },
   {
    "duration": 186,
    "start_time": "2022-05-15T16:17:24.045Z"
   },
   {
    "duration": 20,
    "start_time": "2022-05-15T16:17:32.682Z"
   },
   {
    "duration": 189,
    "start_time": "2022-05-15T16:17:58.196Z"
   },
   {
    "duration": 178,
    "start_time": "2022-05-15T16:21:16.419Z"
   },
   {
    "duration": 261,
    "start_time": "2022-05-15T16:22:46.337Z"
   },
   {
    "duration": 6,
    "start_time": "2022-05-15T16:23:20.550Z"
   },
   {
    "duration": 7,
    "start_time": "2022-05-15T16:23:29.262Z"
   },
   {
    "duration": 198,
    "start_time": "2022-05-15T16:29:30.266Z"
   },
   {
    "duration": 16,
    "start_time": "2022-05-15T16:31:34.791Z"
   },
   {
    "duration": 181,
    "start_time": "2022-05-15T16:31:50.842Z"
   },
   {
    "duration": 10,
    "start_time": "2022-05-15T16:34:51.865Z"
   },
   {
    "duration": 14,
    "start_time": "2022-05-15T16:35:02.694Z"
   },
   {
    "duration": 11,
    "start_time": "2022-05-15T16:35:10.237Z"
   },
   {
    "duration": 196,
    "start_time": "2022-05-15T16:35:19.563Z"
   },
   {
    "duration": 9,
    "start_time": "2022-05-15T16:41:25.868Z"
   },
   {
    "duration": 6,
    "start_time": "2022-05-15T16:41:34.978Z"
   },
   {
    "duration": 18,
    "start_time": "2022-05-15T16:53:52.903Z"
   },
   {
    "duration": 356,
    "start_time": "2022-05-15T16:56:06.527Z"
   },
   {
    "duration": 2045,
    "start_time": "2022-05-15T16:56:51.831Z"
   },
   {
    "duration": 178,
    "start_time": "2022-05-15T17:42:10.808Z"
   },
   {
    "duration": 215,
    "start_time": "2022-05-15T17:42:35.804Z"
   },
   {
    "duration": 182,
    "start_time": "2022-05-15T17:42:43.612Z"
   },
   {
    "duration": 978,
    "start_time": "2022-05-15T17:43:02.931Z"
   },
   {
    "duration": 1427,
    "start_time": "2022-05-15T17:44:20.256Z"
   },
   {
    "duration": 31,
    "start_time": "2022-05-15T17:44:21.686Z"
   },
   {
    "duration": 21,
    "start_time": "2022-05-15T17:44:21.720Z"
   },
   {
    "duration": 23,
    "start_time": "2022-05-15T17:44:21.753Z"
   },
   {
    "duration": 74,
    "start_time": "2022-05-15T17:44:21.779Z"
   },
   {
    "duration": 45,
    "start_time": "2022-05-15T17:44:21.856Z"
   },
   {
    "duration": 14,
    "start_time": "2022-05-15T17:44:21.903Z"
   },
   {
    "duration": 883,
    "start_time": "2022-05-15T17:44:21.919Z"
   },
   {
    "duration": 283,
    "start_time": "2022-05-15T17:44:22.805Z"
   },
   {
    "duration": 430,
    "start_time": "2022-05-15T17:44:23.093Z"
   },
   {
    "duration": 263,
    "start_time": "2022-05-15T17:44:23.525Z"
   },
   {
    "duration": 434,
    "start_time": "2022-05-15T17:44:23.790Z"
   },
   {
    "duration": 29,
    "start_time": "2022-05-15T17:44:24.227Z"
   },
   {
    "duration": 261,
    "start_time": "2022-05-15T17:44:24.259Z"
   },
   {
    "duration": 9,
    "start_time": "2022-05-15T17:44:24.523Z"
   },
   {
    "duration": 16,
    "start_time": "2022-05-15T17:44:24.552Z"
   },
   {
    "duration": 222,
    "start_time": "2022-05-15T17:44:24.570Z"
   },
   {
    "duration": 8,
    "start_time": "2022-05-15T17:44:24.795Z"
   },
   {
    "duration": 669,
    "start_time": "2022-05-15T17:44:24.806Z"
   },
   {
    "duration": 655,
    "start_time": "2022-05-15T17:57:11.001Z"
   },
   {
    "duration": 14,
    "start_time": "2022-05-15T17:58:19.322Z"
   },
   {
    "duration": 14,
    "start_time": "2022-05-15T18:06:05.478Z"
   },
   {
    "duration": 13,
    "start_time": "2022-05-15T18:06:38.621Z"
   },
   {
    "duration": 12,
    "start_time": "2022-05-15T18:06:44.952Z"
   },
   {
    "duration": 13,
    "start_time": "2022-05-15T18:06:59.596Z"
   },
   {
    "duration": 38,
    "start_time": "2022-05-15T18:08:35.368Z"
   },
   {
    "duration": 13,
    "start_time": "2022-05-15T18:12:02.105Z"
   },
   {
    "duration": 1980,
    "start_time": "2022-05-15T18:25:48.861Z"
   },
   {
    "duration": 22,
    "start_time": "2022-05-15T18:26:16.207Z"
   },
   {
    "duration": 1342,
    "start_time": "2022-05-15T19:06:10.567Z"
   },
   {
    "duration": 26,
    "start_time": "2022-05-15T19:06:11.912Z"
   },
   {
    "duration": 24,
    "start_time": "2022-05-15T19:06:11.940Z"
   },
   {
    "duration": 19,
    "start_time": "2022-05-15T19:06:11.967Z"
   },
   {
    "duration": 52,
    "start_time": "2022-05-15T19:06:11.988Z"
   },
   {
    "duration": 34,
    "start_time": "2022-05-15T19:06:12.052Z"
   },
   {
    "duration": 14,
    "start_time": "2022-05-15T19:06:12.088Z"
   },
   {
    "duration": 968,
    "start_time": "2022-05-15T19:06:12.104Z"
   },
   {
    "duration": 270,
    "start_time": "2022-05-15T19:06:13.075Z"
   },
   {
    "duration": 361,
    "start_time": "2022-05-15T19:06:13.353Z"
   },
   {
    "duration": 266,
    "start_time": "2022-05-15T19:06:13.716Z"
   },
   {
    "duration": 380,
    "start_time": "2022-05-15T19:06:13.984Z"
   },
   {
    "duration": 16,
    "start_time": "2022-05-15T19:06:14.366Z"
   },
   {
    "duration": 205,
    "start_time": "2022-05-15T19:06:14.384Z"
   },
   {
    "duration": 7,
    "start_time": "2022-05-15T19:06:14.592Z"
   },
   {
    "duration": 16,
    "start_time": "2022-05-15T19:06:14.602Z"
   },
   {
    "duration": 240,
    "start_time": "2022-05-15T19:06:14.621Z"
   },
   {
    "duration": 7,
    "start_time": "2022-05-15T19:06:14.864Z"
   },
   {
    "duration": 664,
    "start_time": "2022-05-15T19:06:14.873Z"
   },
   {
    "duration": 15,
    "start_time": "2022-05-15T19:06:15.553Z"
   },
   {
    "duration": 16,
    "start_time": "2022-05-15T19:06:15.570Z"
   },
   {
    "duration": 65,
    "start_time": "2022-05-15T19:06:15.588Z"
   },
   {
    "duration": 19,
    "start_time": "2022-05-15T19:06:15.656Z"
   },
   {
    "duration": 405,
    "start_time": "2022-05-15T19:08:13.910Z"
   },
   {
    "duration": 434,
    "start_time": "2022-05-15T19:08:46.569Z"
   },
   {
    "duration": 389,
    "start_time": "2022-05-15T19:08:48.836Z"
   },
   {
    "duration": 164,
    "start_time": "2022-05-17T08:36:58.166Z"
   },
   {
    "duration": 47,
    "start_time": "2022-05-17T09:21:11.681Z"
   },
   {
    "duration": 1161,
    "start_time": "2022-05-17T09:21:17.205Z"
   },
   {
    "duration": 22,
    "start_time": "2022-05-17T09:21:18.367Z"
   },
   {
    "duration": 6,
    "start_time": "2022-05-17T09:21:18.390Z"
   },
   {
    "duration": 30,
    "start_time": "2022-05-17T09:21:18.398Z"
   },
   {
    "duration": 13,
    "start_time": "2022-05-17T09:21:18.429Z"
   },
   {
    "duration": 59,
    "start_time": "2022-05-17T09:21:18.444Z"
   },
   {
    "duration": 24,
    "start_time": "2022-05-17T09:21:18.505Z"
   },
   {
    "duration": 11,
    "start_time": "2022-05-17T09:21:18.531Z"
   },
   {
    "duration": 509,
    "start_time": "2022-05-17T09:21:18.544Z"
   },
   {
    "duration": 170,
    "start_time": "2022-05-17T09:21:19.057Z"
   },
   {
    "duration": 281,
    "start_time": "2022-05-17T09:21:19.229Z"
   },
   {
    "duration": 164,
    "start_time": "2022-05-17T09:21:19.511Z"
   },
   {
    "duration": 247,
    "start_time": "2022-05-17T09:21:19.677Z"
   },
   {
    "duration": 21,
    "start_time": "2022-05-17T09:21:19.926Z"
   },
   {
    "duration": 126,
    "start_time": "2022-05-17T09:21:19.949Z"
   },
   {
    "duration": 5,
    "start_time": "2022-05-17T09:21:20.077Z"
   },
   {
    "duration": 13,
    "start_time": "2022-05-17T09:21:20.083Z"
   },
   {
    "duration": 122,
    "start_time": "2022-05-17T09:21:20.098Z"
   },
   {
    "duration": 4,
    "start_time": "2022-05-17T09:21:20.222Z"
   },
   {
    "duration": 366,
    "start_time": "2022-05-17T09:21:20.228Z"
   },
   {
    "duration": 11,
    "start_time": "2022-05-17T09:21:20.596Z"
   },
   {
    "duration": 10,
    "start_time": "2022-05-17T09:21:20.608Z"
   },
   {
    "duration": 49,
    "start_time": "2022-05-17T09:21:20.620Z"
   },
   {
    "duration": 14,
    "start_time": "2022-05-17T09:21:20.671Z"
   },
   {
    "duration": 260,
    "start_time": "2022-05-17T09:21:20.686Z"
   },
   {
    "duration": 352,
    "start_time": "2022-05-17T09:21:20.947Z"
   },
   {
    "duration": 139,
    "start_time": "2022-05-17T09:22:30.009Z"
   },
   {
    "duration": 9,
    "start_time": "2022-05-17T09:32:22.160Z"
   },
   {
    "duration": 8,
    "start_time": "2022-05-17T09:32:38.081Z"
   },
   {
    "duration": 93,
    "start_time": "2022-05-17T09:33:45.997Z"
   },
   {
    "duration": 5,
    "start_time": "2022-05-17T09:33:48.574Z"
   },
   {
    "duration": 5,
    "start_time": "2022-05-17T09:33:50.239Z"
   },
   {
    "duration": 6,
    "start_time": "2022-05-17T09:33:51.803Z"
   },
   {
    "duration": 7,
    "start_time": "2022-05-17T09:34:18.356Z"
   },
   {
    "duration": 8,
    "start_time": "2022-05-17T09:34:20.137Z"
   },
   {
    "duration": 125,
    "start_time": "2022-05-17T09:35:22.728Z"
   },
   {
    "duration": 10,
    "start_time": "2022-05-17T09:36:30.326Z"
   },
   {
    "duration": 4,
    "start_time": "2022-05-17T09:36:57.578Z"
   },
   {
    "duration": 567,
    "start_time": "2022-05-17T09:40:34.007Z"
   },
   {
    "duration": 405,
    "start_time": "2022-05-17T09:40:50.388Z"
   },
   {
    "duration": 442,
    "start_time": "2022-05-17T09:41:50.027Z"
   },
   {
    "duration": 412,
    "start_time": "2022-05-17T09:42:20.955Z"
   },
   {
    "duration": 403,
    "start_time": "2022-05-17T09:42:42.945Z"
   },
   {
    "duration": 411,
    "start_time": "2022-05-17T09:42:54.413Z"
   },
   {
    "duration": 519,
    "start_time": "2022-05-17T09:43:07.506Z"
   },
   {
    "duration": 482,
    "start_time": "2022-05-17T09:43:23.513Z"
   },
   {
    "duration": 460,
    "start_time": "2022-05-17T09:43:35.528Z"
   },
   {
    "duration": 517,
    "start_time": "2022-05-17T09:43:42.528Z"
   },
   {
    "duration": 421,
    "start_time": "2022-05-17T09:44:58.670Z"
   },
   {
    "duration": 435,
    "start_time": "2022-05-17T09:45:05.796Z"
   },
   {
    "duration": 426,
    "start_time": "2022-05-17T09:45:11.165Z"
   },
   {
    "duration": 710,
    "start_time": "2022-05-17T09:46:07.321Z"
   },
   {
    "duration": 465,
    "start_time": "2022-05-17T09:49:17.661Z"
   },
   {
    "duration": 420,
    "start_time": "2022-05-17T09:50:17.427Z"
   },
   {
    "duration": 175,
    "start_time": "2022-05-17T09:50:36.833Z"
   },
   {
    "duration": 190,
    "start_time": "2022-05-17T09:51:31.029Z"
   },
   {
    "duration": 181,
    "start_time": "2022-05-17T09:51:38.150Z"
   },
   {
    "duration": 272,
    "start_time": "2022-05-17T09:52:20.451Z"
   },
   {
    "duration": 274,
    "start_time": "2022-05-17T09:52:33.897Z"
   },
   {
    "duration": 305,
    "start_time": "2022-05-17T09:52:41.298Z"
   },
   {
    "duration": 401,
    "start_time": "2022-05-17T09:53:28.785Z"
   },
   {
    "duration": 343,
    "start_time": "2022-05-17T09:54:05.821Z"
   },
   {
    "duration": 157,
    "start_time": "2022-05-17T09:56:04.686Z"
   },
   {
    "duration": 186,
    "start_time": "2022-05-17T09:56:20.876Z"
   },
   {
    "duration": 203,
    "start_time": "2022-05-17T09:56:45.781Z"
   },
   {
    "duration": 200,
    "start_time": "2022-05-17T09:57:20.723Z"
   },
   {
    "duration": 204,
    "start_time": "2022-05-17T09:58:12.041Z"
   },
   {
    "duration": 332,
    "start_time": "2022-05-17T09:58:27.792Z"
   },
   {
    "duration": 276,
    "start_time": "2022-05-17T09:59:24.688Z"
   },
   {
    "duration": 265,
    "start_time": "2022-05-17T09:59:43.636Z"
   },
   {
    "duration": 256,
    "start_time": "2022-05-17T09:59:49.432Z"
   },
   {
    "duration": 281,
    "start_time": "2022-05-17T09:59:55.147Z"
   },
   {
    "duration": 289,
    "start_time": "2022-05-17T10:00:12.246Z"
   },
   {
    "duration": 397,
    "start_time": "2022-05-17T10:00:34.777Z"
   },
   {
    "duration": 293,
    "start_time": "2022-05-17T10:00:41.652Z"
   },
   {
    "duration": 293,
    "start_time": "2022-05-17T10:00:51.197Z"
   },
   {
    "duration": 335,
    "start_time": "2022-05-17T10:01:04.910Z"
   },
   {
    "duration": 295,
    "start_time": "2022-05-17T10:01:21.051Z"
   },
   {
    "duration": 116,
    "start_time": "2022-05-17T10:04:34.298Z"
   },
   {
    "duration": 115,
    "start_time": "2022-05-17T10:04:41.205Z"
   },
   {
    "duration": 224,
    "start_time": "2022-05-17T10:05:24.927Z"
   },
   {
    "duration": 134,
    "start_time": "2022-05-17T10:05:30.395Z"
   },
   {
    "duration": 134,
    "start_time": "2022-05-17T10:05:36.205Z"
   },
   {
    "duration": 125,
    "start_time": "2022-05-17T10:05:56.913Z"
   },
   {
    "duration": 124,
    "start_time": "2022-05-17T10:06:09.881Z"
   },
   {
    "duration": 127,
    "start_time": "2022-05-17T10:06:16.706Z"
   },
   {
    "duration": 116,
    "start_time": "2022-05-17T10:07:21.753Z"
   },
   {
    "duration": 130,
    "start_time": "2022-05-17T10:08:45.688Z"
   },
   {
    "duration": 126,
    "start_time": "2022-05-17T10:10:17.147Z"
   },
   {
    "duration": 130,
    "start_time": "2022-05-17T10:10:32.259Z"
   },
   {
    "duration": 255,
    "start_time": "2022-05-17T10:10:51.188Z"
   },
   {
    "duration": 121,
    "start_time": "2022-05-17T10:10:56.248Z"
   },
   {
    "duration": 128,
    "start_time": "2022-05-17T10:11:15.221Z"
   },
   {
    "duration": 2564,
    "start_time": "2022-05-17T10:25:47.167Z"
   },
   {
    "duration": 10,
    "start_time": "2022-05-17T10:26:03.299Z"
   },
   {
    "duration": 4,
    "start_time": "2022-05-17T10:27:33.957Z"
   },
   {
    "duration": 2417,
    "start_time": "2022-05-17T10:28:51.043Z"
   },
   {
    "duration": 2321,
    "start_time": "2022-05-17T10:29:01.456Z"
   },
   {
    "duration": 3,
    "start_time": "2022-05-17T10:29:19.324Z"
   },
   {
    "duration": 5,
    "start_time": "2022-05-17T10:30:23.928Z"
   },
   {
    "duration": 428,
    "start_time": "2022-05-17T10:33:29.027Z"
   },
   {
    "duration": 264,
    "start_time": "2022-05-17T10:33:38.496Z"
   },
   {
    "duration": 298,
    "start_time": "2022-05-17T10:34:07.047Z"
   },
   {
    "duration": 1203,
    "start_time": "2022-05-17T10:35:16.352Z"
   },
   {
    "duration": 25,
    "start_time": "2022-05-17T10:35:17.557Z"
   },
   {
    "duration": 3,
    "start_time": "2022-05-17T10:35:17.584Z"
   },
   {
    "duration": 21,
    "start_time": "2022-05-17T10:35:17.589Z"
   },
   {
    "duration": 29,
    "start_time": "2022-05-17T10:35:17.611Z"
   },
   {
    "duration": 160,
    "start_time": "2022-05-17T10:35:17.641Z"
   },
   {
    "duration": 41,
    "start_time": "2022-05-17T10:35:17.802Z"
   },
   {
    "duration": 25,
    "start_time": "2022-05-17T10:35:17.845Z"
   },
   {
    "duration": 15,
    "start_time": "2022-05-17T10:35:17.872Z"
   },
   {
    "duration": 20,
    "start_time": "2022-05-17T10:35:17.891Z"
   },
   {
    "duration": 29,
    "start_time": "2022-05-17T10:35:17.913Z"
   },
   {
    "duration": 846,
    "start_time": "2022-05-17T10:35:17.944Z"
   },
   {
    "duration": 203,
    "start_time": "2022-05-17T10:35:18.793Z"
   },
   {
    "duration": 436,
    "start_time": "2022-05-17T10:35:18.998Z"
   },
   {
    "duration": 344,
    "start_time": "2022-05-17T10:35:19.436Z"
   },
   {
    "duration": 306,
    "start_time": "2022-05-17T10:35:19.783Z"
   },
   {
    "duration": 13,
    "start_time": "2022-05-17T10:35:20.090Z"
   },
   {
    "duration": 187,
    "start_time": "2022-05-17T10:35:20.105Z"
   },
   {
    "duration": 6,
    "start_time": "2022-05-17T10:35:20.294Z"
   },
   {
    "duration": 11,
    "start_time": "2022-05-17T10:35:20.302Z"
   },
   {
    "duration": 157,
    "start_time": "2022-05-17T10:35:20.315Z"
   },
   {
    "duration": 152,
    "start_time": "2022-05-17T10:35:20.473Z"
   },
   {
    "duration": 5,
    "start_time": "2022-05-17T10:35:20.626Z"
   },
   {
    "duration": 451,
    "start_time": "2022-05-17T10:35:20.633Z"
   },
   {
    "duration": 12,
    "start_time": "2022-05-17T10:35:21.086Z"
   },
   {
    "duration": 10,
    "start_time": "2022-05-17T10:35:21.099Z"
   },
   {
    "duration": 33,
    "start_time": "2022-05-17T10:35:21.111Z"
   },
   {
    "duration": 28,
    "start_time": "2022-05-17T10:35:21.148Z"
   },
   {
    "duration": 14,
    "start_time": "2022-05-17T10:35:21.178Z"
   },
   {
    "duration": 440,
    "start_time": "2022-05-17T10:35:21.194Z"
   },
   {
    "duration": 407,
    "start_time": "2022-05-17T10:35:21.636Z"
   },
   {
    "duration": 5,
    "start_time": "2022-05-17T10:41:11.082Z"
   },
   {
    "duration": 11,
    "start_time": "2022-05-17T10:42:34.416Z"
   },
   {
    "duration": 1279,
    "start_time": "2022-05-17T10:45:44.339Z"
   },
   {
    "duration": 20,
    "start_time": "2022-05-17T10:45:45.620Z"
   },
   {
    "duration": 7,
    "start_time": "2022-05-17T10:45:45.641Z"
   },
   {
    "duration": 34,
    "start_time": "2022-05-17T10:45:45.650Z"
   },
   {
    "duration": 11,
    "start_time": "2022-05-17T10:45:45.686Z"
   },
   {
    "duration": 178,
    "start_time": "2022-05-17T10:45:45.699Z"
   },
   {
    "duration": 42,
    "start_time": "2022-05-17T10:45:45.879Z"
   },
   {
    "duration": 24,
    "start_time": "2022-05-17T10:45:45.922Z"
   },
   {
    "duration": 17,
    "start_time": "2022-05-17T10:45:45.948Z"
   },
   {
    "duration": 11,
    "start_time": "2022-05-17T10:45:45.969Z"
   },
   {
    "duration": 38,
    "start_time": "2022-05-17T10:45:45.982Z"
   },
   {
    "duration": 813,
    "start_time": "2022-05-17T10:45:46.022Z"
   },
   {
    "duration": 311,
    "start_time": "2022-05-17T10:45:46.837Z"
   },
   {
    "duration": 339,
    "start_time": "2022-05-17T10:45:47.150Z"
   },
   {
    "duration": 216,
    "start_time": "2022-05-17T10:45:47.491Z"
   },
   {
    "duration": 321,
    "start_time": "2022-05-17T10:45:47.709Z"
   },
   {
    "duration": 15,
    "start_time": "2022-05-17T10:45:48.032Z"
   },
   {
    "duration": 142,
    "start_time": "2022-05-17T10:45:48.049Z"
   },
   {
    "duration": 5,
    "start_time": "2022-05-17T10:45:48.193Z"
   },
   {
    "duration": 21,
    "start_time": "2022-05-17T10:45:48.199Z"
   },
   {
    "duration": 175,
    "start_time": "2022-05-17T10:45:48.222Z"
   },
   {
    "duration": 309,
    "start_time": "2022-05-17T10:45:48.399Z"
   },
   {
    "duration": 6,
    "start_time": "2022-05-17T10:45:48.710Z"
   },
   {
    "duration": 477,
    "start_time": "2022-05-17T10:45:48.718Z"
   },
   {
    "duration": 11,
    "start_time": "2022-05-17T10:45:49.197Z"
   },
   {
    "duration": 42,
    "start_time": "2022-05-17T10:45:49.209Z"
   },
   {
    "duration": 46,
    "start_time": "2022-05-17T10:45:49.253Z"
   },
   {
    "duration": 13,
    "start_time": "2022-05-17T10:45:49.303Z"
   },
   {
    "duration": 348,
    "start_time": "2022-05-17T10:45:49.318Z"
   },
   {
    "duration": 303,
    "start_time": "2022-05-17T10:45:49.668Z"
   }
  ],
  "kernelspec": {
   "display_name": "Python 3 (ipykernel)",
   "language": "python",
   "name": "python3"
  },
  "language_info": {
   "codemirror_mode": {
    "name": "ipython",
    "version": 3
   },
   "file_extension": ".py",
   "mimetype": "text/x-python",
   "name": "python",
   "nbconvert_exporter": "python",
   "pygments_lexer": "ipython3",
   "version": "3.9.5"
  },
  "toc": {
   "base_numbering": 1,
   "nav_menu": {},
   "number_sections": true,
   "sideBar": true,
   "skip_h1_title": true,
   "title_cell": "Table of Contents",
   "title_sidebar": "Contents",
   "toc_cell": false,
   "toc_position": {
    "height": "calc(100% - 180px)",
    "left": "10px",
    "top": "150px",
    "width": "263.188px"
   },
   "toc_section_display": true,
   "toc_window_display": false
  }
 },
 "nbformat": 4,
 "nbformat_minor": 2
}
